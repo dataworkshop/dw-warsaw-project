{
  "nbformat": 4,
  "nbformat_minor": 0,
  "metadata": {
    "kernelspec": {
      "display_name": "Python 3",
      "language": "python",
      "name": "python3"
    },
    "language_info": {
      "codemirror_mode": {
        "name": "ipython",
        "version": 3
      },
      "file_extension": ".py",
      "mimetype": "text/x-python",
      "name": "python",
      "nbconvert_exporter": "python",
      "pygments_lexer": "ipython3",
      "version": "3.7.4"
    },
    "colab": {
      "name": "LightGBM Smog.ipynb",
      "provenance": []
    }
  },
  "cells": [
    {
      "cell_type": "markdown",
      "metadata": {
        "id": "U-RRsqpr4ygf",
        "colab_type": "text"
      },
      "source": [
        "LightGBM"
      ]
    },
    {
      "cell_type": "code",
      "metadata": {
        "id": "3CswO6b54ygg",
        "colab_type": "code",
        "colab": {}
      },
      "source": [
        "import pandas as pd\n",
        "import matplotlib.pyplot as plt\n",
        "import numpy as np\n",
        "from sklearn.model_selection import train_test_split\n",
        "from matplotlib import pyplot as plt\n",
        "import lightgbm as lgb \n",
        "\n",
        "\n",
        "#conda install -c conda-forge lightgbm\n",
        "\n",
        "%matplotlib inline"
      ],
      "execution_count": 0,
      "outputs": []
    },
    {
      "cell_type": "code",
      "metadata": {
        "id": "yxrMWdQt4ygk",
        "colab_type": "code",
        "colab": {
          "base_uri": "https://localhost:8080/",
          "height": 394
        },
        "outputId": "2df6ee40-af70-4e9b-eb46-f78a4e2f41c7"
      },
      "source": [
        "#wczytanie danych pogodowych + darksky\n",
        "df = pd.read_csv('data_pm25_plus_darksky.csv',index_col = 0, header = 0)\n",
        "df.head()"
      ],
      "execution_count": 2,
      "outputs": [
        {
          "output_type": "execute_result",
          "data": {
            "text/html": [
              "<div>\n",
              "<style scoped>\n",
              "    .dataframe tbody tr th:only-of-type {\n",
              "        vertical-align: middle;\n",
              "    }\n",
              "\n",
              "    .dataframe tbody tr th {\n",
              "        vertical-align: top;\n",
              "    }\n",
              "\n",
              "    .dataframe thead th {\n",
              "        text-align: right;\n",
              "    }\n",
              "</style>\n",
              "<table border=\"1\" class=\"dataframe\">\n",
              "  <thead>\n",
              "    <tr style=\"text-align: right;\">\n",
              "      <th></th>\n",
              "      <th>date</th>\n",
              "      <th>pm25_nie</th>\n",
              "      <th>pm25_kon</th>\n",
              "      <th>pm25_wok</th>\n",
              "      <th>apparentTemperature</th>\n",
              "      <th>cloudCover</th>\n",
              "      <th>dewPoint</th>\n",
              "      <th>humidity</th>\n",
              "      <th>icon</th>\n",
              "      <th>ozone</th>\n",
              "      <th>precipAccumulation</th>\n",
              "      <th>precipIntensity</th>\n",
              "      <th>precipProbability</th>\n",
              "      <th>precipType</th>\n",
              "      <th>pressure</th>\n",
              "      <th>summary</th>\n",
              "      <th>temperature</th>\n",
              "      <th>time</th>\n",
              "      <th>uvIndex</th>\n",
              "      <th>visibility</th>\n",
              "      <th>windBearing</th>\n",
              "      <th>windGust</th>\n",
              "      <th>windSpeed</th>\n",
              "      <th>year</th>\n",
              "      <th>month</th>\n",
              "      <th>day</th>\n",
              "      <th>hour</th>\n",
              "      <th>day_of_week</th>\n",
              "      <th>no_of_week</th>\n",
              "      <th>winter_break</th>\n",
              "    </tr>\n",
              "  </thead>\n",
              "  <tbody>\n",
              "    <tr>\n",
              "      <th>0</th>\n",
              "      <td>2015-01-01 00:00:00</td>\n",
              "      <td>51.5034</td>\n",
              "      <td>78.085</td>\n",
              "      <td>51.320000</td>\n",
              "      <td>32.93</td>\n",
              "      <td>1.0</td>\n",
              "      <td>29.56</td>\n",
              "      <td>0.87</td>\n",
              "      <td>NaN</td>\n",
              "      <td>NaN</td>\n",
              "      <td>0.0</td>\n",
              "      <td>0.0</td>\n",
              "      <td>0.0</td>\n",
              "      <td>NaN</td>\n",
              "      <td>1027.7</td>\n",
              "      <td>NaN</td>\n",
              "      <td>32.93</td>\n",
              "      <td>1.420067e+09</td>\n",
              "      <td>0.0</td>\n",
              "      <td>2.733</td>\n",
              "      <td>260.0</td>\n",
              "      <td>6.93</td>\n",
              "      <td>6.93</td>\n",
              "      <td>2015</td>\n",
              "      <td>1</td>\n",
              "      <td>1</td>\n",
              "      <td>0</td>\n",
              "      <td>4</td>\n",
              "      <td>1</td>\n",
              "      <td>0</td>\n",
              "    </tr>\n",
              "    <tr>\n",
              "      <th>1</th>\n",
              "      <td>2015-01-01 01:00:00</td>\n",
              "      <td>71.8204</td>\n",
              "      <td>78.085</td>\n",
              "      <td>68.982316</td>\n",
              "      <td>33.90</td>\n",
              "      <td>1.0</td>\n",
              "      <td>31.11</td>\n",
              "      <td>0.89</td>\n",
              "      <td>NaN</td>\n",
              "      <td>NaN</td>\n",
              "      <td>0.0</td>\n",
              "      <td>0.0</td>\n",
              "      <td>0.0</td>\n",
              "      <td>NaN</td>\n",
              "      <td>1027.7</td>\n",
              "      <td>NaN</td>\n",
              "      <td>33.90</td>\n",
              "      <td>1.420070e+09</td>\n",
              "      <td>0.0</td>\n",
              "      <td>2.733</td>\n",
              "      <td>260.0</td>\n",
              "      <td>6.93</td>\n",
              "      <td>6.93</td>\n",
              "      <td>2015</td>\n",
              "      <td>1</td>\n",
              "      <td>1</td>\n",
              "      <td>1</td>\n",
              "      <td>4</td>\n",
              "      <td>1</td>\n",
              "      <td>0</td>\n",
              "    </tr>\n",
              "    <tr>\n",
              "      <th>2</th>\n",
              "      <td>2015-01-01 02:00:00</td>\n",
              "      <td>42.6996</td>\n",
              "      <td>64.460</td>\n",
              "      <td>48.707108</td>\n",
              "      <td>27.73</td>\n",
              "      <td>1.0</td>\n",
              "      <td>31.59</td>\n",
              "      <td>0.91</td>\n",
              "      <td>cloudy</td>\n",
              "      <td>NaN</td>\n",
              "      <td>0.0</td>\n",
              "      <td>0.0</td>\n",
              "      <td>0.0</td>\n",
              "      <td>NaN</td>\n",
              "      <td>1027.7</td>\n",
              "      <td>Overcast</td>\n",
              "      <td>33.81</td>\n",
              "      <td>1.420074e+09</td>\n",
              "      <td>0.0</td>\n",
              "      <td>2.733</td>\n",
              "      <td>260.0</td>\n",
              "      <td>6.93</td>\n",
              "      <td>6.93</td>\n",
              "      <td>2015</td>\n",
              "      <td>1</td>\n",
              "      <td>1</td>\n",
              "      <td>2</td>\n",
              "      <td>4</td>\n",
              "      <td>1</td>\n",
              "      <td>0</td>\n",
              "    </tr>\n",
              "    <tr>\n",
              "      <th>3</th>\n",
              "      <td>2015-01-01 03:00:00</td>\n",
              "      <td>38.2824</td>\n",
              "      <td>36.210</td>\n",
              "      <td>37.986883</td>\n",
              "      <td>27.73</td>\n",
              "      <td>1.0</td>\n",
              "      <td>32.76</td>\n",
              "      <td>0.96</td>\n",
              "      <td>fog</td>\n",
              "      <td>NaN</td>\n",
              "      <td>0.0</td>\n",
              "      <td>0.0</td>\n",
              "      <td>0.0</td>\n",
              "      <td>NaN</td>\n",
              "      <td>1027.7</td>\n",
              "      <td>Foggy</td>\n",
              "      <td>33.81</td>\n",
              "      <td>1.420078e+09</td>\n",
              "      <td>0.0</td>\n",
              "      <td>1.244</td>\n",
              "      <td>251.0</td>\n",
              "      <td>6.93</td>\n",
              "      <td>6.93</td>\n",
              "      <td>2015</td>\n",
              "      <td>1</td>\n",
              "      <td>1</td>\n",
              "      <td>3</td>\n",
              "      <td>4</td>\n",
              "      <td>1</td>\n",
              "      <td>0</td>\n",
              "    </tr>\n",
              "    <tr>\n",
              "      <th>4</th>\n",
              "      <td>2015-01-01 04:00:00</td>\n",
              "      <td>35.4194</td>\n",
              "      <td>29.585</td>\n",
              "      <td>33.675489</td>\n",
              "      <td>26.41</td>\n",
              "      <td>1.0</td>\n",
              "      <td>32.89</td>\n",
              "      <td>0.97</td>\n",
              "      <td>fog</td>\n",
              "      <td>NaN</td>\n",
              "      <td>0.0</td>\n",
              "      <td>0.0</td>\n",
              "      <td>0.0</td>\n",
              "      <td>NaN</td>\n",
              "      <td>1027.7</td>\n",
              "      <td>Foggy</td>\n",
              "      <td>33.73</td>\n",
              "      <td>1.420081e+09</td>\n",
              "      <td>0.0</td>\n",
              "      <td>1.152</td>\n",
              "      <td>251.0</td>\n",
              "      <td>8.96</td>\n",
              "      <td>8.96</td>\n",
              "      <td>2015</td>\n",
              "      <td>1</td>\n",
              "      <td>1</td>\n",
              "      <td>4</td>\n",
              "      <td>4</td>\n",
              "      <td>1</td>\n",
              "      <td>0</td>\n",
              "    </tr>\n",
              "  </tbody>\n",
              "</table>\n",
              "</div>"
            ],
            "text/plain": [
              "                  date  pm25_nie  ...  no_of_week  winter_break\n",
              "0  2015-01-01 00:00:00   51.5034  ...           1             0\n",
              "1  2015-01-01 01:00:00   71.8204  ...           1             0\n",
              "2  2015-01-01 02:00:00   42.6996  ...           1             0\n",
              "3  2015-01-01 03:00:00   38.2824  ...           1             0\n",
              "4  2015-01-01 04:00:00   35.4194  ...           1             0\n",
              "\n",
              "[5 rows x 30 columns]"
            ]
          },
          "metadata": {
            "tags": []
          },
          "execution_count": 2
        }
      ]
    },
    {
      "cell_type": "code",
      "metadata": {
        "id": "Yggm6KdIApKW",
        "colab_type": "code",
        "colab": {}
      },
      "source": [
        "df['date'] =  pd.to_datetime(df['date'], format='%Y-%m-%d %H:%M:%S')"
      ],
      "execution_count": 0,
      "outputs": []
    },
    {
      "cell_type": "code",
      "metadata": {
        "scrolled": true,
        "id": "zKLVpPym4ygn",
        "colab_type": "code",
        "colab": {
          "base_uri": "https://localhost:8080/",
          "height": 646
        },
        "outputId": "dcd62131-e58e-4af1-bb2a-96206f6ec49f"
      },
      "source": [
        "df.info()"
      ],
      "execution_count": 4,
      "outputs": [
        {
          "output_type": "stream",
          "text": [
            "<class 'pandas.core.frame.DataFrame'>\n",
            "Int64Index: 43853 entries, 0 to 43852\n",
            "Data columns (total 30 columns):\n",
            " #   Column               Non-Null Count  Dtype         \n",
            "---  ------               --------------  -----         \n",
            " 0   date                 43853 non-null  datetime64[ns]\n",
            " 1   pm25_nie             43853 non-null  float64       \n",
            " 2   pm25_kon             43853 non-null  float64       \n",
            " 3   pm25_wok             43853 non-null  float64       \n",
            " 4   apparentTemperature  43853 non-null  float64       \n",
            " 5   cloudCover           43853 non-null  float64       \n",
            " 6   dewPoint             43853 non-null  float64       \n",
            " 7   humidity             43853 non-null  float64       \n",
            " 8   icon                 42219 non-null  object        \n",
            " 9   ozone                13513 non-null  float64       \n",
            " 10  precipAccumulation   43853 non-null  float64       \n",
            " 11  precipIntensity      43853 non-null  float64       \n",
            " 12  precipProbability    43853 non-null  float64       \n",
            " 13  precipType           5442 non-null   object        \n",
            " 14  pressure             43853 non-null  float64       \n",
            " 15  summary              42219 non-null  object        \n",
            " 16  temperature          43853 non-null  float64       \n",
            " 17  time                 43853 non-null  float64       \n",
            " 18  uvIndex              43853 non-null  float64       \n",
            " 19  visibility           43853 non-null  float64       \n",
            " 20  windBearing          43853 non-null  float64       \n",
            " 21  windGust             43853 non-null  float64       \n",
            " 22  windSpeed            43853 non-null  float64       \n",
            " 23  year                 43853 non-null  int64         \n",
            " 24  month                43853 non-null  int64         \n",
            " 25  day                  43853 non-null  int64         \n",
            " 26  hour                 43853 non-null  int64         \n",
            " 27  day_of_week          43853 non-null  int64         \n",
            " 28  no_of_week           43853 non-null  int64         \n",
            " 29  winter_break         43853 non-null  int64         \n",
            "dtypes: datetime64[ns](1), float64(19), int64(7), object(3)\n",
            "memory usage: 10.4+ MB\n"
          ],
          "name": "stdout"
        }
      ]
    },
    {
      "cell_type": "code",
      "metadata": {
        "scrolled": false,
        "id": "-srYvaDs4ygp",
        "colab_type": "code",
        "colab": {
          "base_uri": "https://localhost:8080/",
          "height": 544
        },
        "outputId": "2d48abc6-9dd9-4570-ef43-c42dbe37da9a"
      },
      "source": [
        "df.isnull().sum()"
      ],
      "execution_count": 5,
      "outputs": [
        {
          "output_type": "execute_result",
          "data": {
            "text/plain": [
              "date                       0\n",
              "pm25_nie                   0\n",
              "pm25_kon                   0\n",
              "pm25_wok                   0\n",
              "apparentTemperature        0\n",
              "cloudCover                 0\n",
              "dewPoint                   0\n",
              "humidity                   0\n",
              "icon                    1634\n",
              "ozone                  30340\n",
              "precipAccumulation         0\n",
              "precipIntensity            0\n",
              "precipProbability          0\n",
              "precipType             38411\n",
              "pressure                   0\n",
              "summary                 1634\n",
              "temperature                0\n",
              "time                       0\n",
              "uvIndex                    0\n",
              "visibility                 0\n",
              "windBearing                0\n",
              "windGust                   0\n",
              "windSpeed                  0\n",
              "year                       0\n",
              "month                      0\n",
              "day                        0\n",
              "hour                       0\n",
              "day_of_week                0\n",
              "no_of_week                 0\n",
              "winter_break               0\n",
              "dtype: int64"
            ]
          },
          "metadata": {
            "tags": []
          },
          "execution_count": 5
        }
      ]
    },
    {
      "cell_type": "code",
      "metadata": {
        "id": "JFy41n9H4ygr",
        "colab_type": "code",
        "colab": {
          "base_uri": "https://localhost:8080/",
          "height": 476
        },
        "outputId": "c64e0ae7-bc85-426e-cb72-c6ecb999030b"
      },
      "source": [
        "#usuwanie kolumn zawierajacych puste wartosci\n",
        "df = df.dropna(axis=1, how='any')\n",
        "df.isnull().sum()"
      ],
      "execution_count": 6,
      "outputs": [
        {
          "output_type": "execute_result",
          "data": {
            "text/plain": [
              "date                   0\n",
              "pm25_nie               0\n",
              "pm25_kon               0\n",
              "pm25_wok               0\n",
              "apparentTemperature    0\n",
              "cloudCover             0\n",
              "dewPoint               0\n",
              "humidity               0\n",
              "precipAccumulation     0\n",
              "precipIntensity        0\n",
              "precipProbability      0\n",
              "pressure               0\n",
              "temperature            0\n",
              "time                   0\n",
              "uvIndex                0\n",
              "visibility             0\n",
              "windBearing            0\n",
              "windGust               0\n",
              "windSpeed              0\n",
              "year                   0\n",
              "month                  0\n",
              "day                    0\n",
              "hour                   0\n",
              "day_of_week            0\n",
              "no_of_week             0\n",
              "winter_break           0\n",
              "dtype: int64"
            ]
          },
          "metadata": {
            "tags": []
          },
          "execution_count": 6
        }
      ]
    },
    {
      "cell_type": "markdown",
      "metadata": {
        "id": "YxPFD0Z14yg2",
        "colab_type": "text"
      },
      "source": [
        "Standaryzacja - niepotrzebna dla LighGBM, podobnie jak w przypadku XGBoost\n",
        "\n",
        "(https://datascience.stackexchange.com/questions/22036/how-does-lightgbm-deal-with-value-scale)\n"
      ]
    },
    {
      "cell_type": "code",
      "metadata": {
        "id": "mlNwS80rAAe9",
        "colab_type": "code",
        "colab": {}
      },
      "source": [
        "from math import sqrt\n",
        "from sklearn.model_selection import KFold, cross_val_score, train_test_split\n",
        "from sklearn.metrics import mean_squared_error, mean_absolute_error, mean_squared_log_error, median_absolute_error, r2_score\n",
        "import lightgbm as lgb\n",
        "from datetime import datetime, timedelta\n",
        "\n",
        "from sklearn.model_selection import train_test_split"
      ],
      "execution_count": 0,
      "outputs": []
    },
    {
      "cell_type": "code",
      "metadata": {
        "id": "S2nyAUIbDrMK",
        "colab_type": "code",
        "colab": {}
      },
      "source": [
        "feats = ['apparentTemperature',\n",
        "        'cloudCover', 'dewPoint', 'humidity', \n",
        "        'precipAccumulation', 'precipIntensity', 'precipProbability',\n",
        "        'pressure', 'temperature', 'time', 'uvIndex',\n",
        "        'visibility', 'windBearing', 'windGust', 'windSpeed',\n",
        "        'year', 'month', 'day','hour', \n",
        "        'day_of_week', 'no_of_week', 'winter_break']"
      ],
      "execution_count": 0,
      "outputs": []
    },
    {
      "cell_type": "code",
      "metadata": {
        "id": "D3Lcb-tq4ygu",
        "colab_type": "code",
        "colab": {}
      },
      "source": [
        "#Podział zbioru na zmienne objaśniające i zmienną objaśnianą\n",
        "#transformacja log dla y\n",
        "y = np.log(df['pm25_nie'])\n",
        "X = df[feats].values"
      ],
      "execution_count": 0,
      "outputs": []
    },
    {
      "cell_type": "code",
      "metadata": {
        "id": "AhiboAfx4ygz",
        "colab_type": "code",
        "colab": {
          "base_uri": "https://localhost:8080/",
          "height": 51
        },
        "outputId": "cec5f86c-f2fc-42e4-e685-b934a48e1554"
      },
      "source": [
        "#rozmiar zbiorow\n",
        "print(y.shape)\n",
        "print(X.shape)"
      ],
      "execution_count": 52,
      "outputs": [
        {
          "output_type": "stream",
          "text": [
            "(43853,)\n",
            "(43853, 22)\n"
          ],
          "name": "stdout"
        }
      ]
    },
    {
      "cell_type": "code",
      "metadata": {
        "scrolled": true,
        "id": "NSGGvVtM4yg6",
        "colab_type": "code",
        "colab": {}
      },
      "source": [
        "#podział na zbiór treningowy i testowy\n",
        "\n",
        "X_train, X_test, y_train, y_test = train_test_split(X, y, test_size = 0.3, random_state = 123)"
      ],
      "execution_count": 0,
      "outputs": []
    },
    {
      "cell_type": "code",
      "metadata": {
        "id": "sF832Zhz4yg9",
        "colab_type": "code",
        "colab": {
          "base_uri": "https://localhost:8080/",
          "height": 85
        },
        "outputId": "8a8e437d-e6e0-4b58-f0e7-c2106350ea43"
      },
      "source": [
        "#Rozmiar zbiorów\n",
        "print(X_train.shape)\n",
        "print(X_test.shape)\n",
        "print(y_train.shape)\n",
        "print(y_test.shape)"
      ],
      "execution_count": 54,
      "outputs": [
        {
          "output_type": "stream",
          "text": [
            "(30697, 22)\n",
            "(13156, 22)\n",
            "(30697,)\n",
            "(13156,)\n"
          ],
          "name": "stdout"
        }
      ]
    },
    {
      "cell_type": "code",
      "metadata": {
        "id": "LQL8Pc2X_Vw5",
        "colab_type": "code",
        "colab": {}
      },
      "source": [
        "#funkcja do oceny modelu\n",
        "\n",
        "n_folds = 5\n",
        "\n",
        "def scoring_cv(model):\n",
        "    kf = KFold(n_folds, shuffle=True, random_state=42).get_n_splits(X_train)\n",
        "    rmse= np.sqrt(-cross_val_score(model, X_train, y_train, scoring=\"neg_mean_squared_error\", cv = kf))\n",
        "    r2= cross_val_score(model, X_train, y_train, scoring=\"r2\", cv = kf)\n",
        "    return(rmse, r2)"
      ],
      "execution_count": 0,
      "outputs": []
    },
    {
      "cell_type": "code",
      "metadata": {
        "id": "yEA8pwyk_cu8",
        "colab_type": "code",
        "colab": {}
      },
      "source": [
        "model = lgb.LGBMRegressor(objective='regression', random_state = 2020)"
      ],
      "execution_count": 0,
      "outputs": []
    },
    {
      "cell_type": "code",
      "metadata": {
        "id": "wqlDUXKk_riY",
        "colab_type": "code",
        "colab": {
          "base_uri": "https://localhost:8080/",
          "height": 51
        },
        "outputId": "48250954-b7c2-4a6d-ba46-d250d899fa1c"
      },
      "source": [
        "score = scoring_cv(model)\n",
        "print(\"LGBM rmse: {:.4f} ({:.4f}), r2: {:.1f}%\\n\" .format(score[0].mean(), score[0].std(), 100*score[1].mean()))"
      ],
      "execution_count": 57,
      "outputs": [
        {
          "output_type": "stream",
          "text": [
            "LGBM rmse: 0.2954 (0.0020), r2: 77.9%\n",
            "\n"
          ],
          "name": "stdout"
        }
      ]
    },
    {
      "cell_type": "code",
      "metadata": {
        "id": "1vKVdKcC4yhA",
        "colab_type": "code",
        "colab": {
          "base_uri": "https://localhost:8080/",
          "height": 136
        },
        "outputId": "9dd0d017-c51d-4778-9c0b-b0a9b9e95fd2"
      },
      "source": [
        "# fit model\n",
        "model.fit(X_train,y_train)"
      ],
      "execution_count": 58,
      "outputs": [
        {
          "output_type": "execute_result",
          "data": {
            "text/plain": [
              "LGBMRegressor(boosting_type='gbdt', class_weight=None, colsample_bytree=1.0,\n",
              "              importance_type='split', learning_rate=0.1, max_depth=-1,\n",
              "              min_child_samples=20, min_child_weight=0.001, min_split_gain=0.0,\n",
              "              n_estimators=100, n_jobs=-1, num_leaves=31,\n",
              "              objective='regression', random_state=2020, reg_alpha=0.0,\n",
              "              reg_lambda=0.0, silent=True, subsample=1.0,\n",
              "              subsample_for_bin=200000, subsample_freq=0)"
            ]
          },
          "metadata": {
            "tags": []
          },
          "execution_count": 58
        }
      ]
    },
    {
      "cell_type": "markdown",
      "metadata": {
        "id": "mxew9btdabfx",
        "colab_type": "text"
      },
      "source": [
        "PARAMETRY\n",
        "\n",
        "Control Parameters\n",
        "\n",
        "- max_depth: It describes the maximum depth of tree. This parameter is used to handle model overfitting. Any time you feel that your model is overfitted, my first advice will be to lower max_depth.\n",
        "- min_data_in_leaf: It is the minimum number of the records a leaf may have. The default value is 20, optimum value. It is also used to deal over fitting\n",
        "- feature_fraction: Used when your boosting(discussed later) is random forest. 0.8 feature fraction means LightGBM will select 80% of parameters randomly in each iteration for building trees.\n",
        "- bagging_fraction: specifies the fraction of data to be used for each iteration and is generally used to speed up the training and avoid overfitting.\n",
        "- early_stopping_round: This parameter can help you speed up your analysis. Model will stop training if one metric of one validation data doesn’t improve in last early_stopping_round rounds. This will reduce excessive iterations.\n",
        "- lambda: lambda specifies regularization. Typical value ranges from 0 to 1.\n",
        "- min_gain_to_split: This parameter will describe the minimum gain to make a split. It can used to control number of useful splits in tree.\n",
        "- max_cat_group: When the number of category is large, finding the split point on it is easily over-fitting. So LightGBM merges them into ‘max_cat_group’ groups, and finds the split points on the group boundaries, default:64"
      ]
    },
    {
      "cell_type": "markdown",
      "metadata": {
        "id": "XrhxdTLQYU86",
        "colab_type": "text"
      },
      "source": [
        "Najwazniejsze zmienne\n",
        "\n"
      ]
    },
    {
      "cell_type": "code",
      "metadata": {
        "id": "ki43CDsFCtOe",
        "colab_type": "code",
        "colab": {}
      },
      "source": [
        "import eli5\n",
        "from eli5.sklearn import PermutationImportance\n",
        "from eli5.permutation_importance import get_score_importances"
      ],
      "execution_count": 0,
      "outputs": []
    },
    {
      "cell_type": "code",
      "metadata": {
        "id": "nDyRejsiDBGn",
        "colab_type": "code",
        "colab": {
          "base_uri": "https://localhost:8080/",
          "height": 408
        },
        "outputId": "ebe53db5-c744-46fa-eeca-b9e907387f56"
      },
      "source": [
        "perm = PermutationImportance(model).fit(X_test, y_test)\n",
        "eli5.show_weights(perm, feature_names=feats, top=30)"
      ],
      "execution_count": 60,
      "outputs": [
        {
          "output_type": "execute_result",
          "data": {
            "text/html": [
              "\n",
              "    <style>\n",
              "    table.eli5-weights tr:hover {\n",
              "        filter: brightness(85%);\n",
              "    }\n",
              "</style>\n",
              "\n",
              "\n",
              "\n",
              "    \n",
              "\n",
              "    \n",
              "\n",
              "    \n",
              "\n",
              "    \n",
              "\n",
              "    \n",
              "\n",
              "    \n",
              "\n",
              "\n",
              "    \n",
              "\n",
              "    \n",
              "\n",
              "    \n",
              "\n",
              "    \n",
              "\n",
              "    \n",
              "\n",
              "    \n",
              "\n",
              "\n",
              "    \n",
              "\n",
              "    \n",
              "\n",
              "    \n",
              "\n",
              "    \n",
              "\n",
              "    \n",
              "        <table class=\"eli5-weights eli5-feature-importances\" style=\"border-collapse: collapse; border: none; margin-top: 0em; table-layout: auto;\">\n",
              "    <thead>\n",
              "    <tr style=\"border: none;\">\n",
              "        <th style=\"padding: 0 1em 0 0.5em; text-align: right; border: none;\">Weight</th>\n",
              "        <th style=\"padding: 0 0.5em 0 0.5em; text-align: left; border: none;\">Feature</th>\n",
              "    </tr>\n",
              "    </thead>\n",
              "    <tbody>\n",
              "    \n",
              "        <tr style=\"background-color: hsl(120, 100.00%, 80.00%); border: none;\">\n",
              "            <td style=\"padding: 0 1em 0 0.5em; text-align: right; border: none;\">\n",
              "                0.2880\n",
              "                \n",
              "                    &plusmn; 0.0129\n",
              "                \n",
              "            </td>\n",
              "            <td style=\"padding: 0 0.5em 0 0.5em; text-align: left; border: none;\">\n",
              "                no_of_week\n",
              "            </td>\n",
              "        </tr>\n",
              "    \n",
              "        <tr style=\"background-color: hsl(120, 100.00%, 86.29%); border: none;\">\n",
              "            <td style=\"padding: 0 1em 0 0.5em; text-align: right; border: none;\">\n",
              "                0.1680\n",
              "                \n",
              "                    &plusmn; 0.0072\n",
              "                \n",
              "            </td>\n",
              "            <td style=\"padding: 0 0.5em 0 0.5em; text-align: left; border: none;\">\n",
              "                windSpeed\n",
              "            </td>\n",
              "        </tr>\n",
              "    \n",
              "        <tr style=\"background-color: hsl(120, 100.00%, 88.16%); border: none;\">\n",
              "            <td style=\"padding: 0 1em 0 0.5em; text-align: right; border: none;\">\n",
              "                0.1363\n",
              "                \n",
              "                    &plusmn; 0.0037\n",
              "                \n",
              "            </td>\n",
              "            <td style=\"padding: 0 0.5em 0 0.5em; text-align: left; border: none;\">\n",
              "                visibility\n",
              "            </td>\n",
              "        </tr>\n",
              "    \n",
              "        <tr style=\"background-color: hsl(120, 100.00%, 89.10%); border: none;\">\n",
              "            <td style=\"padding: 0 1em 0 0.5em; text-align: right; border: none;\">\n",
              "                0.1211\n",
              "                \n",
              "                    &plusmn; 0.0026\n",
              "                \n",
              "            </td>\n",
              "            <td style=\"padding: 0 0.5em 0 0.5em; text-align: left; border: none;\">\n",
              "                time\n",
              "            </td>\n",
              "        </tr>\n",
              "    \n",
              "        <tr style=\"background-color: hsl(120, 100.00%, 90.20%); border: none;\">\n",
              "            <td style=\"padding: 0 1em 0 0.5em; text-align: right; border: none;\">\n",
              "                0.1039\n",
              "                \n",
              "                    &plusmn; 0.0061\n",
              "                \n",
              "            </td>\n",
              "            <td style=\"padding: 0 0.5em 0 0.5em; text-align: left; border: none;\">\n",
              "                windBearing\n",
              "            </td>\n",
              "        </tr>\n",
              "    \n",
              "        <tr style=\"background-color: hsl(120, 100.00%, 90.73%); border: none;\">\n",
              "            <td style=\"padding: 0 1em 0 0.5em; text-align: right; border: none;\">\n",
              "                0.0960\n",
              "                \n",
              "                    &plusmn; 0.0037\n",
              "                \n",
              "            </td>\n",
              "            <td style=\"padding: 0 0.5em 0 0.5em; text-align: left; border: none;\">\n",
              "                dewPoint\n",
              "            </td>\n",
              "        </tr>\n",
              "    \n",
              "        <tr style=\"background-color: hsl(120, 100.00%, 92.20%); border: none;\">\n",
              "            <td style=\"padding: 0 1em 0 0.5em; text-align: right; border: none;\">\n",
              "                0.0751\n",
              "                \n",
              "                    &plusmn; 0.0023\n",
              "                \n",
              "            </td>\n",
              "            <td style=\"padding: 0 0.5em 0 0.5em; text-align: left; border: none;\">\n",
              "                month\n",
              "            </td>\n",
              "        </tr>\n",
              "    \n",
              "        <tr style=\"background-color: hsl(120, 100.00%, 94.49%); border: none;\">\n",
              "            <td style=\"padding: 0 1em 0 0.5em; text-align: right; border: none;\">\n",
              "                0.0457\n",
              "                \n",
              "                    &plusmn; 0.0016\n",
              "                \n",
              "            </td>\n",
              "            <td style=\"padding: 0 0.5em 0 0.5em; text-align: left; border: none;\">\n",
              "                humidity\n",
              "            </td>\n",
              "        </tr>\n",
              "    \n",
              "        <tr style=\"background-color: hsl(120, 100.00%, 95.30%); border: none;\">\n",
              "            <td style=\"padding: 0 1em 0 0.5em; text-align: right; border: none;\">\n",
              "                0.0364\n",
              "                \n",
              "                    &plusmn; 0.0019\n",
              "                \n",
              "            </td>\n",
              "            <td style=\"padding: 0 0.5em 0 0.5em; text-align: left; border: none;\">\n",
              "                pressure\n",
              "            </td>\n",
              "        </tr>\n",
              "    \n",
              "        <tr style=\"background-color: hsl(120, 100.00%, 95.57%); border: none;\">\n",
              "            <td style=\"padding: 0 1em 0 0.5em; text-align: right; border: none;\">\n",
              "                0.0334\n",
              "                \n",
              "                    &plusmn; 0.0028\n",
              "                \n",
              "            </td>\n",
              "            <td style=\"padding: 0 0.5em 0 0.5em; text-align: left; border: none;\">\n",
              "                hour\n",
              "            </td>\n",
              "        </tr>\n",
              "    \n",
              "        <tr style=\"background-color: hsl(120, 100.00%, 96.64%); border: none;\">\n",
              "            <td style=\"padding: 0 1em 0 0.5em; text-align: right; border: none;\">\n",
              "                0.0226\n",
              "                \n",
              "                    &plusmn; 0.0012\n",
              "                \n",
              "            </td>\n",
              "            <td style=\"padding: 0 0.5em 0 0.5em; text-align: left; border: none;\">\n",
              "                windGust\n",
              "            </td>\n",
              "        </tr>\n",
              "    \n",
              "        <tr style=\"background-color: hsl(120, 100.00%, 96.75%); border: none;\">\n",
              "            <td style=\"padding: 0 1em 0 0.5em; text-align: right; border: none;\">\n",
              "                0.0215\n",
              "                \n",
              "                    &plusmn; 0.0013\n",
              "                \n",
              "            </td>\n",
              "            <td style=\"padding: 0 0.5em 0 0.5em; text-align: left; border: none;\">\n",
              "                day_of_week\n",
              "            </td>\n",
              "        </tr>\n",
              "    \n",
              "        <tr style=\"background-color: hsl(120, 100.00%, 97.07%); border: none;\">\n",
              "            <td style=\"padding: 0 1em 0 0.5em; text-align: right; border: none;\">\n",
              "                0.0185\n",
              "                \n",
              "                    &plusmn; 0.0011\n",
              "                \n",
              "            </td>\n",
              "            <td style=\"padding: 0 0.5em 0 0.5em; text-align: left; border: none;\">\n",
              "                day\n",
              "            </td>\n",
              "        </tr>\n",
              "    \n",
              "        <tr style=\"background-color: hsl(120, 100.00%, 97.28%); border: none;\">\n",
              "            <td style=\"padding: 0 1em 0 0.5em; text-align: right; border: none;\">\n",
              "                0.0167\n",
              "                \n",
              "                    &plusmn; 0.0009\n",
              "                \n",
              "            </td>\n",
              "            <td style=\"padding: 0 0.5em 0 0.5em; text-align: left; border: none;\">\n",
              "                apparentTemperature\n",
              "            </td>\n",
              "        </tr>\n",
              "    \n",
              "        <tr style=\"background-color: hsl(120, 100.00%, 97.85%); border: none;\">\n",
              "            <td style=\"padding: 0 1em 0 0.5em; text-align: right; border: none;\">\n",
              "                0.0119\n",
              "                \n",
              "                    &plusmn; 0.0003\n",
              "                \n",
              "            </td>\n",
              "            <td style=\"padding: 0 0.5em 0 0.5em; text-align: left; border: none;\">\n",
              "                cloudCover\n",
              "            </td>\n",
              "        </tr>\n",
              "    \n",
              "        <tr style=\"background-color: hsl(120, 100.00%, 98.14%); border: none;\">\n",
              "            <td style=\"padding: 0 1em 0 0.5em; text-align: right; border: none;\">\n",
              "                0.0097\n",
              "                \n",
              "                    &plusmn; 0.0004\n",
              "                \n",
              "            </td>\n",
              "            <td style=\"padding: 0 0.5em 0 0.5em; text-align: left; border: none;\">\n",
              "                uvIndex\n",
              "            </td>\n",
              "        </tr>\n",
              "    \n",
              "        <tr style=\"background-color: hsl(120, 100.00%, 98.15%); border: none;\">\n",
              "            <td style=\"padding: 0 1em 0 0.5em; text-align: right; border: none;\">\n",
              "                0.0096\n",
              "                \n",
              "                    &plusmn; 0.0008\n",
              "                \n",
              "            </td>\n",
              "            <td style=\"padding: 0 0.5em 0 0.5em; text-align: left; border: none;\">\n",
              "                temperature\n",
              "            </td>\n",
              "        </tr>\n",
              "    \n",
              "        <tr style=\"background-color: hsl(120, 100.00%, 99.10%); border: none;\">\n",
              "            <td style=\"padding: 0 1em 0 0.5em; text-align: right; border: none;\">\n",
              "                0.0034\n",
              "                \n",
              "                    &plusmn; 0.0005\n",
              "                \n",
              "            </td>\n",
              "            <td style=\"padding: 0 0.5em 0 0.5em; text-align: left; border: none;\">\n",
              "                precipIntensity\n",
              "            </td>\n",
              "        </tr>\n",
              "    \n",
              "        <tr style=\"background-color: hsl(120, 100.00%, 99.28%); border: none;\">\n",
              "            <td style=\"padding: 0 1em 0 0.5em; text-align: right; border: none;\">\n",
              "                0.0025\n",
              "                \n",
              "                    &plusmn; 0.0004\n",
              "                \n",
              "            </td>\n",
              "            <td style=\"padding: 0 0.5em 0 0.5em; text-align: left; border: none;\">\n",
              "                precipProbability\n",
              "            </td>\n",
              "        </tr>\n",
              "    \n",
              "        <tr style=\"background-color: hsl(120, 100.00%, 99.84%); border: none;\">\n",
              "            <td style=\"padding: 0 1em 0 0.5em; text-align: right; border: none;\">\n",
              "                0.0003\n",
              "                \n",
              "                    &plusmn; 0.0000\n",
              "                \n",
              "            </td>\n",
              "            <td style=\"padding: 0 0.5em 0 0.5em; text-align: left; border: none;\">\n",
              "                year\n",
              "            </td>\n",
              "        </tr>\n",
              "    \n",
              "        <tr style=\"background-color: hsl(120, 100.00%, 99.90%); border: none;\">\n",
              "            <td style=\"padding: 0 1em 0 0.5em; text-align: right; border: none;\">\n",
              "                0.0001\n",
              "                \n",
              "                    &plusmn; 0.0000\n",
              "                \n",
              "            </td>\n",
              "            <td style=\"padding: 0 0.5em 0 0.5em; text-align: left; border: none;\">\n",
              "                precipAccumulation\n",
              "            </td>\n",
              "        </tr>\n",
              "    \n",
              "        <tr style=\"background-color: hsl(120, 100.00%, 99.91%); border: none;\">\n",
              "            <td style=\"padding: 0 1em 0 0.5em; text-align: right; border: none;\">\n",
              "                0.0001\n",
              "                \n",
              "                    &plusmn; 0.0000\n",
              "                \n",
              "            </td>\n",
              "            <td style=\"padding: 0 0.5em 0 0.5em; text-align: left; border: none;\">\n",
              "                winter_break\n",
              "            </td>\n",
              "        </tr>\n",
              "    \n",
              "    \n",
              "    </tbody>\n",
              "</table>\n",
              "    \n",
              "\n",
              "    \n",
              "\n",
              "\n",
              "    \n",
              "\n",
              "    \n",
              "\n",
              "    \n",
              "\n",
              "    \n",
              "\n",
              "    \n",
              "\n",
              "    \n",
              "\n",
              "\n",
              "\n"
            ],
            "text/plain": [
              "<IPython.core.display.HTML object>"
            ]
          },
          "metadata": {
            "tags": []
          },
          "execution_count": 60
        }
      ]
    },
    {
      "cell_type": "markdown",
      "metadata": {
        "id": "uykyiTX3ZdCD",
        "colab_type": "text"
      },
      "source": [
        "Optymalizacja"
      ]
    },
    {
      "cell_type": "code",
      "metadata": {
        "id": "68ya4J_cZp0r",
        "colab_type": "code",
        "colab": {}
      },
      "source": [
        "\n",
        "\n",
        "from hyperopt import hp\n",
        "from hyperopt import hp, fmin, tpe, STATUS_OK, Trials, anneal\n",
        "from functools import partial\n"
      ],
      "execution_count": 0,
      "outputs": []
    },
    {
      "cell_type": "code",
      "metadata": {
        "id": "VZu8nP9fHCy0",
        "colab_type": "code",
        "colab": {
          "base_uri": "https://localhost:8080/",
          "height": 411
        },
        "outputId": "c4d371cf-438f-4855-aa93-819a7495d3c8"
      },
      "source": [
        "\n",
        "\n",
        "def objective_lgb(space):\n",
        "    \n",
        "    lgb_params = {\n",
        "        'max_depth': int(space['max_depth']),\n",
        "        'num_leaves': int(space['num_leaves']),\n",
        "        'colsample_bytree': space['colsample_bytree'],\n",
        "        'learning_rate': space['learning_rate'],\n",
        "        'subsample': space['subsample'],\n",
        "        'subsample_for_bin': int(space['subsample_for_bin']),\n",
        "        'min_child_weight': int(space['min_child_weight']),\n",
        "        'min_data_in_leaf': int(space['min_data_in_leaf']),\n",
        "        'reg_alpha': space['reg_alpha'],\n",
        "        'reg_lambda': space['reg_lambda'],\n",
        "        'n_estimators': 100\n",
        "    }\n",
        "\n",
        "    model = lgb.LGBMRegressor(**lgb_params)\n",
        "    model.fit(X_train,y_train)\n",
        "    y_pred = model.predict(X_test)\n",
        "    \n",
        "    score = mean_squared_error(y_test, y_pred)\n",
        "    \n",
        "    print(\"SCORE: {0}\".format(score))\n",
        "    \n",
        "    return{'loss':score, 'status': STATUS_OK }\n",
        "\n",
        "\n",
        "space ={\n",
        "    'max_depth': hp.quniform ('x_max_depth', 5, 20, 1),\n",
        "    'num_leaves': hp.quniform('num_leaves', 30, 150, 1),\n",
        "    'colsample_bytree': hp.uniform('x_colsample_bytree', 0.5, 1),\n",
        "    'learning_rate': hp.loguniform('learning_rate', np.log(0.01), np.log(0.2)),\n",
        "    'subsample': hp.uniform('subsample', 0.5, 1), \n",
        "    'subsample_for_bin': hp.quniform('subsample_for_bin', 20000, 300000, 20000),\n",
        "    'min_child_weight': hp.loguniform('min_child_weight', -16, 5), #also aliases to min_sum_hessian\n",
        "    'min_data_in_leaf': hp.qloguniform('min_data_in_leaf', 0, 6, 1),\n",
        "    'reg_alpha': hp.choice('reg_alpha', [0, hp.loguniform('reg_alpha_positive', -16, 2)]),\n",
        "    'reg_lambda': hp.choice('reg_lambda', [0, hp.loguniform('reg_lambda_positive', -16, 2)]),\n",
        "    \n",
        "}\n",
        "\n",
        "\n",
        "trials = Trials()\n",
        "best_params = fmin(fn=objective_lgb,\n",
        "            space=space,\n",
        "            algo=partial(tpe.suggest, n_startup_jobs=1),\n",
        "            max_evals=20,\n",
        "            trials=trials)\n",
        "\n",
        "print(\"The best params: \", best_params)"
      ],
      "execution_count": 66,
      "outputs": [
        {
          "output_type": "stream",
          "text": [
            "SCORE: 0.1819380560612373\n",
            "SCORE: 0.18368127998205175\n",
            "SCORE: 0.1737290388907337\n",
            "SCORE: 0.07190731368260189\n",
            "SCORE: 0.06969475499934846\n",
            "SCORE: 0.06376675670175756\n",
            "SCORE: 0.07747720385064097\n",
            "SCORE: 0.07977465427383874\n",
            "SCORE: 0.09364990264933055\n",
            "SCORE: 0.07055277927869116\n",
            "SCORE: 0.08990126304296948\n",
            "SCORE: 0.07523442554765072\n",
            "SCORE: 0.11266538393074516\n",
            "SCORE: 0.1549276995380531\n",
            "SCORE: 0.06454689634373252\n",
            "SCORE: 0.06981448936710373\n",
            "SCORE: 0.07560418006514368\n",
            "SCORE: 0.0657418812216753\n",
            "SCORE: 0.07104200980624606\n",
            "SCORE: 0.0649304889674812\n",
            "100%|██████████| 20/20 [00:19<00:00,  1.03it/s, best loss: 0.06376675670175756]\n",
            "The best params:  {'learning_rate': 0.19896738552850987, 'min_child_weight': 3.11539515591583e-05, 'min_data_in_leaf': 56.0, 'num_leaves': 90.0, 'reg_alpha': 1, 'reg_alpha_positive': 7.386442781538121, 'reg_lambda': 0, 'subsample': 0.5159356598472035, 'subsample_for_bin': 180000.0, 'x_colsample_bytree': 0.6813827316692698, 'x_max_depth': 12.0}\n"
          ],
          "name": "stdout"
        }
      ]
    },
    {
      "cell_type": "code",
      "metadata": {
        "id": "kZfp_7nXHC8G",
        "colab_type": "code",
        "colab": {
          "base_uri": "https://localhost:8080/",
          "height": 629
        },
        "outputId": "77e1e1f2-54b5-4d69-c0fe-fafde17a0f1e"
      },
      "source": [
        "trials.best_trial"
      ],
      "execution_count": 67,
      "outputs": [
        {
          "output_type": "execute_result",
          "data": {
            "text/plain": [
              "{'book_time': datetime.datetime(2020, 4, 7, 15, 58, 31, 334000),\n",
              " 'exp_key': None,\n",
              " 'misc': {'cmd': ('domain_attachment', 'FMinIter_Domain'),\n",
              "  'idxs': {'learning_rate': [5],\n",
              "   'min_child_weight': [5],\n",
              "   'min_data_in_leaf': [5],\n",
              "   'num_leaves': [5],\n",
              "   'reg_alpha': [5],\n",
              "   'reg_alpha_positive': [5],\n",
              "   'reg_lambda': [5],\n",
              "   'reg_lambda_positive': [],\n",
              "   'subsample': [5],\n",
              "   'subsample_for_bin': [5],\n",
              "   'x_colsample_bytree': [5],\n",
              "   'x_max_depth': [5]},\n",
              "  'tid': 5,\n",
              "  'vals': {'learning_rate': [0.19896738552850987],\n",
              "   'min_child_weight': [3.11539515591583e-05],\n",
              "   'min_data_in_leaf': [56.0],\n",
              "   'num_leaves': [90.0],\n",
              "   'reg_alpha': [1],\n",
              "   'reg_alpha_positive': [7.386442781538121],\n",
              "   'reg_lambda': [0],\n",
              "   'reg_lambda_positive': [],\n",
              "   'subsample': [0.5159356598472035],\n",
              "   'subsample_for_bin': [180000.0],\n",
              "   'x_colsample_bytree': [0.6813827316692698],\n",
              "   'x_max_depth': [12.0]},\n",
              "  'workdir': None},\n",
              " 'owner': None,\n",
              " 'refresh_time': datetime.datetime(2020, 4, 7, 15, 58, 32, 307000),\n",
              " 'result': {'loss': 0.06376675670175756, 'status': 'ok'},\n",
              " 'spec': None,\n",
              " 'state': 2,\n",
              " 'tid': 5,\n",
              " 'version': 0}"
            ]
          },
          "metadata": {
            "tags": []
          },
          "execution_count": 67
        }
      ]
    },
    {
      "cell_type": "markdown",
      "metadata": {
        "id": "VzbvBIub4yhU",
        "colab_type": "text"
      },
      "source": [
        ""
      ]
    },
    {
      "cell_type": "code",
      "metadata": {
        "id": "nWh-6WCU4yhW",
        "colab_type": "code",
        "colab": {}
      },
      "source": [
        "model_lgb = lgb.LGBMRegressor( random_state=2020,\n",
        "              max_depth = 12,\n",
        "              colsample_bytree = 0.6813827316692698,\n",
        "              learning_rate = 0.19896738552850987,\n",
        "              subsample = 0.5159356598472035,\n",
        "              subsample_for_bin = 180000,\n",
        "              min_child_weight = 3.11539515591583e-05,\n",
        "              min_data_in_leaf = 56,\n",
        "              reg_alpha = 1,\n",
        "              reg_lambda = 0,\n",
        "              n_estimators=100)"
      ],
      "execution_count": 0,
      "outputs": []
    },
    {
      "cell_type": "code",
      "metadata": {
        "id": "p2E9Rt6M4yhc",
        "colab_type": "code",
        "colab": {
          "base_uri": "https://localhost:8080/",
          "height": 51
        },
        "outputId": "252de926-bab2-4eff-96cb-4983b158bc64"
      },
      "source": [
        "\n",
        "score = scoring_cv(model_lgb)\n",
        "print(\"LGBM rmse: {:.4f} ({:.4f}), r2: {:.1f}%\\n\" .format(score[0].mean(), score[0].std(), 100*score[1].mean()))"
      ],
      "execution_count": 77,
      "outputs": [
        {
          "output_type": "stream",
          "text": [
            "LGBM rmse: 0.2782 (0.0018), r2: 80.4%\n",
            "\n"
          ],
          "name": "stdout"
        }
      ]
    }
  ]
}