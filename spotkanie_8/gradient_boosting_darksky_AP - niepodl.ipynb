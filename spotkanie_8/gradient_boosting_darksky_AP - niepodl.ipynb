{
 "cells": [
  {
   "cell_type": "code",
   "execution_count": 1,
   "metadata": {},
   "outputs": [],
   "source": [
    "import pandas as pd\n",
    "import numpy as np\n",
    "import seaborn as sns\n",
    "import datetime\n",
    "from scipy import stats\n",
    "from matplotlib import pyplot as plt\n",
    "\n",
    "%matplotlib inline"
   ]
  },
  {
   "cell_type": "markdown",
   "metadata": {},
   "source": [
    "Wzmocnienie (ang. boosting) - dotyczy każdej metody zespołowej łączącej kilka klasyfikatorów słabych w klasyfikator silny. \n",
    "                              Podstawową koncepcją w wiekszości metod wzmocnienia jest sekwencyjne uczenie predyktorów w taki\n",
    "                              sposób, że każdy następny próbuje korygować poprzednika. Istnieje kilka metod wzmocnienia, do tej\n",
    "                              pory jednak najpopularniejsze pozostają algorytmy:\n",
    " - AdaBoost\n",
    " - wzmocnienie gradientowe (ang. gradient boosting)"
   ]
  },
  {
   "cell_type": "code",
   "execution_count": 2,
   "metadata": {},
   "outputs": [
    {
     "data": {
      "text/html": [
       "<div>\n",
       "<style scoped>\n",
       "    .dataframe tbody tr th:only-of-type {\n",
       "        vertical-align: middle;\n",
       "    }\n",
       "\n",
       "    .dataframe tbody tr th {\n",
       "        vertical-align: top;\n",
       "    }\n",
       "\n",
       "    .dataframe thead th {\n",
       "        text-align: right;\n",
       "    }\n",
       "</style>\n",
       "<table border=\"1\" class=\"dataframe\">\n",
       "  <thead>\n",
       "    <tr style=\"text-align: right;\">\n",
       "      <th></th>\n",
       "      <th>Unnamed: 0</th>\n",
       "      <th>date</th>\n",
       "      <th>pm25_nie</th>\n",
       "      <th>pm25_kon</th>\n",
       "      <th>pm25_wok</th>\n",
       "      <th>apparentTemperature</th>\n",
       "      <th>cloudCover</th>\n",
       "      <th>dewPoint</th>\n",
       "      <th>humidity</th>\n",
       "      <th>icon</th>\n",
       "      <th>...</th>\n",
       "      <th>windBearing</th>\n",
       "      <th>windGust</th>\n",
       "      <th>windSpeed</th>\n",
       "      <th>year</th>\n",
       "      <th>month</th>\n",
       "      <th>day</th>\n",
       "      <th>hour</th>\n",
       "      <th>day_of_week</th>\n",
       "      <th>no_of_week</th>\n",
       "      <th>winter_break</th>\n",
       "    </tr>\n",
       "  </thead>\n",
       "  <tbody>\n",
       "    <tr>\n",
       "      <td>0</td>\n",
       "      <td>0</td>\n",
       "      <td>2015-01-01 00:00:00</td>\n",
       "      <td>51.5034</td>\n",
       "      <td>78.085</td>\n",
       "      <td>51.320000</td>\n",
       "      <td>32.93</td>\n",
       "      <td>1.0</td>\n",
       "      <td>29.56</td>\n",
       "      <td>0.87</td>\n",
       "      <td>NaN</td>\n",
       "      <td>...</td>\n",
       "      <td>260.0</td>\n",
       "      <td>6.93</td>\n",
       "      <td>6.93</td>\n",
       "      <td>2015</td>\n",
       "      <td>1</td>\n",
       "      <td>1</td>\n",
       "      <td>0</td>\n",
       "      <td>4</td>\n",
       "      <td>1</td>\n",
       "      <td>0</td>\n",
       "    </tr>\n",
       "    <tr>\n",
       "      <td>1</td>\n",
       "      <td>1</td>\n",
       "      <td>2015-01-01 01:00:00</td>\n",
       "      <td>71.8204</td>\n",
       "      <td>78.085</td>\n",
       "      <td>68.982316</td>\n",
       "      <td>33.90</td>\n",
       "      <td>1.0</td>\n",
       "      <td>31.11</td>\n",
       "      <td>0.89</td>\n",
       "      <td>NaN</td>\n",
       "      <td>...</td>\n",
       "      <td>260.0</td>\n",
       "      <td>6.93</td>\n",
       "      <td>6.93</td>\n",
       "      <td>2015</td>\n",
       "      <td>1</td>\n",
       "      <td>1</td>\n",
       "      <td>1</td>\n",
       "      <td>4</td>\n",
       "      <td>1</td>\n",
       "      <td>0</td>\n",
       "    </tr>\n",
       "    <tr>\n",
       "      <td>2</td>\n",
       "      <td>2</td>\n",
       "      <td>2015-01-01 02:00:00</td>\n",
       "      <td>42.6996</td>\n",
       "      <td>64.460</td>\n",
       "      <td>48.707108</td>\n",
       "      <td>27.73</td>\n",
       "      <td>1.0</td>\n",
       "      <td>31.59</td>\n",
       "      <td>0.91</td>\n",
       "      <td>cloudy</td>\n",
       "      <td>...</td>\n",
       "      <td>260.0</td>\n",
       "      <td>6.93</td>\n",
       "      <td>6.93</td>\n",
       "      <td>2015</td>\n",
       "      <td>1</td>\n",
       "      <td>1</td>\n",
       "      <td>2</td>\n",
       "      <td>4</td>\n",
       "      <td>1</td>\n",
       "      <td>0</td>\n",
       "    </tr>\n",
       "    <tr>\n",
       "      <td>3</td>\n",
       "      <td>3</td>\n",
       "      <td>2015-01-01 03:00:00</td>\n",
       "      <td>38.2824</td>\n",
       "      <td>36.210</td>\n",
       "      <td>37.986883</td>\n",
       "      <td>27.73</td>\n",
       "      <td>1.0</td>\n",
       "      <td>32.76</td>\n",
       "      <td>0.96</td>\n",
       "      <td>fog</td>\n",
       "      <td>...</td>\n",
       "      <td>251.0</td>\n",
       "      <td>6.93</td>\n",
       "      <td>6.93</td>\n",
       "      <td>2015</td>\n",
       "      <td>1</td>\n",
       "      <td>1</td>\n",
       "      <td>3</td>\n",
       "      <td>4</td>\n",
       "      <td>1</td>\n",
       "      <td>0</td>\n",
       "    </tr>\n",
       "    <tr>\n",
       "      <td>4</td>\n",
       "      <td>4</td>\n",
       "      <td>2015-01-01 04:00:00</td>\n",
       "      <td>35.4194</td>\n",
       "      <td>29.585</td>\n",
       "      <td>33.675489</td>\n",
       "      <td>26.41</td>\n",
       "      <td>1.0</td>\n",
       "      <td>32.89</td>\n",
       "      <td>0.97</td>\n",
       "      <td>fog</td>\n",
       "      <td>...</td>\n",
       "      <td>251.0</td>\n",
       "      <td>8.96</td>\n",
       "      <td>8.96</td>\n",
       "      <td>2015</td>\n",
       "      <td>1</td>\n",
       "      <td>1</td>\n",
       "      <td>4</td>\n",
       "      <td>4</td>\n",
       "      <td>1</td>\n",
       "      <td>0</td>\n",
       "    </tr>\n",
       "  </tbody>\n",
       "</table>\n",
       "<p>5 rows × 31 columns</p>\n",
       "</div>"
      ],
      "text/plain": [
       "   Unnamed: 0                 date  pm25_nie  pm25_kon   pm25_wok  \\\n",
       "0           0  2015-01-01 00:00:00   51.5034    78.085  51.320000   \n",
       "1           1  2015-01-01 01:00:00   71.8204    78.085  68.982316   \n",
       "2           2  2015-01-01 02:00:00   42.6996    64.460  48.707108   \n",
       "3           3  2015-01-01 03:00:00   38.2824    36.210  37.986883   \n",
       "4           4  2015-01-01 04:00:00   35.4194    29.585  33.675489   \n",
       "\n",
       "   apparentTemperature  cloudCover  dewPoint  humidity    icon  ...  \\\n",
       "0                32.93         1.0     29.56      0.87     NaN  ...   \n",
       "1                33.90         1.0     31.11      0.89     NaN  ...   \n",
       "2                27.73         1.0     31.59      0.91  cloudy  ...   \n",
       "3                27.73         1.0     32.76      0.96     fog  ...   \n",
       "4                26.41         1.0     32.89      0.97     fog  ...   \n",
       "\n",
       "   windBearing  windGust  windSpeed  year month  day hour  day_of_week  \\\n",
       "0        260.0      6.93       6.93  2015     1    1    0            4   \n",
       "1        260.0      6.93       6.93  2015     1    1    1            4   \n",
       "2        260.0      6.93       6.93  2015     1    1    2            4   \n",
       "3        251.0      6.93       6.93  2015     1    1    3            4   \n",
       "4        251.0      8.96       8.96  2015     1    1    4            4   \n",
       "\n",
       "   no_of_week  winter_break  \n",
       "0           1             0  \n",
       "1           1             0  \n",
       "2           1             0  \n",
       "3           1             0  \n",
       "4           1             0  \n",
       "\n",
       "[5 rows x 31 columns]"
      ]
     },
     "execution_count": 2,
     "metadata": {},
     "output_type": "execute_result"
    }
   ],
   "source": [
    "#wczytuje dane \n",
    "darksky_data = pd.read_csv('data_pm25_plus_darksky.csv', index_col=False)\n",
    "darksky_data.head()"
   ]
  },
  {
   "cell_type": "code",
   "execution_count": 3,
   "metadata": {},
   "outputs": [
    {
     "name": "stdout",
     "output_type": "stream",
     "text": [
      "<class 'pandas.core.frame.DataFrame'>\n",
      "RangeIndex: 43853 entries, 0 to 43852\n",
      "Data columns (total 31 columns):\n",
      "Unnamed: 0             43853 non-null int64\n",
      "date                   43853 non-null object\n",
      "pm25_nie               43853 non-null float64\n",
      "pm25_kon               43853 non-null float64\n",
      "pm25_wok               43853 non-null float64\n",
      "apparentTemperature    43853 non-null float64\n",
      "cloudCover             43853 non-null float64\n",
      "dewPoint               43853 non-null float64\n",
      "humidity               43853 non-null float64\n",
      "icon                   42219 non-null object\n",
      "ozone                  13513 non-null float64\n",
      "precipAccumulation     43853 non-null float64\n",
      "precipIntensity        43853 non-null float64\n",
      "precipProbability      43853 non-null float64\n",
      "precipType             5442 non-null object\n",
      "pressure               43853 non-null float64\n",
      "summary                42219 non-null object\n",
      "temperature            43853 non-null float64\n",
      "time                   43853 non-null float64\n",
      "uvIndex                43853 non-null float64\n",
      "visibility             43853 non-null float64\n",
      "windBearing            43853 non-null float64\n",
      "windGust               43853 non-null float64\n",
      "windSpeed              43853 non-null float64\n",
      "year                   43853 non-null int64\n",
      "month                  43853 non-null int64\n",
      "day                    43853 non-null int64\n",
      "hour                   43853 non-null int64\n",
      "day_of_week            43853 non-null int64\n",
      "no_of_week             43853 non-null int64\n",
      "winter_break           43853 non-null int64\n",
      "dtypes: float64(19), int64(8), object(4)\n",
      "memory usage: 10.4+ MB\n"
     ]
    }
   ],
   "source": [
    "#Preprocesing danych\n",
    "darksky_data.info()"
   ]
  },
  {
   "cell_type": "code",
   "execution_count": 4,
   "metadata": {},
   "outputs": [
    {
     "data": {
      "text/plain": [
       "Unnamed: 0                 0\n",
       "date                       0\n",
       "pm25_nie                   0\n",
       "pm25_kon                   0\n",
       "pm25_wok                   0\n",
       "apparentTemperature        0\n",
       "cloudCover                 0\n",
       "dewPoint                   0\n",
       "humidity                   0\n",
       "icon                    1634\n",
       "ozone                  30340\n",
       "precipAccumulation         0\n",
       "precipIntensity            0\n",
       "precipProbability          0\n",
       "precipType             38411\n",
       "pressure                   0\n",
       "summary                 1634\n",
       "temperature                0\n",
       "time                       0\n",
       "uvIndex                    0\n",
       "visibility                 0\n",
       "windBearing                0\n",
       "windGust                   0\n",
       "windSpeed                  0\n",
       "year                       0\n",
       "month                      0\n",
       "day                        0\n",
       "hour                       0\n",
       "day_of_week                0\n",
       "no_of_week                 0\n",
       "winter_break               0\n",
       "dtype: int64"
      ]
     },
     "execution_count": 4,
     "metadata": {},
     "output_type": "execute_result"
    }
   ],
   "source": [
    "darksky_data.isnull().sum()"
   ]
  },
  {
   "cell_type": "code",
   "execution_count": 5,
   "metadata": {},
   "outputs": [],
   "source": [
    "#kasowanie kolumn w których większość wierszy jest pusta + pierwszej kolumny\n",
    "darksky_data.drop(['Unnamed: 0', 'icon', 'ozone', 'precipType', 'summary'],axis =1, inplace = True )"
   ]
  },
  {
   "cell_type": "code",
   "execution_count": 6,
   "metadata": {},
   "outputs": [
    {
     "data": {
      "text/plain": [
       "date                   0\n",
       "pm25_nie               0\n",
       "pm25_kon               0\n",
       "pm25_wok               0\n",
       "apparentTemperature    0\n",
       "cloudCover             0\n",
       "dewPoint               0\n",
       "humidity               0\n",
       "precipAccumulation     0\n",
       "precipIntensity        0\n",
       "precipProbability      0\n",
       "pressure               0\n",
       "temperature            0\n",
       "time                   0\n",
       "uvIndex                0\n",
       "visibility             0\n",
       "windBearing            0\n",
       "windGust               0\n",
       "windSpeed              0\n",
       "year                   0\n",
       "month                  0\n",
       "day                    0\n",
       "hour                   0\n",
       "day_of_week            0\n",
       "no_of_week             0\n",
       "winter_break           0\n",
       "dtype: int64"
      ]
     },
     "execution_count": 6,
     "metadata": {},
     "output_type": "execute_result"
    }
   ],
   "source": [
    "darksky_data.isnull().sum()"
   ]
  },
  {
   "cell_type": "code",
   "execution_count": 7,
   "metadata": {},
   "outputs": [
    {
     "data": {
      "text/plain": [
       "array([29.56, 31.11, 31.59, ..., 22.36, 22.24, 18.97])"
      ]
     },
     "execution_count": 7,
     "metadata": {},
     "output_type": "execute_result"
    }
   ],
   "source": [
    "darksky_data['dewPoint'].unique()"
   ]
  },
  {
   "cell_type": "markdown",
   "metadata": {},
   "source": [
    "# EDA"
   ]
  },
  {
   "cell_type": "code",
   "execution_count": 8,
   "metadata": {},
   "outputs": [
    {
     "data": {
      "image/png": "[encoded data removed]",
      "text/plain": [
       "<Figure size 864x648 with 2 Axes>"
      ]
     },
     "metadata": {
      "needs_background": "light"
     },
     "output_type": "display_data"
    }
   ],
   "source": [
    "#Korelogram\n",
    "corrmat = darksky_data.corr()\n",
    "f, ax = plt.subplots(figsize=(12, 9))\n",
    "sns.heatmap(corrmat, vmax=.8, square=True);"
   ]
  },
  {
   "cell_type": "code",
   "execution_count": 9,
   "metadata": {},
   "outputs": [
    {
     "data": {
      "image/png": "[encoded data removed]",
      "text/plain": [
       "<Figure size 432x288 with 2 Axes>"
      ]
     },
     "metadata": {},
     "output_type": "display_data"
    }
   ],
   "source": [
    "#9 najmocniej skorelowanych zmiennych ze zmienną objaśnianą\n",
    "k = 10 #liczba zmiennych \n",
    "col = corrmat.nlargest(k, 'pm25_nie')['pm25_nie'].index\n",
    "cm = np.corrcoef(darksky_data[col].values.T)\n",
    "sns.set(font_scale=1.25)\n",
    "hm = sns.heatmap(cm, cbar=True, annot=True, square=True, fmt='.2f', annot_kws={'size': 10}, yticklabels=col.values, xticklabels=col.values)\n",
    "plt.show()"
   ]
  },
  {
   "cell_type": "code",
   "execution_count": 10,
   "metadata": {},
   "outputs": [],
   "source": [
    "#Podział zbioru na zmienne objaśniające i zmienną objaśnianą\n",
    "y = darksky_data['pm25_nie']\n",
    "X = darksky_data.drop('pm25_nie', axis = 1)"
   ]
  },
  {
   "cell_type": "code",
   "execution_count": 11,
   "metadata": {},
   "outputs": [
    {
     "data": {
      "text/html": [
       "<div>\n",
       "<style scoped>\n",
       "    .dataframe tbody tr th:only-of-type {\n",
       "        vertical-align: middle;\n",
       "    }\n",
       "\n",
       "    .dataframe tbody tr th {\n",
       "        vertical-align: top;\n",
       "    }\n",
       "\n",
       "    .dataframe thead th {\n",
       "        text-align: right;\n",
       "    }\n",
       "</style>\n",
       "<table border=\"1\" class=\"dataframe\">\n",
       "  <thead>\n",
       "    <tr style=\"text-align: right;\">\n",
       "      <th></th>\n",
       "      <th>date</th>\n",
       "      <th>pm25_kon</th>\n",
       "      <th>pm25_wok</th>\n",
       "      <th>apparentTemperature</th>\n",
       "      <th>cloudCover</th>\n",
       "      <th>dewPoint</th>\n",
       "      <th>humidity</th>\n",
       "      <th>precipAccumulation</th>\n",
       "      <th>precipIntensity</th>\n",
       "      <th>precipProbability</th>\n",
       "      <th>...</th>\n",
       "      <th>windBearing</th>\n",
       "      <th>windGust</th>\n",
       "      <th>windSpeed</th>\n",
       "      <th>year</th>\n",
       "      <th>month</th>\n",
       "      <th>day</th>\n",
       "      <th>hour</th>\n",
       "      <th>day_of_week</th>\n",
       "      <th>no_of_week</th>\n",
       "      <th>winter_break</th>\n",
       "    </tr>\n",
       "  </thead>\n",
       "  <tbody>\n",
       "    <tr>\n",
       "      <td>0</td>\n",
       "      <td>2015-01-01 00:00:00</td>\n",
       "      <td>78.085</td>\n",
       "      <td>51.320000</td>\n",
       "      <td>32.93</td>\n",
       "      <td>1.00</td>\n",
       "      <td>29.56</td>\n",
       "      <td>0.87</td>\n",
       "      <td>0.0</td>\n",
       "      <td>0.0</td>\n",
       "      <td>0.0</td>\n",
       "      <td>...</td>\n",
       "      <td>260.0</td>\n",
       "      <td>6.93</td>\n",
       "      <td>6.93</td>\n",
       "      <td>2015</td>\n",
       "      <td>1</td>\n",
       "      <td>1</td>\n",
       "      <td>0</td>\n",
       "      <td>4</td>\n",
       "      <td>1</td>\n",
       "      <td>0</td>\n",
       "    </tr>\n",
       "    <tr>\n",
       "      <td>1</td>\n",
       "      <td>2015-01-01 01:00:00</td>\n",
       "      <td>78.085</td>\n",
       "      <td>68.982316</td>\n",
       "      <td>33.90</td>\n",
       "      <td>1.00</td>\n",
       "      <td>31.11</td>\n",
       "      <td>0.89</td>\n",
       "      <td>0.0</td>\n",
       "      <td>0.0</td>\n",
       "      <td>0.0</td>\n",
       "      <td>...</td>\n",
       "      <td>260.0</td>\n",
       "      <td>6.93</td>\n",
       "      <td>6.93</td>\n",
       "      <td>2015</td>\n",
       "      <td>1</td>\n",
       "      <td>1</td>\n",
       "      <td>1</td>\n",
       "      <td>4</td>\n",
       "      <td>1</td>\n",
       "      <td>0</td>\n",
       "    </tr>\n",
       "    <tr>\n",
       "      <td>2</td>\n",
       "      <td>2015-01-01 02:00:00</td>\n",
       "      <td>64.460</td>\n",
       "      <td>48.707108</td>\n",
       "      <td>27.73</td>\n",
       "      <td>1.00</td>\n",
       "      <td>31.59</td>\n",
       "      <td>0.91</td>\n",
       "      <td>0.0</td>\n",
       "      <td>0.0</td>\n",
       "      <td>0.0</td>\n",
       "      <td>...</td>\n",
       "      <td>260.0</td>\n",
       "      <td>6.93</td>\n",
       "      <td>6.93</td>\n",
       "      <td>2015</td>\n",
       "      <td>1</td>\n",
       "      <td>1</td>\n",
       "      <td>2</td>\n",
       "      <td>4</td>\n",
       "      <td>1</td>\n",
       "      <td>0</td>\n",
       "    </tr>\n",
       "    <tr>\n",
       "      <td>3</td>\n",
       "      <td>2015-01-01 03:00:00</td>\n",
       "      <td>36.210</td>\n",
       "      <td>37.986883</td>\n",
       "      <td>27.73</td>\n",
       "      <td>1.00</td>\n",
       "      <td>32.76</td>\n",
       "      <td>0.96</td>\n",
       "      <td>0.0</td>\n",
       "      <td>0.0</td>\n",
       "      <td>0.0</td>\n",
       "      <td>...</td>\n",
       "      <td>251.0</td>\n",
       "      <td>6.93</td>\n",
       "      <td>6.93</td>\n",
       "      <td>2015</td>\n",
       "      <td>1</td>\n",
       "      <td>1</td>\n",
       "      <td>3</td>\n",
       "      <td>4</td>\n",
       "      <td>1</td>\n",
       "      <td>0</td>\n",
       "    </tr>\n",
       "    <tr>\n",
       "      <td>4</td>\n",
       "      <td>2015-01-01 04:00:00</td>\n",
       "      <td>29.585</td>\n",
       "      <td>33.675489</td>\n",
       "      <td>26.41</td>\n",
       "      <td>1.00</td>\n",
       "      <td>32.89</td>\n",
       "      <td>0.97</td>\n",
       "      <td>0.0</td>\n",
       "      <td>0.0</td>\n",
       "      <td>0.0</td>\n",
       "      <td>...</td>\n",
       "      <td>251.0</td>\n",
       "      <td>8.96</td>\n",
       "      <td>8.96</td>\n",
       "      <td>2015</td>\n",
       "      <td>1</td>\n",
       "      <td>1</td>\n",
       "      <td>4</td>\n",
       "      <td>4</td>\n",
       "      <td>1</td>\n",
       "      <td>0</td>\n",
       "    </tr>\n",
       "    <tr>\n",
       "      <td>...</td>\n",
       "      <td>...</td>\n",
       "      <td>...</td>\n",
       "      <td>...</td>\n",
       "      <td>...</td>\n",
       "      <td>...</td>\n",
       "      <td>...</td>\n",
       "      <td>...</td>\n",
       "      <td>...</td>\n",
       "      <td>...</td>\n",
       "      <td>...</td>\n",
       "      <td>...</td>\n",
       "      <td>...</td>\n",
       "      <td>...</td>\n",
       "      <td>...</td>\n",
       "      <td>...</td>\n",
       "      <td>...</td>\n",
       "      <td>...</td>\n",
       "      <td>...</td>\n",
       "      <td>...</td>\n",
       "      <td>...</td>\n",
       "      <td>...</td>\n",
       "    </tr>\n",
       "    <tr>\n",
       "      <td>43848</td>\n",
       "      <td>2019-12-31 19:00:00</td>\n",
       "      <td>6.900</td>\n",
       "      <td>7.000000</td>\n",
       "      <td>34.07</td>\n",
       "      <td>0.82</td>\n",
       "      <td>34.28</td>\n",
       "      <td>0.75</td>\n",
       "      <td>0.0</td>\n",
       "      <td>0.0</td>\n",
       "      <td>0.0</td>\n",
       "      <td>...</td>\n",
       "      <td>307.0</td>\n",
       "      <td>28.66</td>\n",
       "      <td>14.02</td>\n",
       "      <td>2019</td>\n",
       "      <td>12</td>\n",
       "      <td>31</td>\n",
       "      <td>19</td>\n",
       "      <td>2</td>\n",
       "      <td>1</td>\n",
       "      <td>0</td>\n",
       "    </tr>\n",
       "    <tr>\n",
       "      <td>43849</td>\n",
       "      <td>2019-12-31 20:00:00</td>\n",
       "      <td>6.800</td>\n",
       "      <td>6.400000</td>\n",
       "      <td>33.26</td>\n",
       "      <td>0.59</td>\n",
       "      <td>34.00</td>\n",
       "      <td>0.76</td>\n",
       "      <td>0.0</td>\n",
       "      <td>0.0</td>\n",
       "      <td>0.0</td>\n",
       "      <td>...</td>\n",
       "      <td>307.0</td>\n",
       "      <td>27.30</td>\n",
       "      <td>14.39</td>\n",
       "      <td>2019</td>\n",
       "      <td>12</td>\n",
       "      <td>31</td>\n",
       "      <td>20</td>\n",
       "      <td>2</td>\n",
       "      <td>1</td>\n",
       "      <td>0</td>\n",
       "    </tr>\n",
       "    <tr>\n",
       "      <td>43850</td>\n",
       "      <td>2019-12-31 21:00:00</td>\n",
       "      <td>4.400</td>\n",
       "      <td>6.600000</td>\n",
       "      <td>32.30</td>\n",
       "      <td>0.29</td>\n",
       "      <td>33.20</td>\n",
       "      <td>0.76</td>\n",
       "      <td>0.0</td>\n",
       "      <td>0.0</td>\n",
       "      <td>0.0</td>\n",
       "      <td>...</td>\n",
       "      <td>305.0</td>\n",
       "      <td>26.36</td>\n",
       "      <td>14.43</td>\n",
       "      <td>2019</td>\n",
       "      <td>12</td>\n",
       "      <td>31</td>\n",
       "      <td>21</td>\n",
       "      <td>2</td>\n",
       "      <td>1</td>\n",
       "      <td>0</td>\n",
       "    </tr>\n",
       "    <tr>\n",
       "      <td>43851</td>\n",
       "      <td>2019-12-31 22:00:00</td>\n",
       "      <td>4.000</td>\n",
       "      <td>5.100000</td>\n",
       "      <td>31.28</td>\n",
       "      <td>0.05</td>\n",
       "      <td>32.37</td>\n",
       "      <td>0.76</td>\n",
       "      <td>0.0</td>\n",
       "      <td>0.0</td>\n",
       "      <td>0.0</td>\n",
       "      <td>...</td>\n",
       "      <td>303.0</td>\n",
       "      <td>25.92</td>\n",
       "      <td>14.14</td>\n",
       "      <td>2019</td>\n",
       "      <td>12</td>\n",
       "      <td>31</td>\n",
       "      <td>22</td>\n",
       "      <td>2</td>\n",
       "      <td>1</td>\n",
       "      <td>0</td>\n",
       "    </tr>\n",
       "    <tr>\n",
       "      <td>43852</td>\n",
       "      <td>2019-12-31 23:00:00</td>\n",
       "      <td>6.100</td>\n",
       "      <td>5.300000</td>\n",
       "      <td>30.33</td>\n",
       "      <td>0.02</td>\n",
       "      <td>31.74</td>\n",
       "      <td>0.76</td>\n",
       "      <td>0.0</td>\n",
       "      <td>0.0</td>\n",
       "      <td>0.0</td>\n",
       "      <td>...</td>\n",
       "      <td>303.0</td>\n",
       "      <td>26.24</td>\n",
       "      <td>14.04</td>\n",
       "      <td>2019</td>\n",
       "      <td>12</td>\n",
       "      <td>31</td>\n",
       "      <td>23</td>\n",
       "      <td>2</td>\n",
       "      <td>1</td>\n",
       "      <td>0</td>\n",
       "    </tr>\n",
       "  </tbody>\n",
       "</table>\n",
       "<p>43853 rows × 25 columns</p>\n",
       "</div>"
      ],
      "text/plain": [
       "                      date  pm25_kon   pm25_wok  apparentTemperature  \\\n",
       "0      2015-01-01 00:00:00    78.085  51.320000                32.93   \n",
       "1      2015-01-01 01:00:00    78.085  68.982316                33.90   \n",
       "2      2015-01-01 02:00:00    64.460  48.707108                27.73   \n",
       "3      2015-01-01 03:00:00    36.210  37.986883                27.73   \n",
       "4      2015-01-01 04:00:00    29.585  33.675489                26.41   \n",
       "...                    ...       ...        ...                  ...   \n",
       "43848  2019-12-31 19:00:00     6.900   7.000000                34.07   \n",
       "43849  2019-12-31 20:00:00     6.800   6.400000                33.26   \n",
       "43850  2019-12-31 21:00:00     4.400   6.600000                32.30   \n",
       "43851  2019-12-31 22:00:00     4.000   5.100000                31.28   \n",
       "43852  2019-12-31 23:00:00     6.100   5.300000                30.33   \n",
       "\n",
       "       cloudCover  dewPoint  humidity  precipAccumulation  precipIntensity  \\\n",
       "0            1.00     29.56      0.87                 0.0              0.0   \n",
       "1            1.00     31.11      0.89                 0.0              0.0   \n",
       "2            1.00     31.59      0.91                 0.0              0.0   \n",
       "3            1.00     32.76      0.96                 0.0              0.0   \n",
       "4            1.00     32.89      0.97                 0.0              0.0   \n",
       "...           ...       ...       ...                 ...              ...   \n",
       "43848        0.82     34.28      0.75                 0.0              0.0   \n",
       "43849        0.59     34.00      0.76                 0.0              0.0   \n",
       "43850        0.29     33.20      0.76                 0.0              0.0   \n",
       "43851        0.05     32.37      0.76                 0.0              0.0   \n",
       "43852        0.02     31.74      0.76                 0.0              0.0   \n",
       "\n",
       "       precipProbability  ...  windBearing  windGust  windSpeed  year  month  \\\n",
       "0                    0.0  ...        260.0      6.93       6.93  2015      1   \n",
       "1                    0.0  ...        260.0      6.93       6.93  2015      1   \n",
       "2                    0.0  ...        260.0      6.93       6.93  2015      1   \n",
       "3                    0.0  ...        251.0      6.93       6.93  2015      1   \n",
       "4                    0.0  ...        251.0      8.96       8.96  2015      1   \n",
       "...                  ...  ...          ...       ...        ...   ...    ...   \n",
       "43848                0.0  ...        307.0     28.66      14.02  2019     12   \n",
       "43849                0.0  ...        307.0     27.30      14.39  2019     12   \n",
       "43850                0.0  ...        305.0     26.36      14.43  2019     12   \n",
       "43851                0.0  ...        303.0     25.92      14.14  2019     12   \n",
       "43852                0.0  ...        303.0     26.24      14.04  2019     12   \n",
       "\n",
       "       day  hour  day_of_week  no_of_week  winter_break  \n",
       "0        1     0            4           1             0  \n",
       "1        1     1            4           1             0  \n",
       "2        1     2            4           1             0  \n",
       "3        1     3            4           1             0  \n",
       "4        1     4            4           1             0  \n",
       "...    ...   ...          ...         ...           ...  \n",
       "43848   31    19            2           1             0  \n",
       "43849   31    20            2           1             0  \n",
       "43850   31    21            2           1             0  \n",
       "43851   31    22            2           1             0  \n",
       "43852   31    23            2           1             0  \n",
       "\n",
       "[43853 rows x 25 columns]"
      ]
     },
     "execution_count": 11,
     "metadata": {},
     "output_type": "execute_result"
    }
   ],
   "source": [
    "X"
   ]
  },
  {
   "cell_type": "code",
   "execution_count": 12,
   "metadata": {},
   "outputs": [
    {
     "name": "stdout",
     "output_type": "stream",
     "text": [
      "(43853,)\n",
      "(43853, 25)\n"
     ]
    }
   ],
   "source": [
    "print(y.shape)\n",
    "print(X.shape)"
   ]
  },
  {
   "cell_type": "code",
   "execution_count": 13,
   "metadata": {},
   "outputs": [
    {
     "name": "stdout",
     "output_type": "stream",
     "text": [
      "<class 'pandas.core.series.Series'>\n",
      "<class 'pandas.core.frame.DataFrame'>\n"
     ]
    }
   ],
   "source": [
    "print(type(y))\n",
    "print(type(X))"
   ]
  },
  {
   "cell_type": "markdown",
   "metadata": {},
   "source": [
    "# Zmienna objaśniania"
   ]
  },
  {
   "cell_type": "code",
   "execution_count": 14,
   "metadata": {},
   "outputs": [
    {
     "data": {
      "text/plain": [
       "count    43853.000000\n",
       "mean        25.296143\n",
       "std         16.907685\n",
       "min          0.877018\n",
       "25%         13.535946\n",
       "50%         20.661466\n",
       "75%         31.902000\n",
       "max        187.930147\n",
       "Name: pm25_nie, dtype: float64"
      ]
     },
     "execution_count": 14,
     "metadata": {},
     "output_type": "execute_result"
    }
   ],
   "source": [
    "#Podstawowe statystyki \n",
    "y.describe()"
   ]
  },
  {
   "cell_type": "code",
   "execution_count": 15,
   "metadata": {},
   "outputs": [
    {
     "data": {
      "text/plain": [
       "0"
      ]
     },
     "execution_count": 15,
     "metadata": {},
     "output_type": "execute_result"
    }
   ],
   "source": [
    "#Sprawdzenie braków w danych\n",
    "y.isnull().sum()"
   ]
  },
  {
   "cell_type": "code",
   "execution_count": 16,
   "metadata": {},
   "outputs": [
    {
     "data": {
      "text/plain": [
       "0"
      ]
     },
     "execution_count": 16,
     "metadata": {},
     "output_type": "execute_result"
    }
   ],
   "source": [
    "#Sprawdzenie występowania wartości NaN\n",
    "y.isna().sum()"
   ]
  },
  {
   "cell_type": "code",
   "execution_count": 17,
   "metadata": {},
   "outputs": [
    {
     "data": {
      "image/png": "[encoded data removed]",
      "text/plain": [
       "<Figure size 432x288 with 1 Axes>"
      ]
     },
     "metadata": {},
     "output_type": "display_data"
    },
    {
     "data": {
      "image/png": "[encoded data removed]",
      "text/plain": [
       "<Figure size 432x288 with 1 Axes>"
      ]
     },
     "metadata": {},
     "output_type": "display_data"
    }
   ],
   "source": [
    "#Weryfikacja normalności zmiennej objaśnianej\n",
    "sns.distplot(y)\n",
    "fig = plt.figure()\n",
    "qq = stats.probplot(darksky_data['pm25_nie'], plot=plt)"
   ]
  },
  {
   "cell_type": "code",
   "execution_count": 18,
   "metadata": {},
   "outputs": [],
   "source": [
    "#Transformacja logarytmiczna\n",
    "y = np.log(y)"
   ]
  },
  {
   "cell_type": "code",
   "execution_count": 19,
   "metadata": {},
   "outputs": [
    {
     "data": {
      "image/png": "[encoded data removed]",
      "text/plain": [
       "<Figure size 432x288 with 1 Axes>"
      ]
     },
     "metadata": {},
     "output_type": "display_data"
    },
    {
     "data": {
      "image/png": "[encoded data removed]",
      "text/plain": [
       "<Figure size 432x288 with 1 Axes>"
      ]
     },
     "metadata": {},
     "output_type": "display_data"
    }
   ],
   "source": [
    "#Ponowna weryfikacja normalności\n",
    "sns.distplot(y)\n",
    "fig = plt.figure()\n",
    "qq = stats.probplot(y, plot=plt)"
   ]
  },
  {
   "cell_type": "markdown",
   "metadata": {},
   "source": [
    "# Zmienne objaśniające"
   ]
  },
  {
   "cell_type": "code",
   "execution_count": 20,
   "metadata": {},
   "outputs": [
    {
     "data": {
      "text/plain": [
       "date                   0\n",
       "pm25_kon               0\n",
       "pm25_wok               0\n",
       "apparentTemperature    0\n",
       "cloudCover             0\n",
       "dewPoint               0\n",
       "humidity               0\n",
       "precipAccumulation     0\n",
       "precipIntensity        0\n",
       "precipProbability      0\n",
       "pressure               0\n",
       "temperature            0\n",
       "time                   0\n",
       "uvIndex                0\n",
       "visibility             0\n",
       "windBearing            0\n",
       "windGust               0\n",
       "windSpeed              0\n",
       "year                   0\n",
       "month                  0\n",
       "day                    0\n",
       "hour                   0\n",
       "day_of_week            0\n",
       "no_of_week             0\n",
       "winter_break           0\n",
       "dtype: int64"
      ]
     },
     "execution_count": 20,
     "metadata": {},
     "output_type": "execute_result"
    }
   ],
   "source": [
    "X.isna().sum()"
   ]
  },
  {
   "cell_type": "markdown",
   "metadata": {},
   "source": [
    "# standaryzacja"
   ]
  },
  {
   "cell_type": "code",
   "execution_count": 21,
   "metadata": {},
   "outputs": [],
   "source": [
    "X = darksky_data.drop(['date','pm25_nie','pm25_kon', 'pm25_wok'], axis = 1)"
   ]
  },
  {
   "cell_type": "code",
   "execution_count": 22,
   "metadata": {},
   "outputs": [],
   "source": [
    "from sklearn import preprocessing\n",
    "\n",
    "scaler = preprocessing.StandardScaler()\n",
    "new_X = scaler.fit_transform(X) "
   ]
  },
  {
   "cell_type": "code",
   "execution_count": 23,
   "metadata": {},
   "outputs": [
    {
     "data": {
      "text/html": [
       "<div>\n",
       "<style scoped>\n",
       "    .dataframe tbody tr th:only-of-type {\n",
       "        vertical-align: middle;\n",
       "    }\n",
       "\n",
       "    .dataframe tbody tr th {\n",
       "        vertical-align: top;\n",
       "    }\n",
       "\n",
       "    .dataframe thead th {\n",
       "        text-align: right;\n",
       "    }\n",
       "</style>\n",
       "<table border=\"1\" class=\"dataframe\">\n",
       "  <thead>\n",
       "    <tr style=\"text-align: right;\">\n",
       "      <th></th>\n",
       "      <th>apparentTemperature</th>\n",
       "      <th>cloudCover</th>\n",
       "      <th>dewPoint</th>\n",
       "      <th>humidity</th>\n",
       "      <th>precipAccumulation</th>\n",
       "      <th>precipIntensity</th>\n",
       "      <th>precipProbability</th>\n",
       "      <th>pressure</th>\n",
       "      <th>temperature</th>\n",
       "      <th>time</th>\n",
       "      <th>...</th>\n",
       "      <th>windBearing</th>\n",
       "      <th>windGust</th>\n",
       "      <th>windSpeed</th>\n",
       "      <th>year</th>\n",
       "      <th>month</th>\n",
       "      <th>day</th>\n",
       "      <th>hour</th>\n",
       "      <th>day_of_week</th>\n",
       "      <th>no_of_week</th>\n",
       "      <th>winter_break</th>\n",
       "    </tr>\n",
       "  </thead>\n",
       "  <tbody>\n",
       "    <tr>\n",
       "      <td>0</td>\n",
       "      <td>-0.805672</td>\n",
       "      <td>1.295937</td>\n",
       "      <td>-0.893159</td>\n",
       "      <td>0.800943</td>\n",
       "      <td>-0.067898</td>\n",
       "      <td>-0.155843</td>\n",
       "      <td>-0.232741</td>\n",
       "      <td>1.261237</td>\n",
       "      <td>-1.095354</td>\n",
       "      <td>-1.732598</td>\n",
       "      <td>...</td>\n",
       "      <td>0.706354</td>\n",
       "      <td>-0.478806</td>\n",
       "      <td>-0.150388</td>\n",
       "      <td>-1.414601</td>\n",
       "      <td>-1.600262</td>\n",
       "      <td>-1.672074</td>\n",
       "      <td>-1.661085</td>\n",
       "      <td>0.000376</td>\n",
       "      <td>-1.699088</td>\n",
       "      <td>-0.189294</td>\n",
       "    </tr>\n",
       "    <tr>\n",
       "      <td>1</td>\n",
       "      <td>-0.754343</td>\n",
       "      <td>1.295937</td>\n",
       "      <td>-0.772911</td>\n",
       "      <td>0.911695</td>\n",
       "      <td>-0.067898</td>\n",
       "      <td>-0.155843</td>\n",
       "      <td>-0.232741</td>\n",
       "      <td>1.261237</td>\n",
       "      <td>-1.035694</td>\n",
       "      <td>-1.732519</td>\n",
       "      <td>...</td>\n",
       "      <td>0.706354</td>\n",
       "      <td>-0.478806</td>\n",
       "      <td>-0.150388</td>\n",
       "      <td>-1.414601</td>\n",
       "      <td>-1.600262</td>\n",
       "      <td>-1.672074</td>\n",
       "      <td>-1.516629</td>\n",
       "      <td>0.000376</td>\n",
       "      <td>-1.699088</td>\n",
       "      <td>-0.189294</td>\n",
       "    </tr>\n",
       "    <tr>\n",
       "      <td>2</td>\n",
       "      <td>-1.080839</td>\n",
       "      <td>1.295937</td>\n",
       "      <td>-0.735673</td>\n",
       "      <td>1.022447</td>\n",
       "      <td>-0.067898</td>\n",
       "      <td>-0.155843</td>\n",
       "      <td>-0.232741</td>\n",
       "      <td>1.261237</td>\n",
       "      <td>-1.041229</td>\n",
       "      <td>-1.732440</td>\n",
       "      <td>...</td>\n",
       "      <td>0.706354</td>\n",
       "      <td>-0.478806</td>\n",
       "      <td>-0.150388</td>\n",
       "      <td>-1.414601</td>\n",
       "      <td>-1.600262</td>\n",
       "      <td>-1.672074</td>\n",
       "      <td>-1.372173</td>\n",
       "      <td>0.000376</td>\n",
       "      <td>-1.699088</td>\n",
       "      <td>-0.189294</td>\n",
       "    </tr>\n",
       "    <tr>\n",
       "      <td>3</td>\n",
       "      <td>-1.080839</td>\n",
       "      <td>1.295937</td>\n",
       "      <td>-0.644905</td>\n",
       "      <td>1.299326</td>\n",
       "      <td>-0.067898</td>\n",
       "      <td>-0.155843</td>\n",
       "      <td>-0.232741</td>\n",
       "      <td>1.261237</td>\n",
       "      <td>-1.041229</td>\n",
       "      <td>-1.732361</td>\n",
       "      <td>...</td>\n",
       "      <td>0.610472</td>\n",
       "      <td>-0.478806</td>\n",
       "      <td>-0.150388</td>\n",
       "      <td>-1.414601</td>\n",
       "      <td>-1.600262</td>\n",
       "      <td>-1.672074</td>\n",
       "      <td>-1.227717</td>\n",
       "      <td>0.000376</td>\n",
       "      <td>-1.699088</td>\n",
       "      <td>-0.189294</td>\n",
       "    </tr>\n",
       "    <tr>\n",
       "      <td>4</td>\n",
       "      <td>-1.150689</td>\n",
       "      <td>1.295937</td>\n",
       "      <td>-0.634820</td>\n",
       "      <td>1.354702</td>\n",
       "      <td>-0.067898</td>\n",
       "      <td>-0.155843</td>\n",
       "      <td>-0.232741</td>\n",
       "      <td>1.261237</td>\n",
       "      <td>-1.046150</td>\n",
       "      <td>-1.732282</td>\n",
       "      <td>...</td>\n",
       "      <td>0.610472</td>\n",
       "      <td>-0.193183</td>\n",
       "      <td>0.363383</td>\n",
       "      <td>-1.414601</td>\n",
       "      <td>-1.600262</td>\n",
       "      <td>-1.672074</td>\n",
       "      <td>-1.083262</td>\n",
       "      <td>0.000376</td>\n",
       "      <td>-1.699088</td>\n",
       "      <td>-0.189294</td>\n",
       "    </tr>\n",
       "  </tbody>\n",
       "</table>\n",
       "<p>5 rows × 22 columns</p>\n",
       "</div>"
      ],
      "text/plain": [
       "   apparentTemperature  cloudCover  dewPoint  humidity  precipAccumulation  \\\n",
       "0            -0.805672    1.295937 -0.893159  0.800943           -0.067898   \n",
       "1            -0.754343    1.295937 -0.772911  0.911695           -0.067898   \n",
       "2            -1.080839    1.295937 -0.735673  1.022447           -0.067898   \n",
       "3            -1.080839    1.295937 -0.644905  1.299326           -0.067898   \n",
       "4            -1.150689    1.295937 -0.634820  1.354702           -0.067898   \n",
       "\n",
       "   precipIntensity  precipProbability  pressure  temperature      time  ...  \\\n",
       "0        -0.155843          -0.232741  1.261237    -1.095354 -1.732598  ...   \n",
       "1        -0.155843          -0.232741  1.261237    -1.035694 -1.732519  ...   \n",
       "2        -0.155843          -0.232741  1.261237    -1.041229 -1.732440  ...   \n",
       "3        -0.155843          -0.232741  1.261237    -1.041229 -1.732361  ...   \n",
       "4        -0.155843          -0.232741  1.261237    -1.046150 -1.732282  ...   \n",
       "\n",
       "   windBearing  windGust  windSpeed      year     month       day      hour  \\\n",
       "0     0.706354 -0.478806  -0.150388 -1.414601 -1.600262 -1.672074 -1.661085   \n",
       "1     0.706354 -0.478806  -0.150388 -1.414601 -1.600262 -1.672074 -1.516629   \n",
       "2     0.706354 -0.478806  -0.150388 -1.414601 -1.600262 -1.672074 -1.372173   \n",
       "3     0.610472 -0.478806  -0.150388 -1.414601 -1.600262 -1.672074 -1.227717   \n",
       "4     0.610472 -0.193183   0.363383 -1.414601 -1.600262 -1.672074 -1.083262   \n",
       "\n",
       "   day_of_week  no_of_week  winter_break  \n",
       "0     0.000376   -1.699088     -0.189294  \n",
       "1     0.000376   -1.699088     -0.189294  \n",
       "2     0.000376   -1.699088     -0.189294  \n",
       "3     0.000376   -1.699088     -0.189294  \n",
       "4     0.000376   -1.699088     -0.189294  \n",
       "\n",
       "[5 rows x 22 columns]"
      ]
     },
     "execution_count": 23,
     "metadata": {},
     "output_type": "execute_result"
    }
   ],
   "source": [
    "#podgląd co znajduje się w danych\n",
    "XX = pd.DataFrame(data=new_X, columns=X.columns.values)\n",
    "XX.head()"
   ]
  },
  {
   "cell_type": "markdown",
   "metadata": {},
   "source": [
    "# Modelowanie"
   ]
  },
  {
   "cell_type": "markdown",
   "metadata": {},
   "source": [
    "podstawa"
   ]
  },
  {
   "cell_type": "code",
   "execution_count": 24,
   "metadata": {},
   "outputs": [],
   "source": [
    "#podział na zbiór treningowy i testowy\n",
    "from sklearn.model_selection import train_test_split\n",
    "\n",
    "X_train, X_test, y_train, y_test = train_test_split(new_X, y, test_size = 0.3, random_state = 123)"
   ]
  },
  {
   "cell_type": "code",
   "execution_count": 25,
   "metadata": {},
   "outputs": [
    {
     "name": "stdout",
     "output_type": "stream",
     "text": [
      "(30697, 22)\n",
      "(13156, 22)\n",
      "(30697,)\n",
      "(13156,)\n"
     ]
    }
   ],
   "source": [
    "#Rozmiar zbiorów\n",
    "print(X_train.shape)\n",
    "print(X_test.shape)\n",
    "print(y_train.shape)\n",
    "print(y_test.shape)"
   ]
  },
  {
   "cell_type": "code",
   "execution_count": 26,
   "metadata": {},
   "outputs": [],
   "source": [
    "from sklearn.linear_model import ElasticNet, Lasso,  BayesianRidge, LassoLarsIC, LinearRegression\n",
    "#!!------------\n",
    "from sklearn.ensemble import RandomForestRegressor,  GradientBoostingRegressor\n",
    "##!!-----------\n",
    "from sklearn.model_selection import KFold, cross_val_score, train_test_split\n",
    "from math import sqrt, log2\n",
    "from sklearn.metrics import mean_squared_error, mean_absolute_error, mean_squared_log_error, median_absolute_error, r2_score"
   ]
  },
  {
   "cell_type": "markdown",
   "metadata": {},
   "source": [
    "Ważne hiperparametry Gradient Boosting:\n",
    "- learning_rate - określa udział każdego drzewa w zepole. Niewielka wartość tego wskaźnik np. 0,1 wymaga większej liczby drzew. \n",
    "                  Jednak zbyt duża ilość drzew może powodować przeuczenie.\n",
    "- n_estimators - określa liczbę drzew                  \n",
    "- max_depth - (domyślnie - 3) maksymalna głębokość poszczególnych estymatorów regresji. Maksymalna głębokość ogranicza liczbę węzłów w drzewie. \n",
    "- min_samples_leaf - (domyślnie - 1) - Minimalna liczba próbek wymagana w węźle liścia. Punkt podziału na dowolnej głębokości będzie brany pod uwagę tylko wtedy, gdy pozostawi co najmniej próbki treningowe min_samples_leaf w każdej lewej i prawej gałęzi. Może to mieć efekt wygładzenia modelu, szczególnie w regresji. \n",
    "- max_features - Liczba funkcji, które należy wziąć pod uwagę, szukając najlepszego podziału:\n",
    "               Jeśli „auto”, to max_features = n_features.\n",
    "               Jeśli „sqrt”, to max_features = sqrt (n_features).\n",
    "               Jeśli „log2”, to max_features = log2 (n_features).\n",
    "               Jeśli Brak, to max_features = n_features.\n",
    "- min_samples_split - Minimalna liczba próbek wymagana do podzielenia węzła wewnętrznego:\n",
    "                    Jeśli int, to uważaj min_samples_split za minimalną liczbę.\n",
    "                    Jeśli zmiennoprzecinkowe, to min_samples_split jest ułamkiem, a pułap (min_samples_split * n_samples) to minimalna liczba próbek dla każdego podziału.\n",
    "- loss - Konkretny obiekt funkcji straty.\n",
    "- random_state - Jeśli int, parametr_state_state jest ziarnem używanym przez generator liczb losowych; Jeśli instancja RandomState, random_state jest generatorem liczb losowych; Jeśli Brak, generator liczb losowych jest instancją RandomState używaną przez np.random.\n",
    "- n_iter_no_change - służy do decydowania, czy wcześniejsze zatrzymanie zostanie zastosowane do zakończenia treningu, gdy wynik walidacji nie poprawi się. Domyślnie jest ustawiony na Brak, aby wyłączyć wczesne zatrzymywanie. Jeśli zostanie ustawiony na liczbę, odrzuci rozmiar danych walidacji walidacji jako walidację i zakończy szkolenie, gdy wynik walidacji nie poprawi się we wszystkich poprzednich liczbach iteracji n_iter_no_change.\n",
    "- validation_fraction - Odsetek danych treningowych, które należy odłożyć jako zestaw walidacyjny dla wczesnego zatrzymania. Musi zawierać się w przedziale od 0 do 1. Używany tylko wtedy, gdy n_iter_no_change ma wartość całkowitą."
   ]
  },
  {
   "cell_type": "code",
   "execution_count": 27,
   "metadata": {},
   "outputs": [],
   "source": [
    "#Zdefiniowanie funkcji do oceny modelu 1\n",
    "n_folds = 5\n",
    "\n",
    "def rmsle_cv(model):\n",
    "    kf = KFold(n_folds, shuffle=True, random_state=42).get_n_splits(X_train)\n",
    "    rmse= np.sqrt(-cross_val_score(model, X_train, y_train, scoring=\"neg_mean_squared_error\", cv = kf))\n",
    "    return(rmse)\n"
   ]
  },
  {
   "cell_type": "code",
   "execution_count": 28,
   "metadata": {},
   "outputs": [],
   "source": [
    "#Zdefiniowanie funkcji do oceny modelu 2\n",
    "n_folds = 5\n",
    "\n",
    "def scoring_cv(model):\n",
    "    kf = KFold(n_folds, shuffle=True, random_state=42).get_n_splits(X_train)\n",
    "    rmse= np.sqrt(-cross_val_score(model, X_train, y_train, scoring=\"neg_mean_squared_error\", cv = kf))\n",
    "    r2= cross_val_score(model, X_train, y_train, scoring=\"r2\", cv = kf)\n",
    "    return(rmse, r2)"
   ]
  },
  {
   "cell_type": "code",
   "execution_count": 29,
   "metadata": {},
   "outputs": [],
   "source": [
    "#Gradient Boosting Regression\n",
    "\n",
    "GradientBoosting1 = GradientBoostingRegressor(n_estimators=120, learning_rate=0.5,\n",
    "                                   max_depth=4, max_features='sqrt', n_iter_no_change=5,\n",
    "                                   min_samples_leaf=15, min_samples_split=10, \n",
    "                                   loss='huber', random_state =5)"
   ]
  },
  {
   "cell_type": "code",
   "execution_count": 30,
   "metadata": {},
   "outputs": [],
   "source": [
    "#Gradient Boosting Regression\n",
    "\n",
    "GradientBoosting2 = GradientBoostingRegressor(n_estimators=120, learning_rate=1.0,\n",
    "                                   max_depth=4, max_features='sqrt', n_iter_no_change = 10,\n",
    "                                   min_samples_leaf=15, min_samples_split=10, \n",
    "                                   loss='huber', random_state =5)"
   ]
  },
  {
   "cell_type": "code",
   "execution_count": 31,
   "metadata": {},
   "outputs": [],
   "source": [
    "#Gradient Boosting Regression\n",
    "\n",
    "GradientBoosting3 = GradientBoostingRegressor(n_estimators=120, learning_rate=0.1,\n",
    "                                   max_depth=4, max_features='sqrt', n_iter_no_change = 10,\n",
    "                                   min_samples_leaf=15, min_samples_split=10, \n",
    "                                   loss='huber', random_state =5)"
   ]
  },
  {
   "cell_type": "code",
   "execution_count": 32,
   "metadata": {},
   "outputs": [],
   "source": [
    "#Gradient Boosting Regression\n",
    "\n",
    "GradientBoosting4 = GradientBoostingRegressor(n_estimators=240, learning_rate=0.5,\n",
    "                                   max_depth=4, max_features='sqrt', n_iter_no_change = 10,\n",
    "                                   min_samples_leaf=15, min_samples_split=10, \n",
    "                                   loss='huber', random_state =5)"
   ]
  },
  {
   "cell_type": "code",
   "execution_count": 33,
   "metadata": {},
   "outputs": [],
   "source": [
    "#Gradient Boosting Regression\n",
    "\n",
    "GradientBoosting5 = GradientBoostingRegressor(n_estimators=360, learning_rate=0.5,\n",
    "                                   max_depth=4, max_features='sqrt', n_iter_no_change = 10,\n",
    "                                   min_samples_leaf=15, min_samples_split=10, \n",
    "                                   loss='huber', random_state =5)"
   ]
  },
  {
   "cell_type": "code",
   "execution_count": 34,
   "metadata": {},
   "outputs": [],
   "source": [
    "#Gradient Boosting Regression\n",
    "\n",
    "GradientBoosting6 = GradientBoostingRegressor(n_estimators=480, learning_rate=0.5,\n",
    "                                   max_depth=4, max_features='sqrt', n_iter_no_change = 10,\n",
    "                                   min_samples_leaf=15, min_samples_split=10, \n",
    "                                   loss='huber', random_state =5)"
   ]
  },
  {
   "cell_type": "code",
   "execution_count": 35,
   "metadata": {},
   "outputs": [],
   "source": [
    "#Gradient Boosting Regression\n",
    "\n",
    "GradientBoosting7 = GradientBoostingRegressor(n_estimators=480, learning_rate=1.0,\n",
    "                                   max_depth=4, max_features='sqrt', n_iter_no_change = 10,\n",
    "                                   min_samples_leaf=15, min_samples_split=10, \n",
    "                                   loss='huber', random_state =5)"
   ]
  },
  {
   "cell_type": "code",
   "execution_count": 36,
   "metadata": {},
   "outputs": [],
   "source": [
    "#Gradient Boosting Regression\n",
    "\n",
    "GradientBoosting8 = GradientBoostingRegressor(n_estimators=480, learning_rate=0.5,\n",
    "                                   max_depth=6, max_features='sqrt', n_iter_no_change = 10,\n",
    "                                   min_samples_leaf=15, min_samples_split=10, \n",
    "                                   loss='huber', random_state =5)"
   ]
  },
  {
   "cell_type": "code",
   "execution_count": 37,
   "metadata": {},
   "outputs": [],
   "source": [
    "#Gradient Boosting Regression\n",
    "\n",
    "GradientBoosting9 = GradientBoostingRegressor(n_estimators=480, learning_rate=0.2,\n",
    "                                   max_depth=10, max_features='sqrt', n_iter_no_change = 10,\n",
    "                                   min_samples_leaf=15, min_samples_split=10, \n",
    "                                   loss='huber', random_state =5)"
   ]
  },
  {
   "cell_type": "code",
   "execution_count": 38,
   "metadata": {},
   "outputs": [],
   "source": [
    "#Gradient Boosting Regression - max_features\n",
    "\n",
    "GradientBoosting10 = GradientBoostingRegressor(n_estimators=480, learning_rate=0.2,\n",
    "                                   max_depth=10, max_features='log2', n_iter_no_change = 10,\n",
    "                                   min_samples_leaf=15, min_samples_split=10, \n",
    "                                   loss='huber', random_state =5)"
   ]
  },
  {
   "cell_type": "markdown",
   "metadata": {},
   "source": [
    "Ocena wyników podstawowych modeli\n",
    "\n",
    "Jeśli chodzi o MSE to odzwierciedla ona stopień w jakim model myli się dokonując predykcji. Zatem im mniejsza wartość, tym lepiej. Z kolei współczynniki determinacji - r^2 - obrazuje stopień 'dobroci' dopasowania modelu do danych. Intuicyjnie, im wyższa wartość, tym lepiej."
   ]
  },
  {
   "cell_type": "code",
   "execution_count": 39,
   "metadata": {},
   "outputs": [
    {
     "name": "stdout",
     "output_type": "stream",
     "text": [
      "Gradient Boosting rmse: 0.3083 (0.0033), r2: 76.0%\n",
      "\n"
     ]
    }
   ],
   "source": [
    "#Gradient Boosting Regression \n",
    "\n",
    "score = scoring_cv(GradientBoosting1)\n",
    "print(\"Gradient Boosting rmse: {:.4f} ({:.4f}), r2: {:.1f}%\\n\" .format(score[0].mean(), score[0].std(), 100*score[1].mean()))"
   ]
  },
  {
   "cell_type": "code",
   "execution_count": 40,
   "metadata": {},
   "outputs": [
    {
     "name": "stdout",
     "output_type": "stream",
     "text": [
      "Gradient Boosting rmse: 0.3337 (0.0050), r2: 71.8%\n",
      "\n"
     ]
    }
   ],
   "source": [
    "#Gradient Boosting Regression \n",
    "\n",
    "score = scoring_cv(GradientBoosting2)\n",
    "print(\"Gradient Boosting rmse: {:.4f} ({:.4f}), r2: {:.1f}%\\n\" .format(score[0].mean(), score[0].std(), 100*score[1].mean()))"
   ]
  },
  {
   "cell_type": "code",
   "execution_count": 41,
   "metadata": {},
   "outputs": [
    {
     "name": "stdout",
     "output_type": "stream",
     "text": [
      "Gradient Boosting rmse: 0.3391 (0.0021), r2: 70.9%\n",
      "\n"
     ]
    }
   ],
   "source": [
    "#Gradient Boosting Regression \n",
    "\n",
    "score = scoring_cv(GradientBoosting3)\n",
    "print(\"Gradient Boosting rmse: {:.4f} ({:.4f}), r2: {:.1f}%\\n\" .format(score[0].mean(), score[0].std(), 100*score[1].mean()))"
   ]
  },
  {
   "cell_type": "code",
   "execution_count": 42,
   "metadata": {},
   "outputs": [
    {
     "name": "stdout",
     "output_type": "stream",
     "text": [
      "Gradient Boosting rmse: 0.2884 (0.0023), r2: 79.0%\n",
      "\n"
     ]
    }
   ],
   "source": [
    "#Gradient Boosting Regression \n",
    "\n",
    "score = scoring_cv(GradientBoosting4)\n",
    "print(\"Gradient Boosting rmse: {:.4f} ({:.4f}), r2: {:.1f}%\\n\" .format(score[0].mean(), score[0].std(), 100*score[1].mean()))"
   ]
  },
  {
   "cell_type": "code",
   "execution_count": 43,
   "metadata": {
    "scrolled": true
   },
   "outputs": [
    {
     "name": "stdout",
     "output_type": "stream",
     "text": [
      "Gradient Boosting rmse: 0.2788 (0.0023), r2: 80.3%\n",
      "\n"
     ]
    }
   ],
   "source": [
    "#Gradient Boosting Regression \n",
    "\n",
    "score = scoring_cv(GradientBoosting5)\n",
    "print(\"Gradient Boosting rmse: {:.4f} ({:.4f}), r2: {:.1f}%\\n\" .format(score[0].mean(), score[0].std(), 100*score[1].mean()))"
   ]
  },
  {
   "cell_type": "code",
   "execution_count": 44,
   "metadata": {},
   "outputs": [
    {
     "name": "stdout",
     "output_type": "stream",
     "text": [
      "Gradient Boosting rmse: 0.2773 (0.0033), r2: 80.5%\n",
      "\n"
     ]
    }
   ],
   "source": [
    "#Gradient Boosting Regression \n",
    "\n",
    "score = scoring_cv(GradientBoosting6)\n",
    "print(\"Gradient Boosting rmse: {:.4f} ({:.4f}), r2: {:.1f}%\\n\" .format(score[0].mean(), score[0].std(), 100*score[1].mean()))"
   ]
  },
  {
   "cell_type": "code",
   "execution_count": 45,
   "metadata": {},
   "outputs": [
    {
     "name": "stdout",
     "output_type": "stream",
     "text": [
      "Gradient Boosting rmse: 0.3230 (0.0110), r2: 73.6%\n",
      "\n"
     ]
    }
   ],
   "source": [
    "#Gradient Boosting Regression \n",
    "\n",
    "score = scoring_cv(GradientBoosting7)\n",
    "print(\"Gradient Boosting rmse: {:.4f} ({:.4f}), r2: {:.1f}%\\n\" .format(score[0].mean(), score[0].std(), 100*score[1].mean()))"
   ]
  },
  {
   "cell_type": "code",
   "execution_count": 46,
   "metadata": {},
   "outputs": [
    {
     "name": "stdout",
     "output_type": "stream",
     "text": [
      "Gradient Boosting rmse: 0.2608 (0.0019), r2: 82.8%\n",
      "\n"
     ]
    }
   ],
   "source": [
    "#Gradient Boosting Regression \n",
    "\n",
    "score = scoring_cv(GradientBoosting8)\n",
    "print(\"Gradient Boosting rmse: {:.4f} ({:.4f}), r2: {:.1f}%\\n\" .format(score[0].mean(), score[0].std(), 100*score[1].mean()))"
   ]
  },
  {
   "cell_type": "code",
   "execution_count": 47,
   "metadata": {},
   "outputs": [
    {
     "name": "stdout",
     "output_type": "stream",
     "text": [
      "Gradient Boosting rmse: 0.2264 (0.0010), r2: 87.0%\n",
      "\n"
     ]
    }
   ],
   "source": [
    "#Gradient Boosting Regression \n",
    "\n",
    "score = scoring_cv(GradientBoosting9)\n",
    "print(\"Gradient Boosting rmse: {:.4f} ({:.4f}), r2: {:.1f}%\\n\" .format(score[0].mean(), score[0].std(), 100*score[1].mean()))"
   ]
  },
  {
   "cell_type": "code",
   "execution_count": 48,
   "metadata": {},
   "outputs": [
    {
     "name": "stdout",
     "output_type": "stream",
     "text": [
      "Gradient Boosting rmse: 0.2264 (0.0010), r2: 87.0%\n",
      "\n"
     ]
    }
   ],
   "source": [
    "#Gradient Boosting Regression \n",
    "\n",
    "score = scoring_cv(GradientBoosting10)\n",
    "print(\"Gradient Boosting rmse: {:.4f} ({:.4f}), r2: {:.1f}%\\n\" .format(score[0].mean(), score[0].std(), 100*score[1].mean()))"
   ]
  },
  {
   "cell_type": "markdown",
   "metadata": {},
   "source": [
    "Kilka linków:\n",
    "\n",
    "https://scikit-learn.org/stable/modules/generated/sklearn.ensemble.GradientBoostingRegressor.html\n",
    "\n",
    "http://aiway.pl/wzmacnianie-gradientowe/?fbclid=IwAR3uj9bD5Me_ToBqyzYMr825dr8rxMxBV9goelRp501lqeJiLd3XUrHHP-M \n",
    "\n",
    "http://www.miroslawmamczur.pl/czym-jest-wzmocnienie-gradientowe-gradient-boosting-i-dlaczego-jest-taki-dobry/\n",
    "\n",
    "https://scikit-learn.org/stable/auto_examples/ensemble/plot_gradient_boosting_regression.html"
   ]
  }
 ],
 "metadata": {
  "kernelspec": {
   "display_name": "Python 3",
   "language": "python",
   "name": "python3"
  },
  "language_info": {
   "codemirror_mode": {
    "name": "ipython",
    "version": 3
   },
   "file_extension": ".py",
   "mimetype": "text/x-python",
   "name": "python",
   "nbconvert_exporter": "python",
   "pygments_lexer": "ipython3",
   "version": "3.7.4"
  }
 },
 "nbformat": 4,
 "nbformat_minor": 2
}
