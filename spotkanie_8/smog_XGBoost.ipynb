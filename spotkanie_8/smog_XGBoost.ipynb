{
  "nbformat": 4,
  "nbformat_minor": 0,
  "metadata": {
    "colab": {
      "name": "smog_XGBoost.ipynb",
      "provenance": [],
      "machine_shape": "hm"
    },
    "kernelspec": {
      "name": "python3",
      "display_name": "Python 3"
    },
    "accelerator": "GPU"
  },
  "cells": [
    {
      "cell_type": "code",
      "metadata": {
        "id": "068N0VDYvWUt",
        "colab_type": "code",
        "outputId": "c507050d-a206-4831-cb8f-4d067f3aa4c0",
        "colab": {
          "base_uri": "https://localhost:8080/",
          "height": 678
        }
      },
      "source": [
        "!pip install --upgrade tables\n",
        "!pip install eli5\n",
        "!pip install xgboost\n",
        "!pip install hyperopt"
      ],
      "execution_count": 0,
      "outputs": [
        {
          "output_type": "stream",
          "text": [
            "Collecting tables\n",
            "\u001b[?25l  Downloading https://files.pythonhosted.org/packages/ed/c3/8fd9e3bb21872f9d69eb93b3014c86479864cca94e625fd03713ccacec80/tables-3.6.1-cp36-cp36m-manylinux1_x86_64.whl (4.3MB)\n",
            "\u001b[K     |████████████████████████████████| 4.3MB 3.4MB/s \n",
            "\u001b[?25hRequirement already satisfied, skipping upgrade: numpy>=1.9.3 in /usr/local/lib/python3.6/dist-packages (from tables) (1.18.2)\n",
            "Requirement already satisfied, skipping upgrade: numexpr>=2.6.2 in /usr/local/lib/python3.6/dist-packages (from tables) (2.7.1)\n",
            "Installing collected packages: tables\n",
            "  Found existing installation: tables 3.4.4\n",
            "    Uninstalling tables-3.4.4:\n",
            "      Successfully uninstalled tables-3.4.4\n",
            "Successfully installed tables-3.6.1\n",
            "Collecting eli5\n",
            "\u001b[?25l  Downloading https://files.pythonhosted.org/packages/97/2f/c85c7d8f8548e460829971785347e14e45fa5c6617da374711dec8cb38cc/eli5-0.10.1-py2.py3-none-any.whl (105kB)\n",
            "\u001b[K     |████████████████████████████████| 112kB 3.5MB/s \n",
            "\u001b[?25hRequirement already satisfied: six in /usr/local/lib/python3.6/dist-packages (from eli5) (1.12.0)\n",
            "Requirement already satisfied: scikit-learn>=0.18 in /usr/local/lib/python3.6/dist-packages (from eli5) (0.22.2.post1)\n",
            "Requirement already satisfied: graphviz in /usr/local/lib/python3.6/dist-packages (from eli5) (0.10.1)\n",
            "Requirement already satisfied: tabulate>=0.7.7 in /usr/local/lib/python3.6/dist-packages (from eli5) (0.8.6)\n",
            "Requirement already satisfied: numpy>=1.9.0 in /usr/local/lib/python3.6/dist-packages (from eli5) (1.18.2)\n",
            "Requirement already satisfied: attrs>16.0.0 in /usr/local/lib/python3.6/dist-packages (from eli5) (19.3.0)\n",
            "Requirement already satisfied: jinja2 in /usr/local/lib/python3.6/dist-packages (from eli5) (2.11.1)\n",
            "Requirement already satisfied: scipy in /usr/local/lib/python3.6/dist-packages (from eli5) (1.4.1)\n",
            "Requirement already satisfied: joblib>=0.11 in /usr/local/lib/python3.6/dist-packages (from scikit-learn>=0.18->eli5) (0.14.1)\n",
            "Requirement already satisfied: MarkupSafe>=0.23 in /usr/local/lib/python3.6/dist-packages (from jinja2->eli5) (1.1.1)\n",
            "Installing collected packages: eli5\n",
            "Successfully installed eli5-0.10.1\n",
            "Requirement already satisfied: xgboost in /usr/local/lib/python3.6/dist-packages (0.90)\n",
            "Requirement already satisfied: numpy in /usr/local/lib/python3.6/dist-packages (from xgboost) (1.18.2)\n",
            "Requirement already satisfied: scipy in /usr/local/lib/python3.6/dist-packages (from xgboost) (1.4.1)\n",
            "Requirement already satisfied: hyperopt in /usr/local/lib/python3.6/dist-packages (0.1.2)\n",
            "Requirement already satisfied: scipy in /usr/local/lib/python3.6/dist-packages (from hyperopt) (1.4.1)\n",
            "Requirement already satisfied: numpy in /usr/local/lib/python3.6/dist-packages (from hyperopt) (1.18.2)\n",
            "Requirement already satisfied: future in /usr/local/lib/python3.6/dist-packages (from hyperopt) (0.16.0)\n",
            "Requirement already satisfied: networkx in /usr/local/lib/python3.6/dist-packages (from hyperopt) (2.4)\n",
            "Requirement already satisfied: tqdm in /usr/local/lib/python3.6/dist-packages (from hyperopt) (4.38.0)\n",
            "Requirement already satisfied: pymongo in /usr/local/lib/python3.6/dist-packages (from hyperopt) (3.10.1)\n",
            "Requirement already satisfied: six in /usr/local/lib/python3.6/dist-packages (from hyperopt) (1.12.0)\n",
            "Requirement already satisfied: decorator>=4.3.0 in /usr/local/lib/python3.6/dist-packages (from networkx->hyperopt) (4.4.2)\n"
          ],
          "name": "stdout"
        }
      ]
    },
    {
      "cell_type": "code",
      "metadata": {
        "id": "QzAOaZhJwvTI",
        "colab_type": "code",
        "outputId": "8f689882-2019-4e2e-f564-6e524082d6a4",
        "colab": {
          "base_uri": "https://localhost:8080/",
          "height": 174
        }
      },
      "source": [
        "import pandas as pd\n",
        "import numpy as np\n",
        "import matplotlib.pyplot as plt\n",
        "import seaborn as sns\n",
        "from scipy import stats\n",
        "import xgboost as xgb\n",
        "\n",
        "from sklearn.metrics import mean_absolute_error as mae\n",
        "from sklearn.model_selection import cross_val_score, KFold\n",
        "\n",
        "import eli5\n",
        "from eli5.sklearn import PermutationImportance\n",
        "\n",
        "from hyperopt import hp, fmin, tpe, STATUS_OK"
      ],
      "execution_count": 0,
      "outputs": [
        {
          "output_type": "stream",
          "text": [
            "/usr/local/lib/python3.6/dist-packages/sklearn/utils/deprecation.py:144: FutureWarning: The sklearn.metrics.scorer module is  deprecated in version 0.22 and will be removed in version 0.24. The corresponding classes / functions should instead be imported from sklearn.metrics. Anything that cannot be imported from sklearn.metrics is now part of the private API.\n",
            "  warnings.warn(message, FutureWarning)\n",
            "/usr/local/lib/python3.6/dist-packages/sklearn/utils/deprecation.py:144: FutureWarning: The sklearn.feature_selection.base module is  deprecated in version 0.22 and will be removed in version 0.24. The corresponding classes / functions should instead be imported from sklearn.feature_selection. Anything that cannot be imported from sklearn.feature_selection is now part of the private API.\n",
            "  warnings.warn(message, FutureWarning)\n",
            "Using TensorFlow backend.\n"
          ],
          "name": "stderr"
        },
        {
          "output_type": "display_data",
          "data": {
            "text/html": [
              "<p style=\"color: red;\">\n",
              "The default version of TensorFlow in Colab will soon switch to TensorFlow 2.x.<br>\n",
              "We recommend you <a href=\"https://www.tensorflow.org/guide/migrate\" target=\"_blank\">upgrade</a> now \n",
              "or ensure your notebook will continue to use TensorFlow 1.x via the <code>%tensorflow_version 1.x</code> magic:\n",
              "<a href=\"https://colab.research.google.com/notebooks/tensorflow_version.ipynb\" target=\"_blank\">more info</a>.</p>\n"
            ],
            "text/plain": [
              "<IPython.core.display.HTML object>"
            ]
          },
          "metadata": {
            "tags": []
          }
        }
      ]
    },
    {
      "cell_type": "code",
      "metadata": {
        "id": "Yrc_d9c2w3XU",
        "colab_type": "code",
        "outputId": "3026bcfe-aadb-49c0-8e13-0bb127522ee6",
        "colab": {
          "base_uri": "https://localhost:8080/",
          "height": 35
        }
      },
      "source": [
        "cd \"/content/drive/My Drive/Colab Notebooks/smog\""
      ],
      "execution_count": 0,
      "outputs": [
        {
          "output_type": "stream",
          "text": [
            "/content/drive/My Drive/Colab Notebooks/smog\n"
          ],
          "name": "stdout"
        }
      ]
    },
    {
      "cell_type": "code",
      "metadata": {
        "id": "RAiAqTNxxAca",
        "colab_type": "code",
        "outputId": "171a4642-48ee-4833-caa6-44cd9f664dc2",
        "colab": {
          "base_uri": "https://localhost:8080/",
          "height": 35
        }
      },
      "source": [
        "ls data"
      ],
      "execution_count": 0,
      "outputs": [
        {
          "output_type": "stream",
          "text": [
            "data_pm25_plus_darksky.csv\n"
          ],
          "name": "stdout"
        }
      ]
    },
    {
      "cell_type": "code",
      "metadata": {
        "id": "pSA8tjwexDSv",
        "colab_type": "code",
        "colab": {}
      },
      "source": [
        "df = pd.read_csv('data/data_pm25_plus_darksky.csv')"
      ],
      "execution_count": 0,
      "outputs": []
    },
    {
      "cell_type": "code",
      "metadata": {
        "id": "Gc7wlPFDxKCy",
        "colab_type": "code",
        "outputId": "fe578193-bc2d-4953-df47-3fd927d0cd92",
        "colab": {
          "base_uri": "https://localhost:8080/",
          "height": 35
        }
      },
      "source": [
        "df.shape"
      ],
      "execution_count": 0,
      "outputs": [
        {
          "output_type": "execute_result",
          "data": {
            "text/plain": [
              "(43853, 31)"
            ]
          },
          "metadata": {
            "tags": []
          },
          "execution_count": 6
        }
      ]
    },
    {
      "cell_type": "code",
      "metadata": {
        "id": "36I7zWw3xLrf",
        "colab_type": "code",
        "outputId": "7d7619e8-99d7-4331-9b79-837d94fa5a34",
        "colab": {
          "base_uri": "https://localhost:8080/",
          "height": 330
        }
      },
      "source": [
        "df.head()"
      ],
      "execution_count": 0,
      "outputs": [
        {
          "output_type": "execute_result",
          "data": {
            "text/html": [
              "<div>\n",
              "<style scoped>\n",
              "    .dataframe tbody tr th:only-of-type {\n",
              "        vertical-align: middle;\n",
              "    }\n",
              "\n",
              "    .dataframe tbody tr th {\n",
              "        vertical-align: top;\n",
              "    }\n",
              "\n",
              "    .dataframe thead th {\n",
              "        text-align: right;\n",
              "    }\n",
              "</style>\n",
              "<table border=\"1\" class=\"dataframe\">\n",
              "  <thead>\n",
              "    <tr style=\"text-align: right;\">\n",
              "      <th></th>\n",
              "      <th>Unnamed: 0</th>\n",
              "      <th>date</th>\n",
              "      <th>pm25_nie</th>\n",
              "      <th>pm25_kon</th>\n",
              "      <th>pm25_wok</th>\n",
              "      <th>apparentTemperature</th>\n",
              "      <th>cloudCover</th>\n",
              "      <th>dewPoint</th>\n",
              "      <th>humidity</th>\n",
              "      <th>icon</th>\n",
              "      <th>ozone</th>\n",
              "      <th>precipAccumulation</th>\n",
              "      <th>precipIntensity</th>\n",
              "      <th>precipProbability</th>\n",
              "      <th>precipType</th>\n",
              "      <th>pressure</th>\n",
              "      <th>summary</th>\n",
              "      <th>temperature</th>\n",
              "      <th>time</th>\n",
              "      <th>uvIndex</th>\n",
              "      <th>visibility</th>\n",
              "      <th>windBearing</th>\n",
              "      <th>windGust</th>\n",
              "      <th>windSpeed</th>\n",
              "      <th>year</th>\n",
              "      <th>month</th>\n",
              "      <th>day</th>\n",
              "      <th>hour</th>\n",
              "      <th>day_of_week</th>\n",
              "      <th>no_of_week</th>\n",
              "      <th>winter_break</th>\n",
              "    </tr>\n",
              "  </thead>\n",
              "  <tbody>\n",
              "    <tr>\n",
              "      <th>0</th>\n",
              "      <td>0</td>\n",
              "      <td>2015-01-01 00:00:00</td>\n",
              "      <td>51.5034</td>\n",
              "      <td>78.085</td>\n",
              "      <td>51.320000</td>\n",
              "      <td>32.93</td>\n",
              "      <td>1.0</td>\n",
              "      <td>29.56</td>\n",
              "      <td>0.87</td>\n",
              "      <td>NaN</td>\n",
              "      <td>NaN</td>\n",
              "      <td>0.0</td>\n",
              "      <td>0.0</td>\n",
              "      <td>0.0</td>\n",
              "      <td>NaN</td>\n",
              "      <td>1027.7</td>\n",
              "      <td>NaN</td>\n",
              "      <td>32.93</td>\n",
              "      <td>1.420067e+09</td>\n",
              "      <td>0.0</td>\n",
              "      <td>2.733</td>\n",
              "      <td>260.0</td>\n",
              "      <td>6.93</td>\n",
              "      <td>6.93</td>\n",
              "      <td>2015</td>\n",
              "      <td>1</td>\n",
              "      <td>1</td>\n",
              "      <td>0</td>\n",
              "      <td>4</td>\n",
              "      <td>1</td>\n",
              "      <td>0</td>\n",
              "    </tr>\n",
              "    <tr>\n",
              "      <th>1</th>\n",
              "      <td>1</td>\n",
              "      <td>2015-01-01 01:00:00</td>\n",
              "      <td>71.8204</td>\n",
              "      <td>78.085</td>\n",
              "      <td>68.982316</td>\n",
              "      <td>33.90</td>\n",
              "      <td>1.0</td>\n",
              "      <td>31.11</td>\n",
              "      <td>0.89</td>\n",
              "      <td>NaN</td>\n",
              "      <td>NaN</td>\n",
              "      <td>0.0</td>\n",
              "      <td>0.0</td>\n",
              "      <td>0.0</td>\n",
              "      <td>NaN</td>\n",
              "      <td>1027.7</td>\n",
              "      <td>NaN</td>\n",
              "      <td>33.90</td>\n",
              "      <td>1.420070e+09</td>\n",
              "      <td>0.0</td>\n",
              "      <td>2.733</td>\n",
              "      <td>260.0</td>\n",
              "      <td>6.93</td>\n",
              "      <td>6.93</td>\n",
              "      <td>2015</td>\n",
              "      <td>1</td>\n",
              "      <td>1</td>\n",
              "      <td>1</td>\n",
              "      <td>4</td>\n",
              "      <td>1</td>\n",
              "      <td>0</td>\n",
              "    </tr>\n",
              "    <tr>\n",
              "      <th>2</th>\n",
              "      <td>2</td>\n",
              "      <td>2015-01-01 02:00:00</td>\n",
              "      <td>42.6996</td>\n",
              "      <td>64.460</td>\n",
              "      <td>48.707108</td>\n",
              "      <td>27.73</td>\n",
              "      <td>1.0</td>\n",
              "      <td>31.59</td>\n",
              "      <td>0.91</td>\n",
              "      <td>cloudy</td>\n",
              "      <td>NaN</td>\n",
              "      <td>0.0</td>\n",
              "      <td>0.0</td>\n",
              "      <td>0.0</td>\n",
              "      <td>NaN</td>\n",
              "      <td>1027.7</td>\n",
              "      <td>Overcast</td>\n",
              "      <td>33.81</td>\n",
              "      <td>1.420074e+09</td>\n",
              "      <td>0.0</td>\n",
              "      <td>2.733</td>\n",
              "      <td>260.0</td>\n",
              "      <td>6.93</td>\n",
              "      <td>6.93</td>\n",
              "      <td>2015</td>\n",
              "      <td>1</td>\n",
              "      <td>1</td>\n",
              "      <td>2</td>\n",
              "      <td>4</td>\n",
              "      <td>1</td>\n",
              "      <td>0</td>\n",
              "    </tr>\n",
              "    <tr>\n",
              "      <th>3</th>\n",
              "      <td>3</td>\n",
              "      <td>2015-01-01 03:00:00</td>\n",
              "      <td>38.2824</td>\n",
              "      <td>36.210</td>\n",
              "      <td>37.986883</td>\n",
              "      <td>27.73</td>\n",
              "      <td>1.0</td>\n",
              "      <td>32.76</td>\n",
              "      <td>0.96</td>\n",
              "      <td>fog</td>\n",
              "      <td>NaN</td>\n",
              "      <td>0.0</td>\n",
              "      <td>0.0</td>\n",
              "      <td>0.0</td>\n",
              "      <td>NaN</td>\n",
              "      <td>1027.7</td>\n",
              "      <td>Foggy</td>\n",
              "      <td>33.81</td>\n",
              "      <td>1.420078e+09</td>\n",
              "      <td>0.0</td>\n",
              "      <td>1.244</td>\n",
              "      <td>251.0</td>\n",
              "      <td>6.93</td>\n",
              "      <td>6.93</td>\n",
              "      <td>2015</td>\n",
              "      <td>1</td>\n",
              "      <td>1</td>\n",
              "      <td>3</td>\n",
              "      <td>4</td>\n",
              "      <td>1</td>\n",
              "      <td>0</td>\n",
              "    </tr>\n",
              "    <tr>\n",
              "      <th>4</th>\n",
              "      <td>4</td>\n",
              "      <td>2015-01-01 04:00:00</td>\n",
              "      <td>35.4194</td>\n",
              "      <td>29.585</td>\n",
              "      <td>33.675489</td>\n",
              "      <td>26.41</td>\n",
              "      <td>1.0</td>\n",
              "      <td>32.89</td>\n",
              "      <td>0.97</td>\n",
              "      <td>fog</td>\n",
              "      <td>NaN</td>\n",
              "      <td>0.0</td>\n",
              "      <td>0.0</td>\n",
              "      <td>0.0</td>\n",
              "      <td>NaN</td>\n",
              "      <td>1027.7</td>\n",
              "      <td>Foggy</td>\n",
              "      <td>33.73</td>\n",
              "      <td>1.420081e+09</td>\n",
              "      <td>0.0</td>\n",
              "      <td>1.152</td>\n",
              "      <td>251.0</td>\n",
              "      <td>8.96</td>\n",
              "      <td>8.96</td>\n",
              "      <td>2015</td>\n",
              "      <td>1</td>\n",
              "      <td>1</td>\n",
              "      <td>4</td>\n",
              "      <td>4</td>\n",
              "      <td>1</td>\n",
              "      <td>0</td>\n",
              "    </tr>\n",
              "  </tbody>\n",
              "</table>\n",
              "</div>"
            ],
            "text/plain": [
              "   Unnamed: 0                 date  ...  no_of_week  winter_break\n",
              "0           0  2015-01-01 00:00:00  ...           1             0\n",
              "1           1  2015-01-01 01:00:00  ...           1             0\n",
              "2           2  2015-01-01 02:00:00  ...           1             0\n",
              "3           3  2015-01-01 03:00:00  ...           1             0\n",
              "4           4  2015-01-01 04:00:00  ...           1             0\n",
              "\n",
              "[5 rows x 31 columns]"
            ]
          },
          "metadata": {
            "tags": []
          },
          "execution_count": 7
        }
      ]
    },
    {
      "cell_type": "code",
      "metadata": {
        "id": "Jvw4e-EzxUqa",
        "colab_type": "code",
        "outputId": "0ac4d744-ff55-491c-f13e-d7a06cb5078e",
        "colab": {
          "base_uri": "https://localhost:8080/",
          "height": 142
        }
      },
      "source": [
        "df.columns"
      ],
      "execution_count": 0,
      "outputs": [
        {
          "output_type": "execute_result",
          "data": {
            "text/plain": [
              "Index(['Unnamed: 0', 'date', 'pm25_nie', 'pm25_kon', 'pm25_wok',\n",
              "       'apparentTemperature', 'cloudCover', 'dewPoint', 'humidity', 'icon',\n",
              "       'ozone', 'precipAccumulation', 'precipIntensity', 'precipProbability',\n",
              "       'precipType', 'pressure', 'summary', 'temperature', 'time', 'uvIndex',\n",
              "       'visibility', 'windBearing', 'windGust', 'windSpeed', 'year', 'month',\n",
              "       'day', 'hour', 'day_of_week', 'no_of_week', 'winter_break'],\n",
              "      dtype='object')"
            ]
          },
          "metadata": {
            "tags": []
          },
          "execution_count": 8
        }
      ]
    },
    {
      "cell_type": "code",
      "metadata": {
        "id": "x51pVEg-xJBF",
        "colab_type": "code",
        "outputId": "0a82e34f-880d-47c7-b366-c932e0f568c3",
        "colab": {
          "base_uri": "https://localhost:8080/",
          "height": 153
        }
      },
      "source": [
        "#Usuwany niepotrzebne stacje\n",
        "df.drop('pm25_kon', 'pm25_wok','Unnamed: 0', 'time','year', 'month', 'day', 'hour'], axis = 1, inplace = True)\n",
        "df.head()"
      ],
      "execution_count": 0,
      "outputs": [
        {
          "output_type": "error",
          "ename": "SyntaxError",
          "evalue": "ignored",
          "traceback": [
            "\u001b[0;36m  File \u001b[0;32m\"<ipython-input-1-a4bb7fa2c45a>\"\u001b[0;36m, line \u001b[0;32m1\u001b[0m\n\u001b[0;31m    df.drop('pm25_kon', 'pm25_wok','Unnamed: 0', 'time','year', 'month', 'day', 'hour'], axis = 1, inplace = True)\u001b[0m\n\u001b[0m                                                                                      ^\u001b[0m\n\u001b[0;31mSyntaxError\u001b[0m\u001b[0;31m:\u001b[0m invalid syntax\n"
          ]
        }
      ]
    },
    {
      "cell_type": "code",
      "metadata": {
        "id": "AAn002KUxkWb",
        "colab_type": "code",
        "outputId": "7f77d3ea-5fbb-4285-fae6-39c3cb445980",
        "colab": {
          "base_uri": "https://localhost:8080/",
          "height": 517
        }
      },
      "source": [
        "df.isnull().sum()"
      ],
      "execution_count": 0,
      "outputs": [
        {
          "output_type": "execute_result",
          "data": {
            "text/plain": [
              "pm25_nie                   0\n",
              "apparentTemperature        0\n",
              "cloudCover                 0\n",
              "dewPoint                   0\n",
              "humidity                   0\n",
              "icon                    1634\n",
              "ozone                  30340\n",
              "precipAccumulation         0\n",
              "precipIntensity            0\n",
              "precipProbability          0\n",
              "precipType             38411\n",
              "pressure                   0\n",
              "summary                 1634\n",
              "temperature                0\n",
              "time                       0\n",
              "uvIndex                    0\n",
              "visibility                 0\n",
              "windBearing                0\n",
              "windGust                   0\n",
              "windSpeed                  0\n",
              "year                       0\n",
              "month                      0\n",
              "day                        0\n",
              "hour                       0\n",
              "day_of_week                0\n",
              "no_of_week                 0\n",
              "winter_break               0\n",
              "dtype: int64"
            ]
          },
          "metadata": {
            "tags": []
          },
          "execution_count": 10
        }
      ]
    },
    {
      "cell_type": "code",
      "metadata": {
        "id": "FuQj9hK7iQDe",
        "colab_type": "code",
        "outputId": "23a81124-6772-41f5-a175-1b68e7ff952c",
        "colab": {
          "base_uri": "https://localhost:8080/",
          "height": 896
        }
      },
      "source": [
        "df = df.dropna(1)\n",
        "df.head()"
      ],
      "execution_count": 0,
      "outputs": [
        {
          "output_type": "execute_result",
          "data": {
            "text/html": [
              "<div>\n",
              "<style scoped>\n",
              "    .dataframe tbody tr th:only-of-type {\n",
              "        vertical-align: middle;\n",
              "    }\n",
              "\n",
              "    .dataframe tbody tr th {\n",
              "        vertical-align: top;\n",
              "    }\n",
              "\n",
              "    .dataframe thead th {\n",
              "        text-align: right;\n",
              "    }\n",
              "</style>\n",
              "<table border=\"1\" class=\"dataframe\">\n",
              "  <thead>\n",
              "    <tr style=\"text-align: right;\">\n",
              "      <th></th>\n",
              "      <th>Suma</th>\n",
              "      <th>Udział</th>\n",
              "    </tr>\n",
              "  </thead>\n",
              "  <tbody>\n",
              "    <tr>\n",
              "      <th>precipType</th>\n",
              "      <td>38411</td>\n",
              "      <td>0.875904</td>\n",
              "    </tr>\n",
              "    <tr>\n",
              "      <th>ozone</th>\n",
              "      <td>30340</td>\n",
              "      <td>0.691857</td>\n",
              "    </tr>\n",
              "    <tr>\n",
              "      <th>summary</th>\n",
              "      <td>1634</td>\n",
              "      <td>0.037261</td>\n",
              "    </tr>\n",
              "    <tr>\n",
              "      <th>icon</th>\n",
              "      <td>1634</td>\n",
              "      <td>0.037261</td>\n",
              "    </tr>\n",
              "    <tr>\n",
              "      <th>winter_break</th>\n",
              "      <td>0</td>\n",
              "      <td>0.000000</td>\n",
              "    </tr>\n",
              "    <tr>\n",
              "      <th>apparentTemperature</th>\n",
              "      <td>0</td>\n",
              "      <td>0.000000</td>\n",
              "    </tr>\n",
              "    <tr>\n",
              "      <th>cloudCover</th>\n",
              "      <td>0</td>\n",
              "      <td>0.000000</td>\n",
              "    </tr>\n",
              "    <tr>\n",
              "      <th>dewPoint</th>\n",
              "      <td>0</td>\n",
              "      <td>0.000000</td>\n",
              "    </tr>\n",
              "    <tr>\n",
              "      <th>humidity</th>\n",
              "      <td>0</td>\n",
              "      <td>0.000000</td>\n",
              "    </tr>\n",
              "    <tr>\n",
              "      <th>precipAccumulation</th>\n",
              "      <td>0</td>\n",
              "      <td>0.000000</td>\n",
              "    </tr>\n",
              "    <tr>\n",
              "      <th>precipIntensity</th>\n",
              "      <td>0</td>\n",
              "      <td>0.000000</td>\n",
              "    </tr>\n",
              "    <tr>\n",
              "      <th>precipProbability</th>\n",
              "      <td>0</td>\n",
              "      <td>0.000000</td>\n",
              "    </tr>\n",
              "    <tr>\n",
              "      <th>pressure</th>\n",
              "      <td>0</td>\n",
              "      <td>0.000000</td>\n",
              "    </tr>\n",
              "    <tr>\n",
              "      <th>temperature</th>\n",
              "      <td>0</td>\n",
              "      <td>0.000000</td>\n",
              "    </tr>\n",
              "    <tr>\n",
              "      <th>no_of_week</th>\n",
              "      <td>0</td>\n",
              "      <td>0.000000</td>\n",
              "    </tr>\n",
              "    <tr>\n",
              "      <th>time</th>\n",
              "      <td>0</td>\n",
              "      <td>0.000000</td>\n",
              "    </tr>\n",
              "    <tr>\n",
              "      <th>uvIndex</th>\n",
              "      <td>0</td>\n",
              "      <td>0.000000</td>\n",
              "    </tr>\n",
              "    <tr>\n",
              "      <th>visibility</th>\n",
              "      <td>0</td>\n",
              "      <td>0.000000</td>\n",
              "    </tr>\n",
              "    <tr>\n",
              "      <th>windBearing</th>\n",
              "      <td>0</td>\n",
              "      <td>0.000000</td>\n",
              "    </tr>\n",
              "    <tr>\n",
              "      <th>windGust</th>\n",
              "      <td>0</td>\n",
              "      <td>0.000000</td>\n",
              "    </tr>\n",
              "    <tr>\n",
              "      <th>windSpeed</th>\n",
              "      <td>0</td>\n",
              "      <td>0.000000</td>\n",
              "    </tr>\n",
              "    <tr>\n",
              "      <th>year</th>\n",
              "      <td>0</td>\n",
              "      <td>0.000000</td>\n",
              "    </tr>\n",
              "    <tr>\n",
              "      <th>month</th>\n",
              "      <td>0</td>\n",
              "      <td>0.000000</td>\n",
              "    </tr>\n",
              "    <tr>\n",
              "      <th>day</th>\n",
              "      <td>0</td>\n",
              "      <td>0.000000</td>\n",
              "    </tr>\n",
              "    <tr>\n",
              "      <th>hour</th>\n",
              "      <td>0</td>\n",
              "      <td>0.000000</td>\n",
              "    </tr>\n",
              "    <tr>\n",
              "      <th>day_of_week</th>\n",
              "      <td>0</td>\n",
              "      <td>0.000000</td>\n",
              "    </tr>\n",
              "    <tr>\n",
              "      <th>pm25_nie</th>\n",
              "      <td>0</td>\n",
              "      <td>0.000000</td>\n",
              "    </tr>\n",
              "  </tbody>\n",
              "</table>\n",
              "</div>"
            ],
            "text/plain": [
              "                      Suma    Udział\n",
              "precipType           38411  0.875904\n",
              "ozone                30340  0.691857\n",
              "summary               1634  0.037261\n",
              "icon                  1634  0.037261\n",
              "winter_break             0  0.000000\n",
              "apparentTemperature      0  0.000000\n",
              "cloudCover               0  0.000000\n",
              "dewPoint                 0  0.000000\n",
              "humidity                 0  0.000000\n",
              "precipAccumulation       0  0.000000\n",
              "precipIntensity          0  0.000000\n",
              "precipProbability        0  0.000000\n",
              "pressure                 0  0.000000\n",
              "temperature              0  0.000000\n",
              "no_of_week               0  0.000000\n",
              "time                     0  0.000000\n",
              "uvIndex                  0  0.000000\n",
              "visibility               0  0.000000\n",
              "windBearing              0  0.000000\n",
              "windGust                 0  0.000000\n",
              "windSpeed                0  0.000000\n",
              "year                     0  0.000000\n",
              "month                    0  0.000000\n",
              "day                      0  0.000000\n",
              "hour                     0  0.000000\n",
              "day_of_week              0  0.000000\n",
              "pm25_nie                 0  0.000000"
            ]
          },
          "metadata": {
            "tags": []
          },
          "execution_count": 12
        }
      ]
    },
    {
      "cell_type": "markdown",
      "metadata": {
        "id": "xBjsI0mMEtPy",
        "colab_type": "text"
      },
      "source": [
        "EDA"
      ]
    },
    {
      "cell_type": "code",
      "metadata": {
        "id": "MR7VzUMQCJdK",
        "colab_type": "code",
        "outputId": "cadf29a8-976c-406e-f02e-3cde6420c77f",
        "colab": {
          "base_uri": "https://localhost:8080/",
          "height": 639
        }
      },
      "source": [
        "#Korelogram\n",
        "corrmat = df.corr()\n",
        "f, ax = plt.subplots(figsize=(12, 9))\n",
        "sns.heatmap(corrmat, vmax=.8, square=True);"
      ],
      "execution_count": 0,
      "outputs": [
        {
          "output_type": "display_data",
          "data": {
            "image/png": "[encoded data removed]",
            "text/plain": [
              "<Figure size 864x648 with 2 Axes>"
            ]
          },
          "metadata": {
            "tags": []
          }
        }
      ]
    },
    {
      "cell_type": "code",
      "metadata": {
        "id": "yI5DFFNgER8Y",
        "colab_type": "code",
        "outputId": "e303d241-3541-4f72-dfd6-ab522a10218e",
        "colab": {
          "base_uri": "https://localhost:8080/",
          "height": 400
        }
      },
      "source": [
        "#9 najmocniej skorelowanych zmiennych ze zmienną objaśnianą\n",
        "k = 10 #liczba zmiennych \n",
        "col = corrmat.nlargest(k, 'pm25_nie')['pm25_nie'].index\n",
        "cm = np.corrcoef(df[col].values.T)\n",
        "sns.set(font_scale=1.25)\n",
        "hm = sns.heatmap(cm, cbar=True, annot=True, square=True, fmt='.2f', annot_kws={'size': 10}, yticklabels=col.values, xticklabels=col.values)\n",
        "plt.show()"
      ],
      "execution_count": 0,
      "outputs": [
        {
          "output_type": "display_data",
          "data": {
            "image/png": "[encoded data removed]",
            "text/plain": [
              "<Figure size 432x288 with 2 Axes>"
            ]
          },
          "metadata": {
            "tags": []
          }
        }
      ]
    },
    {
      "cell_type": "code",
      "metadata": {
        "id": "Wtj3rDdrEe-f",
        "colab_type": "code",
        "colab": {}
      },
      "source": [
        "#Podział zbioru na zmienne objaśniające i zmienną objaśnianą\n",
        "y = df['pm25_nie']\n",
        "X = df.drop('pm25_nie', axis = 1)\n",
        "X2 = df.drop('pm25_nie', axis = 1)"
      ],
      "execution_count": 0,
      "outputs": []
    },
    {
      "cell_type": "code",
      "metadata": {
        "id": "duzsS31bEltX",
        "colab_type": "code",
        "outputId": "66395ac5-cd76-4e3d-9f87-824aec7ca9b3",
        "colab": {
          "base_uri": "https://localhost:8080/",
          "height": 53
        }
      },
      "source": [
        "print(y.shape)\n",
        "print(X.shape)"
      ],
      "execution_count": 0,
      "outputs": [
        {
          "output_type": "stream",
          "text": [
            "(43853,)\n",
            "(43853, 22)\n"
          ],
          "name": "stdout"
        }
      ]
    },
    {
      "cell_type": "code",
      "metadata": {
        "id": "0_a6NSVjExqA",
        "colab_type": "code",
        "outputId": "73577ad9-9955-4ad2-99cf-ee1a41ac7a6c",
        "colab": {
          "base_uri": "https://localhost:8080/",
          "height": 745
        }
      },
      "source": [
        "print(y.describe())\n",
        "sns.distplot(y)\n",
        "fig = plt.figure()\n",
        "qq = stats.probplot(df['pm25_nie'], plot=plt)"
      ],
      "execution_count": 0,
      "outputs": [
        {
          "output_type": "stream",
          "text": [
            "count    43853.000000\n",
            "mean        25.296143\n",
            "std         16.907685\n",
            "min          0.877018\n",
            "25%         13.535946\n",
            "50%         20.661466\n",
            "75%         31.902000\n",
            "max        187.930147\n",
            "Name: pm25_nie, dtype: float64\n"
          ],
          "name": "stdout"
        },
        {
          "output_type": "display_data",
          "data": {
            "image/png": "[encoded data removed]",
            "text/plain": [
              "<Figure size 432x288 with 1 Axes>"
            ]
          },
          "metadata": {
            "tags": []
          }
        },
        {
          "output_type": "display_data",
          "data": {
            "image/png": "[encoded data removed]",
            "text/plain": [
              "<Figure size 432x288 with 1 Axes>"
            ]
          },
          "metadata": {
            "tags": []
          }
        }
      ]
    },
    {
      "cell_type": "code",
      "metadata": {
        "id": "FuEP79m3FCJn",
        "colab_type": "code",
        "colab": {}
      },
      "source": [
        "#Transformacja logarytmiczna\n",
        "y = np.log(y)"
      ],
      "execution_count": 0,
      "outputs": []
    },
    {
      "cell_type": "code",
      "metadata": {
        "id": "lgogRQdyo0KH",
        "colab_type": "code",
        "outputId": "06b04443-a310-4897-d6cd-da58a3124dc1",
        "colab": {
          "base_uri": "https://localhost:8080/",
          "height": 584
        }
      },
      "source": [
        "#Ponowna weryfikacja normalności\n",
        "sns.distplot(y)\n",
        "fig = plt.figure()\n",
        "qq = stats.probplot(y, plot=plt)"
      ],
      "execution_count": 0,
      "outputs": [
        {
          "output_type": "display_data",
          "data": {
            "image/png": "[encoded data removed]",
            "text/plain": [
              "<Figure size 432x288 with 1 Axes>"
            ]
          },
          "metadata": {
            "tags": []
          }
        },
        {
          "output_type": "display_data",
          "data": {
            "image/png": "[encoded data removed]",
            "text/plain": [
              "<Figure size 432x288 with 1 Axes>"
            ]
          },
          "metadata": {
            "tags": []
          }
        }
      ]
    },
    {
      "cell_type": "markdown",
      "metadata": {
        "id": "LQPMCQMxrvxU",
        "colab_type": "text"
      },
      "source": [
        "standaryzacja"
      ]
    },
    {
      "cell_type": "code",
      "metadata": {
        "id": "qlmhIz06ru_k",
        "colab_type": "code",
        "outputId": "3365d529-ba5f-4d55-c750-ff3939f37bda",
        "colab": {
          "base_uri": "https://localhost:8080/",
          "height": 124
        }
      },
      "source": [
        "X.columns"
      ],
      "execution_count": 0,
      "outputs": [
        {
          "output_type": "execute_result",
          "data": {
            "text/plain": [
              "Index(['apparentTemperature', 'cloudCover', 'dewPoint', 'humidity',\n",
              "       'precipAccumulation', 'precipIntensity', 'precipProbability',\n",
              "       'pressure', 'temperature', 'time', 'uvIndex', 'visibility',\n",
              "       'windBearing', 'windGust', 'windSpeed', 'year', 'month', 'day', 'hour',\n",
              "       'day_of_week', 'no_of_week', 'winter_break'],\n",
              "      dtype='object')"
            ]
          },
          "metadata": {
            "tags": []
          },
          "execution_count": 22
        }
      ]
    },
    {
      "cell_type": "code",
      "metadata": {
        "id": "nbSBswx5vT-X",
        "colab_type": "code",
        "outputId": "25418144-9072-4a18-e26c-d0d46667aa10",
        "colab": {
          "base_uri": "https://localhost:8080/",
          "height": 356
        }
      },
      "source": [
        "from sklearn import preprocessing\n",
        "for a in X.columns:\n",
        "  \n",
        "  if X[a].dtypes != np.object and a != 'year' and a !=  'month' and a !=  'day' and a !=  'hour' and a != 'day_of_week' and a !=  'no_of_week' and a !=  'winter_break':\n",
        "    X[a] = preprocessing.scale(X[a]) \n",
        "\n",
        "X.head()\n",
        "X.describe()"
      ],
      "execution_count": 0,
      "outputs": [
        {
          "output_type": "stream",
          "text": [
            "/usr/local/lib/python3.6/dist-packages/sklearn/preprocessing/_data.py:173: UserWarning: Numerical issues were encountered when centering the data and might not be solved. Dataset may contain too large values. You may need to prescale your features.\n",
            "  warnings.warn(\"Numerical issues were encountered \"\n"
          ],
          "name": "stderr"
        },
        {
          "output_type": "execute_result",
          "data": {
            "text/html": [
              "<div>\n",
              "<style scoped>\n",
              "    .dataframe tbody tr th:only-of-type {\n",
              "        vertical-align: middle;\n",
              "    }\n",
              "\n",
              "    .dataframe tbody tr th {\n",
              "        vertical-align: top;\n",
              "    }\n",
              "\n",
              "    .dataframe thead th {\n",
              "        text-align: right;\n",
              "    }\n",
              "</style>\n",
              "<table border=\"1\" class=\"dataframe\">\n",
              "  <thead>\n",
              "    <tr style=\"text-align: right;\">\n",
              "      <th></th>\n",
              "      <th>apparentTemperature</th>\n",
              "      <th>cloudCover</th>\n",
              "      <th>dewPoint</th>\n",
              "      <th>humidity</th>\n",
              "      <th>precipAccumulation</th>\n",
              "      <th>precipIntensity</th>\n",
              "      <th>precipProbability</th>\n",
              "      <th>pressure</th>\n",
              "      <th>temperature</th>\n",
              "      <th>time</th>\n",
              "      <th>uvIndex</th>\n",
              "      <th>visibility</th>\n",
              "      <th>windBearing</th>\n",
              "      <th>windGust</th>\n",
              "      <th>windSpeed</th>\n",
              "      <th>year</th>\n",
              "      <th>month</th>\n",
              "      <th>day</th>\n",
              "      <th>hour</th>\n",
              "      <th>day_of_week</th>\n",
              "      <th>no_of_week</th>\n",
              "      <th>winter_break</th>\n",
              "    </tr>\n",
              "  </thead>\n",
              "  <tbody>\n",
              "    <tr>\n",
              "      <th>count</th>\n",
              "      <td>4.385300e+04</td>\n",
              "      <td>4.385300e+04</td>\n",
              "      <td>4.385300e+04</td>\n",
              "      <td>4.385300e+04</td>\n",
              "      <td>4.385300e+04</td>\n",
              "      <td>4.385300e+04</td>\n",
              "      <td>4.385300e+04</td>\n",
              "      <td>4.385300e+04</td>\n",
              "      <td>4.385300e+04</td>\n",
              "      <td>4.385300e+04</td>\n",
              "      <td>4.385300e+04</td>\n",
              "      <td>4.385300e+04</td>\n",
              "      <td>4.385300e+04</td>\n",
              "      <td>4.385300e+04</td>\n",
              "      <td>4.385300e+04</td>\n",
              "      <td>43853.000000</td>\n",
              "      <td>43853.000000</td>\n",
              "      <td>43853.000000</td>\n",
              "      <td>43853.000000</td>\n",
              "      <td>43853.000000</td>\n",
              "      <td>43853.000000</td>\n",
              "      <td>43853.000000</td>\n",
              "    </tr>\n",
              "    <tr>\n",
              "      <th>mean</th>\n",
              "      <td>-1.847629e-17</td>\n",
              "      <td>-2.895496e-16</td>\n",
              "      <td>-1.090020e-16</td>\n",
              "      <td>2.294394e-15</td>\n",
              "      <td>-7.083655e-15</td>\n",
              "      <td>-6.509594e-14</td>\n",
              "      <td>4.999759e-15</td>\n",
              "      <td>8.254770e-15</td>\n",
              "      <td>9.400756e-16</td>\n",
              "      <td>3.168666e-17</td>\n",
              "      <td>1.399904e-15</td>\n",
              "      <td>-6.810260e-14</td>\n",
              "      <td>-2.320650e-16</td>\n",
              "      <td>-3.689729e-15</td>\n",
              "      <td>2.640251e-16</td>\n",
              "      <td>2017.000000</td>\n",
              "      <td>6.520922</td>\n",
              "      <td>15.721137</td>\n",
              "      <td>11.498917</td>\n",
              "      <td>3.999247</td>\n",
              "      <td>26.603402</td>\n",
              "      <td>0.034593</td>\n",
              "    </tr>\n",
              "    <tr>\n",
              "      <th>std</th>\n",
              "      <td>1.000011e+00</td>\n",
              "      <td>1.000011e+00</td>\n",
              "      <td>1.000011e+00</td>\n",
              "      <td>1.000011e+00</td>\n",
              "      <td>1.000011e+00</td>\n",
              "      <td>1.000011e+00</td>\n",
              "      <td>1.000011e+00</td>\n",
              "      <td>1.000011e+00</td>\n",
              "      <td>1.000011e+00</td>\n",
              "      <td>1.000011e+00</td>\n",
              "      <td>1.000011e+00</td>\n",
              "      <td>1.000011e+00</td>\n",
              "      <td>1.000011e+00</td>\n",
              "      <td>1.000011e+00</td>\n",
              "      <td>1.000011e+00</td>\n",
              "      <td>1.413843</td>\n",
              "      <td>3.450052</td>\n",
              "      <td>8.804220</td>\n",
              "      <td>6.922614</td>\n",
              "      <td>2.001259</td>\n",
              "      <td>15.069082</td>\n",
              "      <td>0.182748</td>\n",
              "    </tr>\n",
              "    <tr>\n",
              "      <th>min</th>\n",
              "      <td>-3.147765e+00</td>\n",
              "      <td>-1.758421e+00</td>\n",
              "      <td>-3.935043e+00</td>\n",
              "      <td>-3.352246e+00</td>\n",
              "      <td>-6.789831e-02</td>\n",
              "      <td>-1.558430e-01</td>\n",
              "      <td>-2.327410e-01</td>\n",
              "      <td>-4.674042e+00</td>\n",
              "      <td>-3.418411e+00</td>\n",
              "      <td>-1.732598e+00</td>\n",
              "      <td>-5.426105e-01</td>\n",
              "      <td>-3.042833e+00</td>\n",
              "      <td>-2.063590e+00</td>\n",
              "      <td>-1.453863e+00</td>\n",
              "      <td>-1.904293e+00</td>\n",
              "      <td>2015.000000</td>\n",
              "      <td>1.000000</td>\n",
              "      <td>1.000000</td>\n",
              "      <td>0.000000</td>\n",
              "      <td>1.000000</td>\n",
              "      <td>1.000000</td>\n",
              "      <td>0.000000</td>\n",
              "    </tr>\n",
              "    <tr>\n",
              "      <th>25%</th>\n",
              "      <td>-8.194306e-01</td>\n",
              "      <td>-9.948313e-01</td>\n",
              "      <td>-7.023136e-01</td>\n",
              "      <td>-6.942047e-01</td>\n",
              "      <td>-6.789831e-02</td>\n",
              "      <td>-1.558430e-01</td>\n",
              "      <td>-2.327410e-01</td>\n",
              "      <td>-5.815254e-01</td>\n",
              "      <td>-7.915178e-01</td>\n",
              "      <td>-8.659688e-01</td>\n",
              "      <td>-5.426105e-01</td>\n",
              "      <td>-3.014945e-01</td>\n",
              "      <td>-8.384223e-01</td>\n",
              "      <td>-7.306604e-01</td>\n",
              "      <td>-7.198373e-01</td>\n",
              "      <td>2016.000000</td>\n",
              "      <td>4.000000</td>\n",
              "      <td>8.000000</td>\n",
              "      <td>5.000000</td>\n",
              "      <td>2.000000</td>\n",
              "      <td>14.000000</td>\n",
              "      <td>0.000000</td>\n",
              "    </tr>\n",
              "    <tr>\n",
              "      <th>50%</th>\n",
              "      <td>-2.779711e-02</td>\n",
              "      <td>4.407168e-01</td>\n",
              "      <td>5.549681e-04</td>\n",
              "      <td>1.918090e-01</td>\n",
              "      <td>-6.789831e-02</td>\n",
              "      <td>-1.558430e-01</td>\n",
              "      <td>-2.327410e-01</td>\n",
              "      <td>6.349866e-03</td>\n",
              "      <td>-5.222371e-02</td>\n",
              "      <td>7.395624e-04</td>\n",
              "      <td>-5.426105e-01</td>\n",
              "      <td>-3.010489e-01</td>\n",
              "      <td>1.310582e-01</td>\n",
              "      <td>-2.607193e-01</td>\n",
              "      <td>-1.503876e-01</td>\n",
              "      <td>2017.000000</td>\n",
              "      <td>7.000000</td>\n",
              "      <td>16.000000</td>\n",
              "      <td>11.000000</td>\n",
              "      <td>4.000000</td>\n",
              "      <td>27.000000</td>\n",
              "      <td>0.000000</td>\n",
              "    </tr>\n",
              "    <tr>\n",
              "      <th>75%</th>\n",
              "      <td>8.072281e-01</td>\n",
              "      <td>8.988704e-01</td>\n",
              "      <td>8.027250e-01</td>\n",
              "      <td>8.009434e-01</td>\n",
              "      <td>-6.789831e-02</td>\n",
              "      <td>-1.558430e-01</td>\n",
              "      <td>-2.327410e-01</td>\n",
              "      <td>6.394463e-01</td>\n",
              "      <td>7.774832e-01</td>\n",
              "      <td>8.655504e-01</td>\n",
              "      <td>8.579224e-02</td>\n",
              "      <td>1.384832e+00</td>\n",
              "      <td>8.128905e-01</td>\n",
              "      <td>4.441924e-01</td>\n",
              "      <td>5.835698e-01</td>\n",
              "      <td>2018.000000</td>\n",
              "      <td>10.000000</td>\n",
              "      <td>23.000000</td>\n",
              "      <td>17.000000</td>\n",
              "      <td>6.000000</td>\n",
              "      <td>40.000000</td>\n",
              "      <td>0.000000</td>\n",
              "    </tr>\n",
              "    <tr>\n",
              "      <th>max</th>\n",
              "      <td>2.574645e+00</td>\n",
              "      <td>1.295937e+00</td>\n",
              "      <td>2.281387e+00</td>\n",
              "      <td>1.520830e+00</td>\n",
              "      <td>5.015122e+01</td>\n",
              "      <td>4.719272e+01</td>\n",
              "      <td>1.009697e+01</td>\n",
              "      <td>3.409243e+00</td>\n",
              "      <td>2.832376e+00</td>\n",
              "      <td>1.732259e+00</td>\n",
              "      <td>4.484611e+00</td>\n",
              "      <td>1.384832e+00</td>\n",
              "      <td>1.761064e+00</td>\n",
              "      <td>5.811933e+00</td>\n",
              "      <td>7.910489e+00</td>\n",
              "      <td>2019.000000</td>\n",
              "      <td>12.000000</td>\n",
              "      <td>31.000000</td>\n",
              "      <td>23.000000</td>\n",
              "      <td>7.000000</td>\n",
              "      <td>53.000000</td>\n",
              "      <td>1.000000</td>\n",
              "    </tr>\n",
              "  </tbody>\n",
              "</table>\n",
              "</div>"
            ],
            "text/plain": [
              "       apparentTemperature    cloudCover  ...    no_of_week  winter_break\n",
              "count         4.385300e+04  4.385300e+04  ...  43853.000000  43853.000000\n",
              "mean         -1.847629e-17 -2.895496e-16  ...     26.603402      0.034593\n",
              "std           1.000011e+00  1.000011e+00  ...     15.069082      0.182748\n",
              "min          -3.147765e+00 -1.758421e+00  ...      1.000000      0.000000\n",
              "25%          -8.194306e-01 -9.948313e-01  ...     14.000000      0.000000\n",
              "50%          -2.779711e-02  4.407168e-01  ...     27.000000      0.000000\n",
              "75%           8.072281e-01  8.988704e-01  ...     40.000000      0.000000\n",
              "max           2.574645e+00  1.295937e+00  ...     53.000000      1.000000\n",
              "\n",
              "[8 rows x 22 columns]"
            ]
          },
          "metadata": {
            "tags": []
          },
          "execution_count": 23
        }
      ]
    },
    {
      "cell_type": "code",
      "metadata": {
        "id": "BQAelWljb-vy",
        "colab_type": "code",
        "outputId": "fede0fe0-1e0f-47a8-e14e-33ed2f0897d2",
        "colab": {
          "base_uri": "https://localhost:8080/",
          "height": 356
        }
      },
      "source": [
        "for a in X2.columns:\n",
        "  \n",
        "  if X2[a].dtypes != np.object:\n",
        "    X2[a] = preprocessing.scale(X2[a]) \n",
        "\n",
        "X2.head()\n",
        "X2.describe()"
      ],
      "execution_count": 0,
      "outputs": [
        {
          "output_type": "stream",
          "text": [
            "/usr/local/lib/python3.6/dist-packages/sklearn/preprocessing/_data.py:173: UserWarning: Numerical issues were encountered when centering the data and might not be solved. Dataset may contain too large values. You may need to prescale your features.\n",
            "  warnings.warn(\"Numerical issues were encountered \"\n"
          ],
          "name": "stderr"
        },
        {
          "output_type": "execute_result",
          "data": {
            "text/html": [
              "<div>\n",
              "<style scoped>\n",
              "    .dataframe tbody tr th:only-of-type {\n",
              "        vertical-align: middle;\n",
              "    }\n",
              "\n",
              "    .dataframe tbody tr th {\n",
              "        vertical-align: top;\n",
              "    }\n",
              "\n",
              "    .dataframe thead th {\n",
              "        text-align: right;\n",
              "    }\n",
              "</style>\n",
              "<table border=\"1\" class=\"dataframe\">\n",
              "  <thead>\n",
              "    <tr style=\"text-align: right;\">\n",
              "      <th></th>\n",
              "      <th>apparentTemperature</th>\n",
              "      <th>cloudCover</th>\n",
              "      <th>dewPoint</th>\n",
              "      <th>humidity</th>\n",
              "      <th>precipAccumulation</th>\n",
              "      <th>precipIntensity</th>\n",
              "      <th>precipProbability</th>\n",
              "      <th>pressure</th>\n",
              "      <th>temperature</th>\n",
              "      <th>time</th>\n",
              "      <th>uvIndex</th>\n",
              "      <th>visibility</th>\n",
              "      <th>windBearing</th>\n",
              "      <th>windGust</th>\n",
              "      <th>windSpeed</th>\n",
              "      <th>year</th>\n",
              "      <th>month</th>\n",
              "      <th>day</th>\n",
              "      <th>hour</th>\n",
              "      <th>day_of_week</th>\n",
              "      <th>no_of_week</th>\n",
              "      <th>winter_break</th>\n",
              "    </tr>\n",
              "  </thead>\n",
              "  <tbody>\n",
              "    <tr>\n",
              "      <th>count</th>\n",
              "      <td>4.385300e+04</td>\n",
              "      <td>4.385300e+04</td>\n",
              "      <td>4.385300e+04</td>\n",
              "      <td>4.385300e+04</td>\n",
              "      <td>4.385300e+04</td>\n",
              "      <td>4.385300e+04</td>\n",
              "      <td>4.385300e+04</td>\n",
              "      <td>4.385300e+04</td>\n",
              "      <td>4.385300e+04</td>\n",
              "      <td>4.385300e+04</td>\n",
              "      <td>4.385300e+04</td>\n",
              "      <td>4.385300e+04</td>\n",
              "      <td>4.385300e+04</td>\n",
              "      <td>4.385300e+04</td>\n",
              "      <td>4.385300e+04</td>\n",
              "      <td>4.385300e+04</td>\n",
              "      <td>4.385300e+04</td>\n",
              "      <td>4.385300e+04</td>\n",
              "      <td>4.385300e+04</td>\n",
              "      <td>4.385300e+04</td>\n",
              "      <td>4.385300e+04</td>\n",
              "      <td>4.385300e+04</td>\n",
              "    </tr>\n",
              "    <tr>\n",
              "      <th>mean</th>\n",
              "      <td>-1.847629e-17</td>\n",
              "      <td>-2.895496e-16</td>\n",
              "      <td>-1.090020e-16</td>\n",
              "      <td>2.294394e-15</td>\n",
              "      <td>-7.083655e-15</td>\n",
              "      <td>-6.509594e-14</td>\n",
              "      <td>4.999759e-15</td>\n",
              "      <td>8.254770e-15</td>\n",
              "      <td>9.400756e-16</td>\n",
              "      <td>3.168666e-17</td>\n",
              "      <td>1.399904e-15</td>\n",
              "      <td>-6.810260e-14</td>\n",
              "      <td>-2.320650e-16</td>\n",
              "      <td>-3.689729e-15</td>\n",
              "      <td>2.640251e-16</td>\n",
              "      <td>2.670429e-17</td>\n",
              "      <td>-1.589910e-14</td>\n",
              "      <td>1.232195e-15</td>\n",
              "      <td>1.734716e-16</td>\n",
              "      <td>-5.145918e-17</td>\n",
              "      <td>6.288612e-15</td>\n",
              "      <td>-2.866426e-14</td>\n",
              "    </tr>\n",
              "    <tr>\n",
              "      <th>std</th>\n",
              "      <td>1.000011e+00</td>\n",
              "      <td>1.000011e+00</td>\n",
              "      <td>1.000011e+00</td>\n",
              "      <td>1.000011e+00</td>\n",
              "      <td>1.000011e+00</td>\n",
              "      <td>1.000011e+00</td>\n",
              "      <td>1.000011e+00</td>\n",
              "      <td>1.000011e+00</td>\n",
              "      <td>1.000011e+00</td>\n",
              "      <td>1.000011e+00</td>\n",
              "      <td>1.000011e+00</td>\n",
              "      <td>1.000011e+00</td>\n",
              "      <td>1.000011e+00</td>\n",
              "      <td>1.000011e+00</td>\n",
              "      <td>1.000011e+00</td>\n",
              "      <td>1.000011e+00</td>\n",
              "      <td>1.000011e+00</td>\n",
              "      <td>1.000011e+00</td>\n",
              "      <td>1.000011e+00</td>\n",
              "      <td>1.000011e+00</td>\n",
              "      <td>1.000011e+00</td>\n",
              "      <td>1.000011e+00</td>\n",
              "    </tr>\n",
              "    <tr>\n",
              "      <th>min</th>\n",
              "      <td>-3.147765e+00</td>\n",
              "      <td>-1.758421e+00</td>\n",
              "      <td>-3.935043e+00</td>\n",
              "      <td>-3.352246e+00</td>\n",
              "      <td>-6.789831e-02</td>\n",
              "      <td>-1.558430e-01</td>\n",
              "      <td>-2.327410e-01</td>\n",
              "      <td>-4.674042e+00</td>\n",
              "      <td>-3.418411e+00</td>\n",
              "      <td>-1.732598e+00</td>\n",
              "      <td>-5.426105e-01</td>\n",
              "      <td>-3.042833e+00</td>\n",
              "      <td>-2.063590e+00</td>\n",
              "      <td>-1.453863e+00</td>\n",
              "      <td>-1.904293e+00</td>\n",
              "      <td>-1.414601e+00</td>\n",
              "      <td>-1.600262e+00</td>\n",
              "      <td>-1.672074e+00</td>\n",
              "      <td>-1.661085e+00</td>\n",
              "      <td>-1.498697e+00</td>\n",
              "      <td>-1.699088e+00</td>\n",
              "      <td>-1.892944e-01</td>\n",
              "    </tr>\n",
              "    <tr>\n",
              "      <th>25%</th>\n",
              "      <td>-8.194306e-01</td>\n",
              "      <td>-9.948313e-01</td>\n",
              "      <td>-7.023136e-01</td>\n",
              "      <td>-6.942047e-01</td>\n",
              "      <td>-6.789831e-02</td>\n",
              "      <td>-1.558430e-01</td>\n",
              "      <td>-2.327410e-01</td>\n",
              "      <td>-5.815254e-01</td>\n",
              "      <td>-7.915178e-01</td>\n",
              "      <td>-8.659688e-01</td>\n",
              "      <td>-5.426105e-01</td>\n",
              "      <td>-3.014945e-01</td>\n",
              "      <td>-8.384223e-01</td>\n",
              "      <td>-7.306604e-01</td>\n",
              "      <td>-7.198373e-01</td>\n",
              "      <td>-7.073004e-01</td>\n",
              "      <td>-7.306995e-01</td>\n",
              "      <td>-8.769913e-01</td>\n",
              "      <td>-9.388059e-01</td>\n",
              "      <td>-9.990061e-01</td>\n",
              "      <td>-8.363845e-01</td>\n",
              "      <td>-1.892944e-01</td>\n",
              "    </tr>\n",
              "    <tr>\n",
              "      <th>50%</th>\n",
              "      <td>-2.779711e-02</td>\n",
              "      <td>4.407168e-01</td>\n",
              "      <td>5.549681e-04</td>\n",
              "      <td>1.918090e-01</td>\n",
              "      <td>-6.789831e-02</td>\n",
              "      <td>-1.558430e-01</td>\n",
              "      <td>-2.327410e-01</td>\n",
              "      <td>6.349866e-03</td>\n",
              "      <td>-5.222371e-02</td>\n",
              "      <td>7.395624e-04</td>\n",
              "      <td>-5.426105e-01</td>\n",
              "      <td>-3.010489e-01</td>\n",
              "      <td>1.310582e-01</td>\n",
              "      <td>-2.607193e-01</td>\n",
              "      <td>-1.503876e-01</td>\n",
              "      <td>0.000000e+00</td>\n",
              "      <td>1.388626e-01</td>\n",
              "      <td>3.167420e-02</td>\n",
              "      <td>-7.207141e-02</td>\n",
              "      <td>3.760246e-04</td>\n",
              "      <td>2.631894e-02</td>\n",
              "      <td>-1.892944e-01</td>\n",
              "    </tr>\n",
              "    <tr>\n",
              "      <th>75%</th>\n",
              "      <td>8.072281e-01</td>\n",
              "      <td>8.988704e-01</td>\n",
              "      <td>8.027250e-01</td>\n",
              "      <td>8.009434e-01</td>\n",
              "      <td>-6.789831e-02</td>\n",
              "      <td>-1.558430e-01</td>\n",
              "      <td>-2.327410e-01</td>\n",
              "      <td>6.394463e-01</td>\n",
              "      <td>7.774832e-01</td>\n",
              "      <td>8.655504e-01</td>\n",
              "      <td>8.579224e-02</td>\n",
              "      <td>1.384832e+00</td>\n",
              "      <td>8.128905e-01</td>\n",
              "      <td>4.441924e-01</td>\n",
              "      <td>5.835698e-01</td>\n",
              "      <td>7.073004e-01</td>\n",
              "      <td>1.008425e+00</td>\n",
              "      <td>8.267565e-01</td>\n",
              "      <td>7.946631e-01</td>\n",
              "      <td>9.997581e-01</td>\n",
              "      <td>8.890224e-01</td>\n",
              "      <td>-1.892944e-01</td>\n",
              "    </tr>\n",
              "    <tr>\n",
              "      <th>max</th>\n",
              "      <td>2.574645e+00</td>\n",
              "      <td>1.295937e+00</td>\n",
              "      <td>2.281387e+00</td>\n",
              "      <td>1.520830e+00</td>\n",
              "      <td>5.015122e+01</td>\n",
              "      <td>4.719272e+01</td>\n",
              "      <td>1.009697e+01</td>\n",
              "      <td>3.409243e+00</td>\n",
              "      <td>2.832376e+00</td>\n",
              "      <td>1.732259e+00</td>\n",
              "      <td>4.484611e+00</td>\n",
              "      <td>1.384832e+00</td>\n",
              "      <td>1.761064e+00</td>\n",
              "      <td>5.811933e+00</td>\n",
              "      <td>7.910489e+00</td>\n",
              "      <td>1.414601e+00</td>\n",
              "      <td>1.588133e+00</td>\n",
              "      <td>1.735422e+00</td>\n",
              "      <td>1.661398e+00</td>\n",
              "      <td>1.499449e+00</td>\n",
              "      <td>1.751726e+00</td>\n",
              "      <td>5.282775e+00</td>\n",
              "    </tr>\n",
              "  </tbody>\n",
              "</table>\n",
              "</div>"
            ],
            "text/plain": [
              "       apparentTemperature    cloudCover  ...    no_of_week  winter_break\n",
              "count         4.385300e+04  4.385300e+04  ...  4.385300e+04  4.385300e+04\n",
              "mean         -1.847629e-17 -2.895496e-16  ...  6.288612e-15 -2.866426e-14\n",
              "std           1.000011e+00  1.000011e+00  ...  1.000011e+00  1.000011e+00\n",
              "min          -3.147765e+00 -1.758421e+00  ... -1.699088e+00 -1.892944e-01\n",
              "25%          -8.194306e-01 -9.948313e-01  ... -8.363845e-01 -1.892944e-01\n",
              "50%          -2.779711e-02  4.407168e-01  ...  2.631894e-02 -1.892944e-01\n",
              "75%           8.072281e-01  8.988704e-01  ...  8.890224e-01 -1.892944e-01\n",
              "max           2.574645e+00  1.295937e+00  ...  1.751726e+00  5.282775e+00\n",
              "\n",
              "[8 rows x 22 columns]"
            ]
          },
          "metadata": {
            "tags": []
          },
          "execution_count": 24
        }
      ]
    },
    {
      "cell_type": "markdown",
      "metadata": {
        "id": "xBdR-AcAvcXH",
        "colab_type": "text"
      },
      "source": [
        "onehotencoding"
      ]
    },
    {
      "cell_type": "code",
      "metadata": {
        "id": "kE1CDIuntcoJ",
        "colab_type": "code",
        "colab": {}
      },
      "source": [
        "dummy_df = pd.get_dummies(X)"
      ],
      "execution_count": 0,
      "outputs": []
    },
    {
      "cell_type": "code",
      "metadata": {
        "id": "RMDKrOQPcLQ_",
        "colab_type": "code",
        "colab": {}
      },
      "source": [
        "dummy_df2 = pd.get_dummies(X2)"
      ],
      "execution_count": 0,
      "outputs": []
    },
    {
      "cell_type": "markdown",
      "metadata": {
        "id": "c43BG2ZMuDQB",
        "colab_type": "text"
      },
      "source": [
        "https://pandas.pydata.org/pandas-docs/version/0.17.0/generated/pandas.get_dummies.html\n",
        "\n",
        "\n",
        "\n",
        "columns : list-like, default None\n",
        "\n",
        "    Column names in the DataFrame to be encoded. If columns is None then all the columns with object or category dtype will be converted.\n"
      ]
    },
    {
      "cell_type": "code",
      "metadata": {
        "id": "Kffb_omDtkft",
        "colab_type": "code",
        "outputId": "d0454a32-49bc-4f66-cffd-4eb8a8ab59f0",
        "colab": {
          "base_uri": "https://localhost:8080/",
          "height": 642
        }
      },
      "source": [
        "print(X.columns)\n",
        "print(dummy_df.columns)\n",
        "\n",
        "print(dummy_df.dtypes)"
      ],
      "execution_count": 0,
      "outputs": [
        {
          "output_type": "stream",
          "text": [
            "Index(['apparentTemperature', 'cloudCover', 'dewPoint', 'humidity',\n",
            "       'precipAccumulation', 'precipIntensity', 'precipProbability',\n",
            "       'pressure', 'temperature', 'time', 'uvIndex', 'visibility',\n",
            "       'windBearing', 'windGust', 'windSpeed', 'year', 'month', 'day', 'hour',\n",
            "       'day_of_week', 'no_of_week', 'winter_break'],\n",
            "      dtype='object')\n",
            "Index(['apparentTemperature', 'cloudCover', 'dewPoint', 'humidity',\n",
            "       'precipAccumulation', 'precipIntensity', 'precipProbability',\n",
            "       'pressure', 'temperature', 'time', 'uvIndex', 'visibility',\n",
            "       'windBearing', 'windGust', 'windSpeed', 'year', 'month', 'day', 'hour',\n",
            "       'day_of_week', 'no_of_week', 'winter_break'],\n",
            "      dtype='object')\n",
            "apparentTemperature    float64\n",
            "cloudCover             float64\n",
            "dewPoint               float64\n",
            "humidity               float64\n",
            "precipAccumulation     float64\n",
            "precipIntensity        float64\n",
            "precipProbability      float64\n",
            "pressure               float64\n",
            "temperature            float64\n",
            "time                   float64\n",
            "uvIndex                float64\n",
            "visibility             float64\n",
            "windBearing            float64\n",
            "windGust               float64\n",
            "windSpeed              float64\n",
            "year                     int64\n",
            "month                    int64\n",
            "day                      int64\n",
            "hour                     int64\n",
            "day_of_week              int64\n",
            "no_of_week               int64\n",
            "winter_break             int64\n",
            "dtype: object\n"
          ],
          "name": "stdout"
        }
      ]
    },
    {
      "cell_type": "code",
      "metadata": {
        "id": "fwBoLXy24hYp",
        "colab_type": "code",
        "outputId": "32e7f5e4-007c-4bdf-b88a-6ee7b53418a1",
        "colab": {
          "base_uri": "https://localhost:8080/",
          "height": 1000
        }
      },
      "source": [
        "dummy_df.isnull().sum()"
      ],
      "execution_count": 0,
      "outputs": [
        {
          "output_type": "execute_result",
          "data": {
            "text/plain": [
              "apparentTemperature                                  0\n",
              "cloudCover                                           0\n",
              "dewPoint                                             0\n",
              "humidity                                             0\n",
              "precipAccumulation                                   0\n",
              "precipIntensity                                      0\n",
              "precipProbability                                    0\n",
              "pressure                                             0\n",
              "temperature                                          0\n",
              "time                                                 0\n",
              "uvIndex                                              0\n",
              "visibility                                           0\n",
              "windBearing                                          0\n",
              "windGust                                             0\n",
              "windSpeed                                            0\n",
              "year                                                 0\n",
              "month                                                0\n",
              "day                                                  0\n",
              "hour                                                 0\n",
              "day_of_week                                          0\n",
              "no_of_week                                           0\n",
              "winter_break                                         0\n",
              "icon_clear-day                                       0\n",
              "icon_clear-night                                     0\n",
              "icon_cloudy                                          0\n",
              "icon_fog                                             0\n",
              "icon_partly-cloudy-day                               0\n",
              "icon_partly-cloudy-night                             0\n",
              "icon_rain                                            0\n",
              "icon_sleet                                           0\n",
              "icon_snow                                            0\n",
              "icon_wind                                            0\n",
              "summary_Clear                                        0\n",
              "summary_Dangerously Windy and Mostly Cloudy          0\n",
              "summary_Dangerously Windy and Partly Cloudy          0\n",
              "summary_Drizzle                                      0\n",
              "summary_Flurries                                     0\n",
              "summary_Foggy                                        0\n",
              "summary_Light Rain                                   0\n",
              "summary_Light Rain and Dangerously Windy             0\n",
              "summary_Light Rain and Windy                         0\n",
              "summary_Light Sleet                                  0\n",
              "summary_Light Snow                                   0\n",
              "summary_Mostly Cloudy                                0\n",
              "summary_Overcast                                     0\n",
              "summary_Partly Cloudy                                0\n",
              "summary_Possible Drizzle                             0\n",
              "summary_Possible Drizzle and Windy                   0\n",
              "summary_Possible Flurries                            0\n",
              "summary_Possible Light Rain                          0\n",
              "summary_Possible Light Rain and Dangerously Windy    0\n",
              "summary_Possible Light Rain and Windy                0\n",
              "summary_Possible Light Sleet                         0\n",
              "summary_Possible Light Snow                          0\n",
              "summary_Rain                                         0\n",
              "summary_Rain and Windy                               0\n",
              "summary_Windy                                        0\n",
              "summary_Windy and Mostly Cloudy                      0\n",
              "summary_Windy and Overcast                           0\n",
              "summary_Windy and Partly Cloudy                      0\n",
              "dtype: int64"
            ]
          },
          "metadata": {
            "tags": []
          },
          "execution_count": 50
        }
      ]
    },
    {
      "cell_type": "code",
      "metadata": {
        "id": "AFNs-X_M4xET",
        "colab_type": "code",
        "colab": {}
      },
      "source": [
        "def run_model(model, feats):\n",
        "\n",
        "  scores = cross_val_score(model, X, y, cv = 3, scoring='neg_mean_absolute_error')\n",
        "\n",
        "  return np.mean(scores), np.std(scores)"
      ],
      "execution_count": 0,
      "outputs": []
    },
    {
      "cell_type": "code",
      "metadata": {
        "id": "GXMcdRH5cPdQ",
        "colab_type": "code",
        "colab": {}
      },
      "source": [
        "def run_model2(model, feats):\n",
        "\n",
        "  scores = cross_val_score(model, X2, y, cv = 3, scoring='neg_mean_absolute_error')\n",
        "\n",
        "  return np.mean(scores), np.std(scores)"
      ],
      "execution_count": 0,
      "outputs": []
    },
    {
      "cell_type": "code",
      "metadata": {
        "id": "BlAEVH_W5qzi",
        "colab_type": "code",
        "outputId": "2cd3990e-0e67-4e79-a031-b412db76a6fd",
        "colab": {
          "base_uri": "https://localhost:8080/",
          "height": 196
        }
      },
      "source": [
        "xgb_params ={\n",
        "    'max_depth': 5,\n",
        "    'n_estimators': 50,\n",
        "    'learning rate': 0.1,\n",
        "    'seed': 0\n",
        "}\n",
        "\n",
        "model = xgb.XGBRegressor(**xgb_params)\n",
        "run_model(model, X.columns)"
      ],
      "execution_count": 0,
      "outputs": [
        {
          "output_type": "stream",
          "text": [
            "/usr/local/lib/python3.6/dist-packages/xgboost/core.py:587: FutureWarning: Series.base is deprecated and will be removed in a future version\n",
            "  if getattr(data, 'base', None) is not None and \\\n"
          ],
          "name": "stderr"
        },
        {
          "output_type": "stream",
          "text": [
            "[17:56:03] WARNING: /workspace/src/objective/regression_obj.cu:152: reg:linear is now deprecated in favor of reg:squarederror.\n"
          ],
          "name": "stdout"
        },
        {
          "output_type": "stream",
          "text": [
            "/usr/local/lib/python3.6/dist-packages/xgboost/core.py:587: FutureWarning: Series.base is deprecated and will be removed in a future version\n",
            "  if getattr(data, 'base', None) is not None and \\\n"
          ],
          "name": "stderr"
        },
        {
          "output_type": "stream",
          "text": [
            "[17:56:05] WARNING: /workspace/src/objective/regression_obj.cu:152: reg:linear is now deprecated in favor of reg:squarederror.\n"
          ],
          "name": "stdout"
        },
        {
          "output_type": "stream",
          "text": [
            "/usr/local/lib/python3.6/dist-packages/xgboost/core.py:587: FutureWarning: Series.base is deprecated and will be removed in a future version\n",
            "  if getattr(data, 'base', None) is not None and \\\n"
          ],
          "name": "stderr"
        },
        {
          "output_type": "stream",
          "text": [
            "[17:56:08] WARNING: /workspace/src/objective/regression_obj.cu:152: reg:linear is now deprecated in favor of reg:squarederror.\n"
          ],
          "name": "stdout"
        },
        {
          "output_type": "execute_result",
          "data": {
            "text/plain": [
              "(-0.3379845717929828, 0.00731429840848191)"
            ]
          },
          "metadata": {
            "tags": []
          },
          "execution_count": 29
        }
      ]
    },
    {
      "cell_type": "code",
      "metadata": {
        "id": "uF2HxSPecizL",
        "colab_type": "code",
        "outputId": "0c12348f-4b04-482d-e850-f0ed5bd29cec",
        "colab": {
          "base_uri": "https://localhost:8080/",
          "height": 196
        }
      },
      "source": [
        "run_model2(model, X2.columns)"
      ],
      "execution_count": 0,
      "outputs": [
        {
          "output_type": "stream",
          "text": [
            "/usr/local/lib/python3.6/dist-packages/xgboost/core.py:587: FutureWarning: Series.base is deprecated and will be removed in a future version\n",
            "  if getattr(data, 'base', None) is not None and \\\n"
          ],
          "name": "stderr"
        },
        {
          "output_type": "stream",
          "text": [
            "[17:56:19] WARNING: /workspace/src/objective/regression_obj.cu:152: reg:linear is now deprecated in favor of reg:squarederror.\n"
          ],
          "name": "stdout"
        },
        {
          "output_type": "stream",
          "text": [
            "/usr/local/lib/python3.6/dist-packages/xgboost/core.py:587: FutureWarning: Series.base is deprecated and will be removed in a future version\n",
            "  if getattr(data, 'base', None) is not None and \\\n"
          ],
          "name": "stderr"
        },
        {
          "output_type": "stream",
          "text": [
            "[17:56:21] WARNING: /workspace/src/objective/regression_obj.cu:152: reg:linear is now deprecated in favor of reg:squarederror.\n"
          ],
          "name": "stdout"
        },
        {
          "output_type": "stream",
          "text": [
            "/usr/local/lib/python3.6/dist-packages/xgboost/core.py:587: FutureWarning: Series.base is deprecated and will be removed in a future version\n",
            "  if getattr(data, 'base', None) is not None and \\\n"
          ],
          "name": "stderr"
        },
        {
          "output_type": "stream",
          "text": [
            "[17:56:23] WARNING: /workspace/src/objective/regression_obj.cu:152: reg:linear is now deprecated in favor of reg:squarederror.\n"
          ],
          "name": "stdout"
        },
        {
          "output_type": "execute_result",
          "data": {
            "text/plain": [
              "(-0.3379845717929828, 0.00731429840848191)"
            ]
          },
          "metadata": {
            "tags": []
          },
          "execution_count": 30
        }
      ]
    },
    {
      "cell_type": "code",
      "metadata": {
        "id": "cX-Qc5Go73kw",
        "colab_type": "code",
        "outputId": "37651127-4936-4d47-fef9-fe95a2cf9e6f",
        "colab": {
          "base_uri": "https://localhost:8080/",
          "height": 1000
        }
      },
      "source": [
        "list(dummy_df.columns"
      ],
      "execution_count": 0,
      "outputs": [
        {
          "output_type": "execute_result",
          "data": {
            "text/plain": [
              "['apparentTemperature',\n",
              " 'cloudCover',\n",
              " 'dewPoint',\n",
              " 'humidity',\n",
              " 'precipAccumulation',\n",
              " 'precipIntensity',\n",
              " 'precipProbability',\n",
              " 'pressure',\n",
              " 'temperature',\n",
              " 'time',\n",
              " 'uvIndex',\n",
              " 'visibility',\n",
              " 'windBearing',\n",
              " 'windGust',\n",
              " 'windSpeed',\n",
              " 'year',\n",
              " 'month',\n",
              " 'day',\n",
              " 'hour',\n",
              " 'day_of_week',\n",
              " 'no_of_week',\n",
              " 'winter_break',\n",
              " 'icon_clear-day',\n",
              " 'icon_clear-night',\n",
              " 'icon_cloudy',\n",
              " 'icon_fog',\n",
              " 'icon_partly-cloudy-day',\n",
              " 'icon_partly-cloudy-night',\n",
              " 'icon_rain',\n",
              " 'icon_sleet',\n",
              " 'icon_snow',\n",
              " 'icon_wind',\n",
              " 'summary_Clear',\n",
              " 'summary_Dangerously Windy and Mostly Cloudy',\n",
              " 'summary_Dangerously Windy and Partly Cloudy',\n",
              " 'summary_Drizzle',\n",
              " 'summary_Flurries',\n",
              " 'summary_Foggy',\n",
              " 'summary_Light Rain',\n",
              " 'summary_Light Rain and Dangerously Windy',\n",
              " 'summary_Light Rain and Windy',\n",
              " 'summary_Light Sleet',\n",
              " 'summary_Light Snow',\n",
              " 'summary_Mostly Cloudy',\n",
              " 'summary_Overcast',\n",
              " 'summary_Partly Cloudy',\n",
              " 'summary_Possible Drizzle',\n",
              " 'summary_Possible Drizzle and Windy',\n",
              " 'summary_Possible Flurries',\n",
              " 'summary_Possible Light Rain',\n",
              " 'summary_Possible Light Rain and Dangerously Windy',\n",
              " 'summary_Possible Light Rain and Windy',\n",
              " 'summary_Possible Light Sleet',\n",
              " 'summary_Possible Light Snow',\n",
              " 'summary_Rain',\n",
              " 'summary_Rain and Windy',\n",
              " 'summary_Windy',\n",
              " 'summary_Windy and Mostly Cloudy',\n",
              " 'summary_Windy and Overcast',\n",
              " 'summary_Windy and Partly Cloudy']"
            ]
          },
          "metadata": {
            "tags": []
          },
          "execution_count": 61
        }
      ]
    },
    {
      "cell_type": "code",
      "metadata": {
        "id": "lLY6sTdk6B_C",
        "colab_type": "code",
        "outputId": "d39e424f-6d07-4fb8-c1ad-91bfd9beac77",
        "colab": {
          "base_uri": "https://localhost:8080/",
          "height": 453
        }
      },
      "source": [
        "m = xgb.XGBRegressor(max_depth= 5)\n",
        "m.fit(X,y)\n",
        "\n",
        "imp = PermutationImportance(m).fit(X,y)\n",
        "\n",
        "eli5.show_weights(m, feature_names =list(X.columns))"
      ],
      "execution_count": 0,
      "outputs": [
        {
          "output_type": "stream",
          "text": [
            "/usr/local/lib/python3.6/dist-packages/xgboost/core.py:587: FutureWarning: Series.base is deprecated and will be removed in a future version\n",
            "  if getattr(data, 'base', None) is not None and \\\n"
          ],
          "name": "stderr"
        },
        {
          "output_type": "stream",
          "text": [
            "[17:57:13] WARNING: /workspace/src/objective/regression_obj.cu:152: reg:linear is now deprecated in favor of reg:squarederror.\n"
          ],
          "name": "stdout"
        },
        {
          "output_type": "execute_result",
          "data": {
            "text/html": [
              "\n",
              "    <style>\n",
              "    table.eli5-weights tr:hover {\n",
              "        filter: brightness(85%);\n",
              "    }\n",
              "</style>\n",
              "\n",
              "\n",
              "\n",
              "    \n",
              "\n",
              "    \n",
              "\n",
              "    \n",
              "\n",
              "    \n",
              "\n",
              "    \n",
              "\n",
              "    \n",
              "\n",
              "\n",
              "    \n",
              "\n",
              "    \n",
              "\n",
              "    \n",
              "\n",
              "    \n",
              "\n",
              "    \n",
              "\n",
              "    \n",
              "\n",
              "\n",
              "    \n",
              "\n",
              "    \n",
              "\n",
              "    \n",
              "\n",
              "    \n",
              "\n",
              "    \n",
              "        <table class=\"eli5-weights eli5-feature-importances\" style=\"border-collapse: collapse; border: none; margin-top: 0em; table-layout: auto;\">\n",
              "    <thead>\n",
              "    <tr style=\"border: none;\">\n",
              "        <th style=\"padding: 0 1em 0 0.5em; text-align: right; border: none;\">Weight</th>\n",
              "        <th style=\"padding: 0 0.5em 0 0.5em; text-align: left; border: none;\">Feature</th>\n",
              "    </tr>\n",
              "    </thead>\n",
              "    <tbody>\n",
              "    \n",
              "        <tr style=\"background-color: hsl(120, 100.00%, 80.00%); border: none;\">\n",
              "            <td style=\"padding: 0 1em 0 0.5em; text-align: right; border: none;\">\n",
              "                0.3267\n",
              "                \n",
              "            </td>\n",
              "            <td style=\"padding: 0 0.5em 0 0.5em; text-align: left; border: none;\">\n",
              "                visibility\n",
              "            </td>\n",
              "        </tr>\n",
              "    \n",
              "        <tr style=\"background-color: hsl(120, 100.00%, 90.14%); border: none;\">\n",
              "            <td style=\"padding: 0 1em 0 0.5em; text-align: right; border: none;\">\n",
              "                0.1190\n",
              "                \n",
              "            </td>\n",
              "            <td style=\"padding: 0 0.5em 0 0.5em; text-align: left; border: none;\">\n",
              "                windSpeed\n",
              "            </td>\n",
              "        </tr>\n",
              "    \n",
              "        <tr style=\"background-color: hsl(120, 100.00%, 92.98%); border: none;\">\n",
              "            <td style=\"padding: 0 1em 0 0.5em; text-align: right; border: none;\">\n",
              "                0.0732\n",
              "                \n",
              "            </td>\n",
              "            <td style=\"padding: 0 0.5em 0 0.5em; text-align: left; border: none;\">\n",
              "                windGust\n",
              "            </td>\n",
              "        </tr>\n",
              "    \n",
              "        <tr style=\"background-color: hsl(120, 100.00%, 93.26%); border: none;\">\n",
              "            <td style=\"padding: 0 1em 0 0.5em; text-align: right; border: none;\">\n",
              "                0.0691\n",
              "                \n",
              "            </td>\n",
              "            <td style=\"padding: 0 0.5em 0 0.5em; text-align: left; border: none;\">\n",
              "                no_of_week\n",
              "            </td>\n",
              "        </tr>\n",
              "    \n",
              "        <tr style=\"background-color: hsl(120, 100.00%, 94.43%); border: none;\">\n",
              "            <td style=\"padding: 0 1em 0 0.5em; text-align: right; border: none;\">\n",
              "                0.0527\n",
              "                \n",
              "            </td>\n",
              "            <td style=\"padding: 0 0.5em 0 0.5em; text-align: left; border: none;\">\n",
              "                apparentTemperature\n",
              "            </td>\n",
              "        </tr>\n",
              "    \n",
              "        <tr style=\"background-color: hsl(120, 100.00%, 94.57%); border: none;\">\n",
              "            <td style=\"padding: 0 1em 0 0.5em; text-align: right; border: none;\">\n",
              "                0.0507\n",
              "                \n",
              "            </td>\n",
              "            <td style=\"padding: 0 0.5em 0 0.5em; text-align: left; border: none;\">\n",
              "                month\n",
              "            </td>\n",
              "        </tr>\n",
              "    \n",
              "        <tr style=\"background-color: hsl(120, 100.00%, 95.25%); border: none;\">\n",
              "            <td style=\"padding: 0 1em 0 0.5em; text-align: right; border: none;\">\n",
              "                0.0420\n",
              "                \n",
              "            </td>\n",
              "            <td style=\"padding: 0 0.5em 0 0.5em; text-align: left; border: none;\">\n",
              "                dewPoint\n",
              "            </td>\n",
              "        </tr>\n",
              "    \n",
              "        <tr style=\"background-color: hsl(120, 100.00%, 95.32%); border: none;\">\n",
              "            <td style=\"padding: 0 1em 0 0.5em; text-align: right; border: none;\">\n",
              "                0.0410\n",
              "                \n",
              "            </td>\n",
              "            <td style=\"padding: 0 0.5em 0 0.5em; text-align: left; border: none;\">\n",
              "                humidity\n",
              "            </td>\n",
              "        </tr>\n",
              "    \n",
              "        <tr style=\"background-color: hsl(120, 100.00%, 95.67%); border: none;\">\n",
              "            <td style=\"padding: 0 1em 0 0.5em; text-align: right; border: none;\">\n",
              "                0.0367\n",
              "                \n",
              "            </td>\n",
              "            <td style=\"padding: 0 0.5em 0 0.5em; text-align: left; border: none;\">\n",
              "                windBearing\n",
              "            </td>\n",
              "        </tr>\n",
              "    \n",
              "        <tr style=\"background-color: hsl(120, 100.00%, 96.41%); border: none;\">\n",
              "            <td style=\"padding: 0 1em 0 0.5em; text-align: right; border: none;\">\n",
              "                0.0281\n",
              "                \n",
              "            </td>\n",
              "            <td style=\"padding: 0 0.5em 0 0.5em; text-align: left; border: none;\">\n",
              "                precipIntensity\n",
              "            </td>\n",
              "        </tr>\n",
              "    \n",
              "        <tr style=\"background-color: hsl(120, 100.00%, 96.45%); border: none;\">\n",
              "            <td style=\"padding: 0 1em 0 0.5em; text-align: right; border: none;\">\n",
              "                0.0277\n",
              "                \n",
              "            </td>\n",
              "            <td style=\"padding: 0 0.5em 0 0.5em; text-align: left; border: none;\">\n",
              "                uvIndex\n",
              "            </td>\n",
              "        </tr>\n",
              "    \n",
              "        <tr style=\"background-color: hsl(120, 100.00%, 96.69%); border: none;\">\n",
              "            <td style=\"padding: 0 1em 0 0.5em; text-align: right; border: none;\">\n",
              "                0.0250\n",
              "                \n",
              "            </td>\n",
              "            <td style=\"padding: 0 0.5em 0 0.5em; text-align: left; border: none;\">\n",
              "                temperature\n",
              "            </td>\n",
              "        </tr>\n",
              "    \n",
              "        <tr style=\"background-color: hsl(120, 100.00%, 97.06%); border: none;\">\n",
              "            <td style=\"padding: 0 1em 0 0.5em; text-align: right; border: none;\">\n",
              "                0.0211\n",
              "                \n",
              "            </td>\n",
              "            <td style=\"padding: 0 0.5em 0 0.5em; text-align: left; border: none;\">\n",
              "                time\n",
              "            </td>\n",
              "        </tr>\n",
              "    \n",
              "        <tr style=\"background-color: hsl(120, 100.00%, 97.35%); border: none;\">\n",
              "            <td style=\"padding: 0 1em 0 0.5em; text-align: right; border: none;\">\n",
              "                0.0182\n",
              "                \n",
              "            </td>\n",
              "            <td style=\"padding: 0 0.5em 0 0.5em; text-align: left; border: none;\">\n",
              "                hour\n",
              "            </td>\n",
              "        </tr>\n",
              "    \n",
              "        <tr style=\"background-color: hsl(120, 100.00%, 98.03%); border: none;\">\n",
              "            <td style=\"padding: 0 1em 0 0.5em; text-align: right; border: none;\">\n",
              "                0.0119\n",
              "                \n",
              "            </td>\n",
              "            <td style=\"padding: 0 0.5em 0 0.5em; text-align: left; border: none;\">\n",
              "                cloudCover\n",
              "            </td>\n",
              "        </tr>\n",
              "    \n",
              "        <tr style=\"background-color: hsl(120, 100.00%, 98.09%); border: none;\">\n",
              "            <td style=\"padding: 0 1em 0 0.5em; text-align: right; border: none;\">\n",
              "                0.0114\n",
              "                \n",
              "            </td>\n",
              "            <td style=\"padding: 0 0.5em 0 0.5em; text-align: left; border: none;\">\n",
              "                pressure\n",
              "            </td>\n",
              "        </tr>\n",
              "    \n",
              "        <tr style=\"background-color: hsl(120, 100.00%, 98.11%); border: none;\">\n",
              "            <td style=\"padding: 0 1em 0 0.5em; text-align: right; border: none;\">\n",
              "                0.0112\n",
              "                \n",
              "            </td>\n",
              "            <td style=\"padding: 0 0.5em 0 0.5em; text-align: left; border: none;\">\n",
              "                precipProbability\n",
              "            </td>\n",
              "        </tr>\n",
              "    \n",
              "        <tr style=\"background-color: hsl(120, 100.00%, 98.14%); border: none;\">\n",
              "            <td style=\"padding: 0 1em 0 0.5em; text-align: right; border: none;\">\n",
              "                0.0110\n",
              "                \n",
              "            </td>\n",
              "            <td style=\"padding: 0 0.5em 0 0.5em; text-align: left; border: none;\">\n",
              "                day_of_week\n",
              "            </td>\n",
              "        </tr>\n",
              "    \n",
              "        <tr style=\"background-color: hsl(120, 100.00%, 98.33%); border: none;\">\n",
              "            <td style=\"padding: 0 1em 0 0.5em; text-align: right; border: none;\">\n",
              "                0.0094\n",
              "                \n",
              "            </td>\n",
              "            <td style=\"padding: 0 0.5em 0 0.5em; text-align: left; border: none;\">\n",
              "                day\n",
              "            </td>\n",
              "        </tr>\n",
              "    \n",
              "        <tr style=\"background-color: hsl(120, 100.00%, 98.40%); border: none;\">\n",
              "            <td style=\"padding: 0 1em 0 0.5em; text-align: right; border: none;\">\n",
              "                0.0089\n",
              "                \n",
              "            </td>\n",
              "            <td style=\"padding: 0 0.5em 0 0.5em; text-align: left; border: none;\">\n",
              "                precipAccumulation\n",
              "            </td>\n",
              "        </tr>\n",
              "    \n",
              "    \n",
              "        \n",
              "            <tr style=\"background-color: hsl(120, 100.00%, 98.40%); border: none;\">\n",
              "                <td colspan=\"2\" style=\"padding: 0 0.5em 0 0.5em; text-align: center; border: none; white-space: nowrap;\">\n",
              "                    <i>&hellip; 2 more &hellip;</i>\n",
              "                </td>\n",
              "            </tr>\n",
              "        \n",
              "    \n",
              "    </tbody>\n",
              "</table>\n",
              "    \n",
              "\n",
              "    \n",
              "\n",
              "\n",
              "    \n",
              "\n",
              "    \n",
              "\n",
              "    \n",
              "\n",
              "    \n",
              "\n",
              "    \n",
              "\n",
              "    \n",
              "\n",
              "\n",
              "\n"
            ],
            "text/plain": [
              "<IPython.core.display.HTML object>"
            ]
          },
          "metadata": {
            "tags": []
          },
          "execution_count": 31
        }
      ]
    },
    {
      "cell_type": "code",
      "metadata": {
        "id": "MNyWkwpTcvr9",
        "colab_type": "code",
        "outputId": "4da09888-e0d9-45b2-aee2-d5260ad03706",
        "colab": {
          "base_uri": "https://localhost:8080/",
          "height": 453
        }
      },
      "source": [
        "m2 = xgb.XGBRegressor(max_depth= 5)\n",
        "m2.fit(X2,y)\n",
        "\n",
        "imp = PermutationImportance(m2).fit(X2,y)\n",
        "\n",
        "eli5.show_weights(m2, feature_names =list(X2.columns))"
      ],
      "execution_count": 0,
      "outputs": [
        {
          "output_type": "stream",
          "text": [
            "/usr/local/lib/python3.6/dist-packages/xgboost/core.py:587: FutureWarning: Series.base is deprecated and will be removed in a future version\n",
            "  if getattr(data, 'base', None) is not None and \\\n"
          ],
          "name": "stderr"
        },
        {
          "output_type": "stream",
          "text": [
            "[17:58:46] WARNING: /workspace/src/objective/regression_obj.cu:152: reg:linear is now deprecated in favor of reg:squarederror.\n"
          ],
          "name": "stdout"
        },
        {
          "output_type": "execute_result",
          "data": {
            "text/html": [
              "\n",
              "    <style>\n",
              "    table.eli5-weights tr:hover {\n",
              "        filter: brightness(85%);\n",
              "    }\n",
              "</style>\n",
              "\n",
              "\n",
              "\n",
              "    \n",
              "\n",
              "    \n",
              "\n",
              "    \n",
              "\n",
              "    \n",
              "\n",
              "    \n",
              "\n",
              "    \n",
              "\n",
              "\n",
              "    \n",
              "\n",
              "    \n",
              "\n",
              "    \n",
              "\n",
              "    \n",
              "\n",
              "    \n",
              "\n",
              "    \n",
              "\n",
              "\n",
              "    \n",
              "\n",
              "    \n",
              "\n",
              "    \n",
              "\n",
              "    \n",
              "\n",
              "    \n",
              "        <table class=\"eli5-weights eli5-feature-importances\" style=\"border-collapse: collapse; border: none; margin-top: 0em; table-layout: auto;\">\n",
              "    <thead>\n",
              "    <tr style=\"border: none;\">\n",
              "        <th style=\"padding: 0 1em 0 0.5em; text-align: right; border: none;\">Weight</th>\n",
              "        <th style=\"padding: 0 0.5em 0 0.5em; text-align: left; border: none;\">Feature</th>\n",
              "    </tr>\n",
              "    </thead>\n",
              "    <tbody>\n",
              "    \n",
              "        <tr style=\"background-color: hsl(120, 100.00%, 80.00%); border: none;\">\n",
              "            <td style=\"padding: 0 1em 0 0.5em; text-align: right; border: none;\">\n",
              "                0.3267\n",
              "                \n",
              "            </td>\n",
              "            <td style=\"padding: 0 0.5em 0 0.5em; text-align: left; border: none;\">\n",
              "                visibility\n",
              "            </td>\n",
              "        </tr>\n",
              "    \n",
              "        <tr style=\"background-color: hsl(120, 100.00%, 90.14%); border: none;\">\n",
              "            <td style=\"padding: 0 1em 0 0.5em; text-align: right; border: none;\">\n",
              "                0.1190\n",
              "                \n",
              "            </td>\n",
              "            <td style=\"padding: 0 0.5em 0 0.5em; text-align: left; border: none;\">\n",
              "                windSpeed\n",
              "            </td>\n",
              "        </tr>\n",
              "    \n",
              "        <tr style=\"background-color: hsl(120, 100.00%, 92.98%); border: none;\">\n",
              "            <td style=\"padding: 0 1em 0 0.5em; text-align: right; border: none;\">\n",
              "                0.0732\n",
              "                \n",
              "            </td>\n",
              "            <td style=\"padding: 0 0.5em 0 0.5em; text-align: left; border: none;\">\n",
              "                windGust\n",
              "            </td>\n",
              "        </tr>\n",
              "    \n",
              "        <tr style=\"background-color: hsl(120, 100.00%, 93.26%); border: none;\">\n",
              "            <td style=\"padding: 0 1em 0 0.5em; text-align: right; border: none;\">\n",
              "                0.0691\n",
              "                \n",
              "            </td>\n",
              "            <td style=\"padding: 0 0.5em 0 0.5em; text-align: left; border: none;\">\n",
              "                no_of_week\n",
              "            </td>\n",
              "        </tr>\n",
              "    \n",
              "        <tr style=\"background-color: hsl(120, 100.00%, 94.43%); border: none;\">\n",
              "            <td style=\"padding: 0 1em 0 0.5em; text-align: right; border: none;\">\n",
              "                0.0527\n",
              "                \n",
              "            </td>\n",
              "            <td style=\"padding: 0 0.5em 0 0.5em; text-align: left; border: none;\">\n",
              "                apparentTemperature\n",
              "            </td>\n",
              "        </tr>\n",
              "    \n",
              "        <tr style=\"background-color: hsl(120, 100.00%, 94.57%); border: none;\">\n",
              "            <td style=\"padding: 0 1em 0 0.5em; text-align: right; border: none;\">\n",
              "                0.0507\n",
              "                \n",
              "            </td>\n",
              "            <td style=\"padding: 0 0.5em 0 0.5em; text-align: left; border: none;\">\n",
              "                month\n",
              "            </td>\n",
              "        </tr>\n",
              "    \n",
              "        <tr style=\"background-color: hsl(120, 100.00%, 95.25%); border: none;\">\n",
              "            <td style=\"padding: 0 1em 0 0.5em; text-align: right; border: none;\">\n",
              "                0.0420\n",
              "                \n",
              "            </td>\n",
              "            <td style=\"padding: 0 0.5em 0 0.5em; text-align: left; border: none;\">\n",
              "                dewPoint\n",
              "            </td>\n",
              "        </tr>\n",
              "    \n",
              "        <tr style=\"background-color: hsl(120, 100.00%, 95.32%); border: none;\">\n",
              "            <td style=\"padding: 0 1em 0 0.5em; text-align: right; border: none;\">\n",
              "                0.0410\n",
              "                \n",
              "            </td>\n",
              "            <td style=\"padding: 0 0.5em 0 0.5em; text-align: left; border: none;\">\n",
              "                humidity\n",
              "            </td>\n",
              "        </tr>\n",
              "    \n",
              "        <tr style=\"background-color: hsl(120, 100.00%, 95.67%); border: none;\">\n",
              "            <td style=\"padding: 0 1em 0 0.5em; text-align: right; border: none;\">\n",
              "                0.0367\n",
              "                \n",
              "            </td>\n",
              "            <td style=\"padding: 0 0.5em 0 0.5em; text-align: left; border: none;\">\n",
              "                windBearing\n",
              "            </td>\n",
              "        </tr>\n",
              "    \n",
              "        <tr style=\"background-color: hsl(120, 100.00%, 96.41%); border: none;\">\n",
              "            <td style=\"padding: 0 1em 0 0.5em; text-align: right; border: none;\">\n",
              "                0.0281\n",
              "                \n",
              "            </td>\n",
              "            <td style=\"padding: 0 0.5em 0 0.5em; text-align: left; border: none;\">\n",
              "                precipIntensity\n",
              "            </td>\n",
              "        </tr>\n",
              "    \n",
              "        <tr style=\"background-color: hsl(120, 100.00%, 96.45%); border: none;\">\n",
              "            <td style=\"padding: 0 1em 0 0.5em; text-align: right; border: none;\">\n",
              "                0.0277\n",
              "                \n",
              "            </td>\n",
              "            <td style=\"padding: 0 0.5em 0 0.5em; text-align: left; border: none;\">\n",
              "                uvIndex\n",
              "            </td>\n",
              "        </tr>\n",
              "    \n",
              "        <tr style=\"background-color: hsl(120, 100.00%, 96.69%); border: none;\">\n",
              "            <td style=\"padding: 0 1em 0 0.5em; text-align: right; border: none;\">\n",
              "                0.0250\n",
              "                \n",
              "            </td>\n",
              "            <td style=\"padding: 0 0.5em 0 0.5em; text-align: left; border: none;\">\n",
              "                temperature\n",
              "            </td>\n",
              "        </tr>\n",
              "    \n",
              "        <tr style=\"background-color: hsl(120, 100.00%, 97.06%); border: none;\">\n",
              "            <td style=\"padding: 0 1em 0 0.5em; text-align: right; border: none;\">\n",
              "                0.0211\n",
              "                \n",
              "            </td>\n",
              "            <td style=\"padding: 0 0.5em 0 0.5em; text-align: left; border: none;\">\n",
              "                time\n",
              "            </td>\n",
              "        </tr>\n",
              "    \n",
              "        <tr style=\"background-color: hsl(120, 100.00%, 97.35%); border: none;\">\n",
              "            <td style=\"padding: 0 1em 0 0.5em; text-align: right; border: none;\">\n",
              "                0.0182\n",
              "                \n",
              "            </td>\n",
              "            <td style=\"padding: 0 0.5em 0 0.5em; text-align: left; border: none;\">\n",
              "                hour\n",
              "            </td>\n",
              "        </tr>\n",
              "    \n",
              "        <tr style=\"background-color: hsl(120, 100.00%, 98.03%); border: none;\">\n",
              "            <td style=\"padding: 0 1em 0 0.5em; text-align: right; border: none;\">\n",
              "                0.0119\n",
              "                \n",
              "            </td>\n",
              "            <td style=\"padding: 0 0.5em 0 0.5em; text-align: left; border: none;\">\n",
              "                cloudCover\n",
              "            </td>\n",
              "        </tr>\n",
              "    \n",
              "        <tr style=\"background-color: hsl(120, 100.00%, 98.09%); border: none;\">\n",
              "            <td style=\"padding: 0 1em 0 0.5em; text-align: right; border: none;\">\n",
              "                0.0114\n",
              "                \n",
              "            </td>\n",
              "            <td style=\"padding: 0 0.5em 0 0.5em; text-align: left; border: none;\">\n",
              "                pressure\n",
              "            </td>\n",
              "        </tr>\n",
              "    \n",
              "        <tr style=\"background-color: hsl(120, 100.00%, 98.11%); border: none;\">\n",
              "            <td style=\"padding: 0 1em 0 0.5em; text-align: right; border: none;\">\n",
              "                0.0112\n",
              "                \n",
              "            </td>\n",
              "            <td style=\"padding: 0 0.5em 0 0.5em; text-align: left; border: none;\">\n",
              "                precipProbability\n",
              "            </td>\n",
              "        </tr>\n",
              "    \n",
              "        <tr style=\"background-color: hsl(120, 100.00%, 98.14%); border: none;\">\n",
              "            <td style=\"padding: 0 1em 0 0.5em; text-align: right; border: none;\">\n",
              "                0.0110\n",
              "                \n",
              "            </td>\n",
              "            <td style=\"padding: 0 0.5em 0 0.5em; text-align: left; border: none;\">\n",
              "                day_of_week\n",
              "            </td>\n",
              "        </tr>\n",
              "    \n",
              "        <tr style=\"background-color: hsl(120, 100.00%, 98.33%); border: none;\">\n",
              "            <td style=\"padding: 0 1em 0 0.5em; text-align: right; border: none;\">\n",
              "                0.0094\n",
              "                \n",
              "            </td>\n",
              "            <td style=\"padding: 0 0.5em 0 0.5em; text-align: left; border: none;\">\n",
              "                day\n",
              "            </td>\n",
              "        </tr>\n",
              "    \n",
              "        <tr style=\"background-color: hsl(120, 100.00%, 98.40%); border: none;\">\n",
              "            <td style=\"padding: 0 1em 0 0.5em; text-align: right; border: none;\">\n",
              "                0.0089\n",
              "                \n",
              "            </td>\n",
              "            <td style=\"padding: 0 0.5em 0 0.5em; text-align: left; border: none;\">\n",
              "                precipAccumulation\n",
              "            </td>\n",
              "        </tr>\n",
              "    \n",
              "    \n",
              "        \n",
              "            <tr style=\"background-color: hsl(120, 100.00%, 98.40%); border: none;\">\n",
              "                <td colspan=\"2\" style=\"padding: 0 0.5em 0 0.5em; text-align: center; border: none; white-space: nowrap;\">\n",
              "                    <i>&hellip; 2 more &hellip;</i>\n",
              "                </td>\n",
              "            </tr>\n",
              "        \n",
              "    \n",
              "    </tbody>\n",
              "</table>\n",
              "    \n",
              "\n",
              "    \n",
              "\n",
              "\n",
              "    \n",
              "\n",
              "    \n",
              "\n",
              "    \n",
              "\n",
              "    \n",
              "\n",
              "    \n",
              "\n",
              "    \n",
              "\n",
              "\n",
              "\n"
            ],
            "text/plain": [
              "<IPython.core.display.HTML object>"
            ]
          },
          "metadata": {
            "tags": []
          },
          "execution_count": 32
        }
      ]
    },
    {
      "cell_type": "code",
      "metadata": {
        "id": "CgdhrVIb_4Z7",
        "colab_type": "code",
        "colab": {}
      },
      "source": [
        "feats = [\n",
        "\"visibility\",\n",
        "\"windSpeed\",\n",
        "\"windGust\",\n",
        "\"no_of_week\",\n",
        "\"apparentTemperature\",\n",
        "\"month\",\n",
        "\"humidity\",\n",
        "\"dewPoint\",\n",
        "\"windBearing\",\n",
        "\"uvIndex\",\n",
        "\"temperature\",\n",
        "\"precipIntensity\",\n",
        "\"time\",\n",
        "\"hour\",\n",
        "\"cloudCover\",\n",
        "\"pressure\",\n",
        "\"day_of_week\",\n",
        "\"day\",\n",
        "\"precipProbability\",\n",
        "\"icon_cloudy\"\n",
        "]"
      ],
      "execution_count": 0,
      "outputs": []
    },
    {
      "cell_type": "code",
      "metadata": {
        "id": "0SmKc-4rSlRF",
        "colab_type": "code",
        "colab": {}
      },
      "source": [
        "import warnings\n",
        "warnings.simplefilter(action='ignore', category=FutureWarning)"
      ],
      "execution_count": 0,
      "outputs": []
    },
    {
      "cell_type": "code",
      "metadata": {
        "id": "TSILxHR3_dbn",
        "colab_type": "code",
        "outputId": "2a45473d-eb2f-417c-9f90-b729555c3c18",
        "colab": {
          "base_uri": "https://localhost:8080/",
          "height": 1000
        }
      },
      "source": [
        "def obj_func(params):\n",
        "  print(\"Training with params: \")\n",
        "  print(params)\n",
        "\n",
        "  mean_mae, score_std = run_model(xgb.XGBRegressor(**params), feats)\n",
        "  print('loss: ',np.abs(mean_mae))\n",
        "  return {'loss': np.abs(mean_mae), 'status': STATUS_OK }\n",
        "\n",
        "#SPACE\n",
        "\n",
        "xgb_reg_params = {\n",
        "    'learning_rate': hp.choice('learning_rate', np.arange(0.05,0.31, 0.05)),\n",
        "    'max_depth': hp.choice('max_depth', np.arange(5,16,1, dtype=int)),\n",
        "    'subsample': hp.quniform('subsample', 0.5, 1, 0.05),\n",
        "    'colsample_bytree': hp.quniform('colsample_bytree', 0.5, 1, 0.05),\n",
        "    'objective': 'reg:squarederror',\n",
        "    'n_estimators': 100,\n",
        "    'seed':0\n",
        "}\n",
        "\n",
        "#run\n",
        "best = fmin(obj_func, xgb_reg_params, algo = tpe.suggest, max_evals =25)\n",
        "\n",
        "best"
      ],
      "execution_count": 0,
      "outputs": [
        {
          "output_type": "stream",
          "text": [
            "Training with params: \n",
            "{'colsample_bytree': 0.9500000000000001, 'learning_rate': 0.3, 'max_depth': 13, 'n_estimators': 100, 'objective': 'reg:squarederror', 'seed': 0, 'subsample': 0.9500000000000001}\n",
            "loss: \n",
            "0.38543082145278573\n",
            "Training with params: \n",
            "{'colsample_bytree': 0.9, 'learning_rate': 0.1, 'max_depth': 12, 'n_estimators': 100, 'objective': 'reg:squarederror', 'seed': 0, 'subsample': 0.75}\n",
            "loss: \n",
            "0.3773305063235732\n",
            "Training with params: \n",
            "{'colsample_bytree': 0.55, 'learning_rate': 0.05, 'max_depth': 8, 'n_estimators': 100, 'objective': 'reg:squarederror', 'seed': 0, 'subsample': 0.6000000000000001}\n",
            "loss: \n",
            "0.3561773311126662\n",
            "Training with params: \n",
            "{'colsample_bytree': 1.0, 'learning_rate': 0.25, 'max_depth': 9, 'n_estimators': 100, 'objective': 'reg:squarederror', 'seed': 0, 'subsample': 0.6000000000000001}\n",
            "loss: \n",
            "0.3870989501729449\n",
            "Training with params: \n",
            "{'colsample_bytree': 0.5, 'learning_rate': 0.1, 'max_depth': 11, 'n_estimators': 100, 'objective': 'reg:squarederror', 'seed': 0, 'subsample': 0.65}\n",
            "loss: \n",
            "0.3641772875401516\n",
            "Training with params: \n",
            "{'colsample_bytree': 0.5, 'learning_rate': 0.2, 'max_depth': 9, 'n_estimators': 100, 'objective': 'reg:squarederror', 'seed': 0, 'subsample': 0.7000000000000001}\n",
            "loss: \n",
            "0.37745233505940656\n",
            "Training with params: \n",
            "{'colsample_bytree': 0.65, 'learning_rate': 0.1, 'max_depth': 13, 'n_estimators': 100, 'objective': 'reg:squarederror', 'seed': 0, 'subsample': 0.8500000000000001}\n",
            "loss: \n",
            "0.36191293925427964\n",
            "Training with params: \n",
            "{'colsample_bytree': 0.65, 'learning_rate': 0.25, 'max_depth': 14, 'n_estimators': 100, 'objective': 'reg:squarederror', 'seed': 0, 'subsample': 0.55}\n",
            "loss: \n",
            "0.41073588962532975\n",
            "Training with params: \n",
            "{'colsample_bytree': 0.8500000000000001, 'learning_rate': 0.25, 'max_depth': 5, 'n_estimators': 100, 'objective': 'reg:squarederror', 'seed': 0, 'subsample': 0.9}\n",
            "loss: \n",
            "0.3693321881084106\n",
            "Training with params: \n",
            "{'colsample_bytree': 0.9500000000000001, 'learning_rate': 0.3, 'max_depth': 14, 'n_estimators': 100, 'objective': 'reg:squarederror', 'seed': 0, 'subsample': 1.0}\n",
            "loss: \n",
            "0.38885053306112455\n",
            "Training with params: \n",
            "{'colsample_bytree': 1.0, 'learning_rate': 0.15000000000000002, 'max_depth': 7, 'n_estimators': 100, 'objective': 'reg:squarederror', 'seed': 0, 'subsample': 0.8500000000000001}\n",
            "loss: \n",
            "0.36363558382364225\n",
            "Training with params: \n",
            "{'colsample_bytree': 0.7000000000000001, 'learning_rate': 0.05, 'max_depth': 14, 'n_estimators': 100, 'objective': 'reg:squarederror', 'seed': 0, 'subsample': 0.8}\n",
            "loss: \n",
            "0.36857342543223587\n",
            "Training with params: \n",
            "{'colsample_bytree': 0.9, 'learning_rate': 0.1, 'max_depth': 6, 'n_estimators': 100, 'objective': 'reg:squarederror', 'seed': 0, 'subsample': 0.7000000000000001}\n",
            "loss: \n",
            "0.3534733980102643\n",
            "Training with params: \n",
            "{'colsample_bytree': 0.65, 'learning_rate': 0.15000000000000002, 'max_depth': 5, 'n_estimators': 100, 'objective': 'reg:squarederror', 'seed': 0, 'subsample': 0.75}\n",
            "loss: \n",
            "0.3440797802108866\n",
            "Training with params: \n",
            "{'colsample_bytree': 0.9500000000000001, 'learning_rate': 0.3, 'max_depth': 8, 'n_estimators': 100, 'objective': 'reg:squarederror', 'seed': 0, 'subsample': 0.9}\n",
            "loss: \n",
            "0.3959340826677307\n",
            "Training with params: \n",
            "{'colsample_bytree': 0.65, 'learning_rate': 0.15000000000000002, 'max_depth': 15, 'n_estimators': 100, 'objective': 'reg:squarederror', 'seed': 0, 'subsample': 0.7000000000000001}\n",
            "loss: \n",
            "0.3765889473340178\n",
            "Training with params: \n",
            "{'colsample_bytree': 0.7000000000000001, 'learning_rate': 0.25, 'max_depth': 15, 'n_estimators': 100, 'objective': 'reg:squarederror', 'seed': 0, 'subsample': 0.55}\n",
            "loss: \n",
            "0.4243592861765295\n",
            "Training with params: \n",
            "{'colsample_bytree': 0.9, 'learning_rate': 0.3, 'max_depth': 9, 'n_estimators': 100, 'objective': 'reg:squarederror', 'seed': 0, 'subsample': 0.8500000000000001}\n",
            "loss: \n",
            "0.39566935335279485\n",
            "Training with params: \n",
            "{'colsample_bytree': 0.9, 'learning_rate': 0.1, 'max_depth': 8, 'n_estimators': 100, 'objective': 'reg:squarederror', 'seed': 0, 'subsample': 0.9500000000000001}\n",
            "loss: \n",
            "0.35179816359564287\n",
            "Training with params: \n",
            "{'colsample_bytree': 0.5, 'learning_rate': 0.1, 'max_depth': 6, 'n_estimators': 100, 'objective': 'reg:squarederror', 'seed': 0, 'subsample': 0.9500000000000001}\n",
            "loss: \n",
            "0.3504672732602192\n",
            "Training with params: \n",
            "{'colsample_bytree': 0.55, 'learning_rate': 0.15000000000000002, 'max_depth': 6, 'n_estimators': 100, 'objective': 'reg:squarederror', 'seed': 0, 'subsample': 1.0}\n",
            "loss: \n",
            "0.35306431083910667\n",
            "Training with params: \n",
            "{'colsample_bytree': 0.8, 'learning_rate': 0.2, 'max_depth': 5, 'n_estimators': 100, 'objective': 'reg:squarederror', 'seed': 0, 'subsample': 0.8}\n",
            "loss: \n",
            "0.3606089919008548\n",
            "Training with params: \n",
            "{'colsample_bytree': 0.6000000000000001, 'learning_rate': 0.15000000000000002, 'max_depth': 10, 'n_estimators': 100, 'objective': 'reg:squarederror', 'seed': 0, 'subsample': 0.5}\n",
            "loss: \n",
            "0.40392423382948933\n",
            "Training with params: \n",
            "{'colsample_bytree': 0.75, 'learning_rate': 0.15000000000000002, 'max_depth': 5, 'n_estimators': 100, 'objective': 'reg:squarederror', 'seed': 0, 'subsample': 0.75}\n",
            "loss: \n",
            "0.35639964019735954\n",
            "Training with params: \n",
            "{'colsample_bytree': 0.55, 'learning_rate': 0.1, 'max_depth': 6, 'n_estimators': 100, 'objective': 'reg:squarederror', 'seed': 0, 'subsample': 0.9500000000000001}\n",
            "loss: \n",
            "0.3567130596232036\n",
            "100%|██████████| 25/25 [10:45<00:00, 25.84s/it, best loss: 0.3440797802108866]\n"
          ],
          "name": "stdout"
        },
        {
          "output_type": "execute_result",
          "data": {
            "text/plain": [
              "{'colsample_bytree': 0.65,\n",
              " 'learning_rate': 2,\n",
              " 'max_depth': 0,\n",
              " 'subsample': 0.75}"
            ]
          },
          "metadata": {
            "tags": []
          },
          "execution_count": 37
        }
      ]
    },
    {
      "cell_type": "code",
      "metadata": {
        "id": "OkSz1AURYEyK",
        "colab_type": "code",
        "outputId": "848c495f-047f-4390-d772-9b41bff6e21d",
        "colab": {
          "base_uri": "https://localhost:8080/",
          "height": 88
        }
      },
      "source": [
        "best"
      ],
      "execution_count": 0,
      "outputs": [
        {
          "output_type": "execute_result",
          "data": {
            "text/plain": [
              "{'colsample_bytree': 0.65,\n",
              " 'learning_rate': 0,\n",
              " 'max_depth': 2,\n",
              " 'subsample': 1.0}"
            ]
          },
          "metadata": {
            "tags": []
          },
          "execution_count": 71
        }
      ]
    },
    {
      "cell_type": "code",
      "metadata": {
        "id": "ArC4JHVldmdD",
        "colab_type": "code",
        "outputId": "0be0ca78-5870-4316-95fc-2c6109214864",
        "colab": {
          "base_uri": "https://localhost:8080/",
          "height": 1000
        }
      },
      "source": [
        "def obj_func(params):\n",
        "  print(\"Training with params: \")\n",
        "  print(params)\n",
        "\n",
        "  mean_mae, score_std = run_model2(xgb.XGBRegressor(**params), feats)\n",
        "\n",
        "  return {'loss': np.abs(mean_mae), 'status': STATUS_OK }\n",
        "\n",
        "#SPACE\n",
        "\n",
        "xgb_reg_params = {\n",
        "    'learning_rate': hp.choice('learning_rate', np.arange(0.05,0.31, 0.05)),\n",
        "    'max_depth': hp.choice('max_depth', np.arange(5,16,1, dtype=int)),\n",
        "    'subsample': hp.quniform('subsample', 0.5, 1, 0.05),\n",
        "    'colsample_bytree': hp.quniform('colsample_bytree', 0.5, 1, 0.05),\n",
        "    'objective': 'reg:squarederror',\n",
        "    'n_estimators': 100,\n",
        "    'seed':0\n",
        "}\n",
        "\n",
        "#run\n",
        "best2 = fmin(obj_func, xgb_reg_params, algo = tpe.suggest, max_evals =25)\n",
        "\n",
        "best2"
      ],
      "execution_count": 0,
      "outputs": [
        {
          "output_type": "stream",
          "text": [
            "Training with params: \n",
            "{'colsample_bytree': 0.7000000000000001, 'learning_rate': 0.25, 'max_depth': 8, 'n_estimators': 100, 'objective': 'reg:squarederror', 'seed': 0, 'subsample': 0.6000000000000001}\n",
            "Training with params: \n",
            "{'colsample_bytree': 0.55, 'learning_rate': 0.2, 'max_depth': 13, 'n_estimators': 100, 'objective': 'reg:squarederror', 'seed': 0, 'subsample': 0.6000000000000001}\n",
            "Training with params: \n",
            "{'colsample_bytree': 0.55, 'learning_rate': 0.2, 'max_depth': 11, 'n_estimators': 100, 'objective': 'reg:squarederror', 'seed': 0, 'subsample': 0.55}\n",
            "Training with params: \n",
            "{'colsample_bytree': 0.65, 'learning_rate': 0.05, 'max_depth': 11, 'n_estimators': 100, 'objective': 'reg:squarederror', 'seed': 0, 'subsample': 0.9}\n",
            "Training with params: \n",
            "{'colsample_bytree': 0.7000000000000001, 'learning_rate': 0.05, 'max_depth': 5, 'n_estimators': 100, 'objective': 'reg:squarederror', 'seed': 0, 'subsample': 0.6000000000000001}\n",
            "Training with params: \n",
            "{'colsample_bytree': 0.8, 'learning_rate': 0.2, 'max_depth': 7, 'n_estimators': 100, 'objective': 'reg:squarederror', 'seed': 0, 'subsample': 0.6000000000000001}\n",
            "Training with params: \n",
            "{'colsample_bytree': 0.65, 'learning_rate': 0.05, 'max_depth': 13, 'n_estimators': 100, 'objective': 'reg:squarederror', 'seed': 0, 'subsample': 0.65}\n",
            "Training with params: \n",
            "{'colsample_bytree': 0.55, 'learning_rate': 0.15000000000000002, 'max_depth': 12, 'n_estimators': 100, 'objective': 'reg:squarederror', 'seed': 0, 'subsample': 0.6000000000000001}\n",
            "Training with params: \n",
            "{'colsample_bytree': 0.65, 'learning_rate': 0.25, 'max_depth': 14, 'n_estimators': 100, 'objective': 'reg:squarederror', 'seed': 0, 'subsample': 0.65}\n",
            "Training with params: \n",
            "{'colsample_bytree': 1.0, 'learning_rate': 0.3, 'max_depth': 15, 'n_estimators': 100, 'objective': 'reg:squarederror', 'seed': 0, 'subsample': 0.9500000000000001}\n",
            "Training with params: \n",
            "{'colsample_bytree': 0.55, 'learning_rate': 0.25, 'max_depth': 13, 'n_estimators': 100, 'objective': 'reg:squarederror', 'seed': 0, 'subsample': 0.9}\n",
            "Training with params: \n",
            "{'colsample_bytree': 0.8500000000000001, 'learning_rate': 0.2, 'max_depth': 10, 'n_estimators': 100, 'objective': 'reg:squarederror', 'seed': 0, 'subsample': 0.6000000000000001}\n",
            "Training with params: \n",
            "{'colsample_bytree': 0.6000000000000001, 'learning_rate': 0.25, 'max_depth': 6, 'n_estimators': 100, 'objective': 'reg:squarederror', 'seed': 0, 'subsample': 0.7000000000000001}\n",
            "Training with params: \n",
            "{'colsample_bytree': 0.9, 'learning_rate': 0.1, 'max_depth': 13, 'n_estimators': 100, 'objective': 'reg:squarederror', 'seed': 0, 'subsample': 0.55}\n",
            "Training with params: \n",
            "{'colsample_bytree': 0.6000000000000001, 'learning_rate': 0.1, 'max_depth': 9, 'n_estimators': 100, 'objective': 'reg:squarederror', 'seed': 0, 'subsample': 0.7000000000000001}\n",
            "Training with params: \n",
            "{'colsample_bytree': 0.9500000000000001, 'learning_rate': 0.3, 'max_depth': 11, 'n_estimators': 100, 'objective': 'reg:squarederror', 'seed': 0, 'subsample': 0.55}\n",
            "Training with params: \n",
            "{'colsample_bytree': 0.7000000000000001, 'learning_rate': 0.25, 'max_depth': 14, 'n_estimators': 100, 'objective': 'reg:squarederror', 'seed': 0, 'subsample': 0.6000000000000001}\n",
            "Training with params: \n",
            "{'colsample_bytree': 0.9500000000000001, 'learning_rate': 0.1, 'max_depth': 15, 'n_estimators': 100, 'objective': 'reg:squarederror', 'seed': 0, 'subsample': 0.6000000000000001}\n",
            "Training with params: \n",
            "{'colsample_bytree': 0.9500000000000001, 'learning_rate': 0.25, 'max_depth': 12, 'n_estimators': 100, 'objective': 'reg:squarederror', 'seed': 0, 'subsample': 0.75}\n",
            "Training with params: \n",
            "{'colsample_bytree': 0.8, 'learning_rate': 0.05, 'max_depth': 7, 'n_estimators': 100, 'objective': 'reg:squarederror', 'seed': 0, 'subsample': 0.8500000000000001}\n",
            "Training with params: \n",
            "{'colsample_bytree': 0.65, 'learning_rate': 0.05, 'max_depth': 11, 'n_estimators': 100, 'objective': 'reg:squarederror', 'seed': 0, 'subsample': 0.8}\n",
            "Training with params: \n",
            "{'colsample_bytree': 0.75, 'learning_rate': 0.05, 'max_depth': 11, 'n_estimators': 100, 'objective': 'reg:squarederror', 'seed': 0, 'subsample': 1.0}\n",
            "Training with params: \n",
            "{'colsample_bytree': 0.65, 'learning_rate': 0.05, 'max_depth': 8, 'n_estimators': 100, 'objective': 'reg:squarederror', 'seed': 0, 'subsample': 0.8}\n",
            "Training with params: \n",
            "{'colsample_bytree': 0.75, 'learning_rate': 0.15000000000000002, 'max_depth': 8, 'n_estimators': 100, 'objective': 'reg:squarederror', 'seed': 0, 'subsample': 0.8}\n",
            "Training with params: \n",
            "{'colsample_bytree': 0.5, 'learning_rate': 0.05, 'max_depth': 8, 'n_estimators': 100, 'objective': 'reg:squarederror', 'seed': 0, 'subsample': 0.75}\n",
            "100%|██████████| 25/25 [20:43<00:00, 49.72s/it, best loss: 7.828274651315941]\n"
          ],
          "name": "stdout"
        },
        {
          "output_type": "execute_result",
          "data": {
            "text/plain": [
              "{'colsample_bytree': 0.65,\n",
              " 'learning_rate': 0,\n",
              " 'max_depth': 3,\n",
              " 'subsample': 0.8}"
            ]
          },
          "metadata": {
            "tags": []
          },
          "execution_count": 82
        }
      ]
    }
  ]
}