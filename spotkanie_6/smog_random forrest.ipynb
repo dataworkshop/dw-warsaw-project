{
 "cells": [
  {
   "cell_type": "markdown",
   "metadata": {
    "pycharm": {
     "name": "#%% md\n"
    }
   },
   "source": [
    "# Ensembling (kombinowanie prognoz)\n",
    "\n",
    "Rodzina metod służących kombinowaniu uśrednianiu różnych modeli statystycznych w celu lepszego prognozowania. Wyróżniamy następujące typy ensemblingu:\n",
    "\n",
    "• bagging – metoda służąca na oszacowaniu kilku takich samych modeli na losowej podpróbie (najczęściej bootstrapowanej) na tej samej populacji. Następnie prognoza jest uśredniana, ważona lub podejmuje się decyzję na zasadach głosowania (większość ma rację). Pozwalają uniknąć przetrenowania modelu, ale tracona jest zdolność do interpretacji zjawiska.\n",
    "\n",
    "• lasy losowe (random forest) – metoda, polegająca na estymacji wielu „płytkich” drzew decyzyjnych na bootstrapowanych podpróbach, składających się z kilku losowo wybranych zmiennych. Metoda ta pozwala na przetrenowanie modeli za równo na wierszach (obserwacjach) jak i na kolumnach (zmiennych).\n",
    "\n",
    "• boosting – zaawansowana metoda kombinowania prognoz, polega na wykorzystaniu wielu słabych klasyfikatorów w kombinowanej prognozie. Drzewa decyzyjne są zazwyczaj dopasowywane do reszt (różnicy między prognozą a rzeczywistością) z dotychczasowego modelu. Model ma wiele hiperparametrów, dlatego jest relatywnie trudny w optymalizacji i obsłudze – ale za to bardzo skuteczny."
   ]
  },
  {
   "cell_type": "code",
   "execution_count": 1,
   "metadata": {
    "pycharm": {
     "is_executing": false,
     "name": "#%%\n"
    }
   },
   "outputs": [],
   "source": [
    "import pandas as pd\n",
    "import matplotlib.pyplot as plt\n",
    "import numpy as np\n",
    "from sklearn.model_selection import train_test_split\n",
    "import warnings\n",
    "warnings.filterwarnings('ignore')\n",
    "%matplotlib inline\n",
    "\n",
    "#wyświetl wszystkie wiersze i kolumny\n",
    "pd.options.display.max_rows = None\n",
    "pd.options.display.max_columns = None"
   ]
  },
  {
   "cell_type": "code",
   "execution_count": 2,
   "metadata": {
    "pycharm": {
     "is_executing": false,
     "name": "#%%\n"
    }
   },
   "outputs": [
    {
     "data": {
      "text/html": [
       "<div>\n",
       "<style scoped>\n",
       "    .dataframe tbody tr th:only-of-type {\n",
       "        vertical-align: middle;\n",
       "    }\n",
       "\n",
       "    .dataframe tbody tr th {\n",
       "        vertical-align: top;\n",
       "    }\n",
       "\n",
       "    .dataframe thead th {\n",
       "        text-align: right;\n",
       "    }\n",
       "</style>\n",
       "<table border=\"1\" class=\"dataframe\">\n",
       "  <thead>\n",
       "    <tr style=\"text-align: right;\">\n",
       "      <th></th>\n",
       "      <th>Rok</th>\n",
       "      <th>Miesiąc</th>\n",
       "      <th>Dzień</th>\n",
       "      <th>Godzina</th>\n",
       "      <th>Wysokość_podstawy_niższej_[m]</th>\n",
       "      <th>Wysokość_podstawy_wyższej_[m]</th>\n",
       "      <th>Widzialność_operatora_[m]</th>\n",
       "      <th>Widzialność_automat_[m]</th>\n",
       "      <th>Zachmurzenie_ogólne_[oktanty]</th>\n",
       "      <th>Kierunek_wiatru_[°]</th>\n",
       "      <th>Prędkość_wiatru_[m/s]</th>\n",
       "      <th>Poryw_wiatru_[m/s]</th>\n",
       "      <th>Temperatura_powietrza_[°C]</th>\n",
       "      <th>Temperatura_termometru_zwilżonego_[°C]</th>\n",
       "      <th>Ciśnienie_pary_wodnej_[hPa]</th>\n",
       "      <th>Wilgotność_względna_[%]</th>\n",
       "      <th>Temperatura_punktu_rosy_[°C]</th>\n",
       "      <th>Ciśnienie_na_pozimie_stacji_[hPa]</th>\n",
       "      <th>Ciśnienie_na_pozimie_morza_[hPa]</th>\n",
       "      <th>Wartość_tendencji_[wartość]</th>\n",
       "      <th>Opad_za_6_godzin_[mm]</th>\n",
       "      <th>Status_pomiaru_WO6G</th>\n",
       "      <th>Status_pomiaru_ROPT</th>\n",
       "      <th>Zachmurzenie_niskie_[oktanty]</th>\n",
       "      <th>Niedosyt_wilgotności_[hPa}</th>\n",
       "      <th>Usłonecznienie</th>\n",
       "      <th>Poryw_maksymalny_za_okres_WW_[m/s]</th>\n",
       "      <th>Temperatura_gruntu_-5_[°C]</th>\n",
       "      <th>Temperatura_gruntu_-10_[°C]</th>\n",
       "      <th>Temperatura_gruntu_-20_[°C]</th>\n",
       "      <th>Temperatura_gruntu_-50_[°C]</th>\n",
       "      <th>Temperatura_gruntu_-100_[°C]</th>\n",
       "      <th>Status_pomiaru_TG100</th>\n",
       "      <th>Temperatura_minimalna_za_12_godzin_[°C]</th>\n",
       "      <th>Status_pomiaru_TMIN</th>\n",
       "      <th>Temperatura_maksymalna_za_12_godzin_[°C]</th>\n",
       "      <th>Status_pomiaru_TMAX</th>\n",
       "      <th>Temperatura_minimalna_przy_gruncie_za_12_godzin_[°C]</th>\n",
       "      <th>Status_pomiaru_TGMI</th>\n",
       "      <th>Równoważnik_wodny_śniegu_[mm/cm]</th>\n",
       "      <th>Status_pomiaru_RWSN</th>\n",
       "      <th>Wysokość_pokrywy_śnieżnej_[cm]</th>\n",
       "      <th>Status_pomiaru_PKSN</th>\n",
       "      <th>Wysokość_świeżo_spadłego_śniegu_[cm]</th>\n",
       "      <th>Wysokość_śniegu_na_poletku_[cm]</th>\n",
       "      <th>Wysokość_próbki_[cm]</th>\n",
       "      <th>Ciężar_próbki_[g]</th>\n",
       "      <th>Niepodległości</th>\n",
       "      <th>dzien_tygodnia</th>\n",
       "    </tr>\n",
       "  </thead>\n",
       "  <tbody>\n",
       "    <tr>\n",
       "      <th>2014-01-01 01:00:00</th>\n",
       "      <td>2014.0</td>\n",
       "      <td>1.0</td>\n",
       "      <td>1.0</td>\n",
       "      <td>1.0</td>\n",
       "      <td>210.0</td>\n",
       "      <td>0.0</td>\n",
       "      <td>7000.0</td>\n",
       "      <td>0.0</td>\n",
       "      <td>8.0</td>\n",
       "      <td>119.0</td>\n",
       "      <td>4.0</td>\n",
       "      <td>0.0</td>\n",
       "      <td>1.0</td>\n",
       "      <td>0.0</td>\n",
       "      <td>6.1</td>\n",
       "      <td>93.0</td>\n",
       "      <td>0.0</td>\n",
       "      <td>1009.5</td>\n",
       "      <td>1023.0</td>\n",
       "      <td>-1.3</td>\n",
       "      <td>0.0</td>\n",
       "      <td>8.0</td>\n",
       "      <td>8.0</td>\n",
       "      <td>7.0</td>\n",
       "      <td>0.5</td>\n",
       "      <td>0.0</td>\n",
       "      <td>0.0</td>\n",
       "      <td>0.0</td>\n",
       "      <td>0.0</td>\n",
       "      <td>0.0</td>\n",
       "      <td>0.0</td>\n",
       "      <td>0.0</td>\n",
       "      <td>8.0</td>\n",
       "      <td>0.0</td>\n",
       "      <td>8.0</td>\n",
       "      <td>0.0</td>\n",
       "      <td>8.0</td>\n",
       "      <td>0.0</td>\n",
       "      <td>8.0</td>\n",
       "      <td>0.0</td>\n",
       "      <td>8.0</td>\n",
       "      <td>0.0</td>\n",
       "      <td>8.0</td>\n",
       "      <td>0.0</td>\n",
       "      <td>0.0</td>\n",
       "      <td>0.0</td>\n",
       "      <td>0.0</td>\n",
       "      <td>100.325798</td>\n",
       "      <td>3</td>\n",
       "    </tr>\n",
       "    <tr>\n",
       "      <th>2014-01-01 02:00:00</th>\n",
       "      <td>2014.0</td>\n",
       "      <td>1.0</td>\n",
       "      <td>1.0</td>\n",
       "      <td>2.0</td>\n",
       "      <td>210.0</td>\n",
       "      <td>0.0</td>\n",
       "      <td>7000.0</td>\n",
       "      <td>0.0</td>\n",
       "      <td>8.0</td>\n",
       "      <td>128.0</td>\n",
       "      <td>4.0</td>\n",
       "      <td>0.0</td>\n",
       "      <td>1.2</td>\n",
       "      <td>0.0</td>\n",
       "      <td>6.1</td>\n",
       "      <td>92.0</td>\n",
       "      <td>0.0</td>\n",
       "      <td>1009.0</td>\n",
       "      <td>1022.5</td>\n",
       "      <td>-1.0</td>\n",
       "      <td>0.0</td>\n",
       "      <td>8.0</td>\n",
       "      <td>8.0</td>\n",
       "      <td>7.0</td>\n",
       "      <td>0.5</td>\n",
       "      <td>0.0</td>\n",
       "      <td>0.0</td>\n",
       "      <td>0.0</td>\n",
       "      <td>0.0</td>\n",
       "      <td>0.0</td>\n",
       "      <td>0.0</td>\n",
       "      <td>0.0</td>\n",
       "      <td>8.0</td>\n",
       "      <td>0.0</td>\n",
       "      <td>8.0</td>\n",
       "      <td>0.0</td>\n",
       "      <td>8.0</td>\n",
       "      <td>0.0</td>\n",
       "      <td>8.0</td>\n",
       "      <td>0.0</td>\n",
       "      <td>8.0</td>\n",
       "      <td>0.0</td>\n",
       "      <td>8.0</td>\n",
       "      <td>0.0</td>\n",
       "      <td>0.0</td>\n",
       "      <td>0.0</td>\n",
       "      <td>0.0</td>\n",
       "      <td>69.412430</td>\n",
       "      <td>3</td>\n",
       "    </tr>\n",
       "    <tr>\n",
       "      <th>2014-01-01 03:00:00</th>\n",
       "      <td>2014.0</td>\n",
       "      <td>1.0</td>\n",
       "      <td>1.0</td>\n",
       "      <td>3.0</td>\n",
       "      <td>210.0</td>\n",
       "      <td>0.0</td>\n",
       "      <td>7000.0</td>\n",
       "      <td>0.0</td>\n",
       "      <td>8.0</td>\n",
       "      <td>134.0</td>\n",
       "      <td>3.0</td>\n",
       "      <td>0.0</td>\n",
       "      <td>1.3</td>\n",
       "      <td>0.0</td>\n",
       "      <td>6.2</td>\n",
       "      <td>92.0</td>\n",
       "      <td>0.1</td>\n",
       "      <td>1008.6</td>\n",
       "      <td>1022.1</td>\n",
       "      <td>-1.2</td>\n",
       "      <td>0.0</td>\n",
       "      <td>8.0</td>\n",
       "      <td>8.0</td>\n",
       "      <td>7.0</td>\n",
       "      <td>0.5</td>\n",
       "      <td>0.0</td>\n",
       "      <td>0.0</td>\n",
       "      <td>0.0</td>\n",
       "      <td>0.0</td>\n",
       "      <td>0.0</td>\n",
       "      <td>0.0</td>\n",
       "      <td>0.0</td>\n",
       "      <td>8.0</td>\n",
       "      <td>0.0</td>\n",
       "      <td>8.0</td>\n",
       "      <td>0.0</td>\n",
       "      <td>8.0</td>\n",
       "      <td>0.0</td>\n",
       "      <td>8.0</td>\n",
       "      <td>0.0</td>\n",
       "      <td>8.0</td>\n",
       "      <td>0.0</td>\n",
       "      <td>8.0</td>\n",
       "      <td>0.0</td>\n",
       "      <td>0.0</td>\n",
       "      <td>0.0</td>\n",
       "      <td>0.0</td>\n",
       "      <td>40.967861</td>\n",
       "      <td>3</td>\n",
       "    </tr>\n",
       "    <tr>\n",
       "      <th>2014-01-01 04:00:00</th>\n",
       "      <td>2014.0</td>\n",
       "      <td>1.0</td>\n",
       "      <td>1.0</td>\n",
       "      <td>4.0</td>\n",
       "      <td>210.0</td>\n",
       "      <td>0.0</td>\n",
       "      <td>7000.0</td>\n",
       "      <td>0.0</td>\n",
       "      <td>8.0</td>\n",
       "      <td>129.0</td>\n",
       "      <td>4.0</td>\n",
       "      <td>0.0</td>\n",
       "      <td>1.3</td>\n",
       "      <td>0.0</td>\n",
       "      <td>6.2</td>\n",
       "      <td>92.0</td>\n",
       "      <td>0.1</td>\n",
       "      <td>1008.2</td>\n",
       "      <td>1021.7</td>\n",
       "      <td>-1.3</td>\n",
       "      <td>0.0</td>\n",
       "      <td>8.0</td>\n",
       "      <td>8.0</td>\n",
       "      <td>7.0</td>\n",
       "      <td>0.5</td>\n",
       "      <td>0.0</td>\n",
       "      <td>0.0</td>\n",
       "      <td>0.0</td>\n",
       "      <td>0.0</td>\n",
       "      <td>0.0</td>\n",
       "      <td>0.0</td>\n",
       "      <td>0.0</td>\n",
       "      <td>8.0</td>\n",
       "      <td>0.0</td>\n",
       "      <td>8.0</td>\n",
       "      <td>0.0</td>\n",
       "      <td>8.0</td>\n",
       "      <td>0.0</td>\n",
       "      <td>8.0</td>\n",
       "      <td>0.0</td>\n",
       "      <td>8.0</td>\n",
       "      <td>0.0</td>\n",
       "      <td>8.0</td>\n",
       "      <td>0.0</td>\n",
       "      <td>0.0</td>\n",
       "      <td>0.0</td>\n",
       "      <td>0.0</td>\n",
       "      <td>37.308937</td>\n",
       "      <td>3</td>\n",
       "    </tr>\n",
       "    <tr>\n",
       "      <th>2014-01-01 05:00:00</th>\n",
       "      <td>2014.0</td>\n",
       "      <td>1.0</td>\n",
       "      <td>1.0</td>\n",
       "      <td>5.0</td>\n",
       "      <td>210.0</td>\n",
       "      <td>0.0</td>\n",
       "      <td>7000.0</td>\n",
       "      <td>0.0</td>\n",
       "      <td>8.0</td>\n",
       "      <td>137.0</td>\n",
       "      <td>4.0</td>\n",
       "      <td>0.0</td>\n",
       "      <td>1.3</td>\n",
       "      <td>0.0</td>\n",
       "      <td>6.1</td>\n",
       "      <td>91.0</td>\n",
       "      <td>0.0</td>\n",
       "      <td>1008.2</td>\n",
       "      <td>1021.7</td>\n",
       "      <td>-0.8</td>\n",
       "      <td>0.0</td>\n",
       "      <td>8.0</td>\n",
       "      <td>8.0</td>\n",
       "      <td>7.0</td>\n",
       "      <td>0.6</td>\n",
       "      <td>0.0</td>\n",
       "      <td>0.0</td>\n",
       "      <td>0.0</td>\n",
       "      <td>0.0</td>\n",
       "      <td>0.0</td>\n",
       "      <td>0.0</td>\n",
       "      <td>0.0</td>\n",
       "      <td>8.0</td>\n",
       "      <td>0.0</td>\n",
       "      <td>8.0</td>\n",
       "      <td>0.0</td>\n",
       "      <td>8.0</td>\n",
       "      <td>0.0</td>\n",
       "      <td>8.0</td>\n",
       "      <td>0.0</td>\n",
       "      <td>8.0</td>\n",
       "      <td>0.0</td>\n",
       "      <td>8.0</td>\n",
       "      <td>0.0</td>\n",
       "      <td>0.0</td>\n",
       "      <td>0.0</td>\n",
       "      <td>0.0</td>\n",
       "      <td>38.185955</td>\n",
       "      <td>3</td>\n",
       "    </tr>\n",
       "  </tbody>\n",
       "</table>\n",
       "</div>"
      ],
      "text/plain": [
       "                        Rok  Miesiąc  Dzień  Godzina  \\\n",
       "2014-01-01 01:00:00  2014.0      1.0    1.0      1.0   \n",
       "2014-01-01 02:00:00  2014.0      1.0    1.0      2.0   \n",
       "2014-01-01 03:00:00  2014.0      1.0    1.0      3.0   \n",
       "2014-01-01 04:00:00  2014.0      1.0    1.0      4.0   \n",
       "2014-01-01 05:00:00  2014.0      1.0    1.0      5.0   \n",
       "\n",
       "                     Wysokość_podstawy_niższej_[m]  \\\n",
       "2014-01-01 01:00:00                          210.0   \n",
       "2014-01-01 02:00:00                          210.0   \n",
       "2014-01-01 03:00:00                          210.0   \n",
       "2014-01-01 04:00:00                          210.0   \n",
       "2014-01-01 05:00:00                          210.0   \n",
       "\n",
       "                     Wysokość_podstawy_wyższej_[m]  Widzialność_operatora_[m]  \\\n",
       "2014-01-01 01:00:00                            0.0                     7000.0   \n",
       "2014-01-01 02:00:00                            0.0                     7000.0   \n",
       "2014-01-01 03:00:00                            0.0                     7000.0   \n",
       "2014-01-01 04:00:00                            0.0                     7000.0   \n",
       "2014-01-01 05:00:00                            0.0                     7000.0   \n",
       "\n",
       "                     Widzialność_automat_[m]  Zachmurzenie_ogólne_[oktanty]  \\\n",
       "2014-01-01 01:00:00                      0.0                            8.0   \n",
       "2014-01-01 02:00:00                      0.0                            8.0   \n",
       "2014-01-01 03:00:00                      0.0                            8.0   \n",
       "2014-01-01 04:00:00                      0.0                            8.0   \n",
       "2014-01-01 05:00:00                      0.0                            8.0   \n",
       "\n",
       "                     Kierunek_wiatru_[°]  Prędkość_wiatru_[m/s]  \\\n",
       "2014-01-01 01:00:00                119.0                    4.0   \n",
       "2014-01-01 02:00:00                128.0                    4.0   \n",
       "2014-01-01 03:00:00                134.0                    3.0   \n",
       "2014-01-01 04:00:00                129.0                    4.0   \n",
       "2014-01-01 05:00:00                137.0                    4.0   \n",
       "\n",
       "                     Poryw_wiatru_[m/s]  Temperatura_powietrza_[°C]  \\\n",
       "2014-01-01 01:00:00                 0.0                         1.0   \n",
       "2014-01-01 02:00:00                 0.0                         1.2   \n",
       "2014-01-01 03:00:00                 0.0                         1.3   \n",
       "2014-01-01 04:00:00                 0.0                         1.3   \n",
       "2014-01-01 05:00:00                 0.0                         1.3   \n",
       "\n",
       "                     Temperatura_termometru_zwilżonego_[°C]  \\\n",
       "2014-01-01 01:00:00                                     0.0   \n",
       "2014-01-01 02:00:00                                     0.0   \n",
       "2014-01-01 03:00:00                                     0.0   \n",
       "2014-01-01 04:00:00                                     0.0   \n",
       "2014-01-01 05:00:00                                     0.0   \n",
       "\n",
       "                     Ciśnienie_pary_wodnej_[hPa]  Wilgotność_względna_[%]  \\\n",
       "2014-01-01 01:00:00                          6.1                     93.0   \n",
       "2014-01-01 02:00:00                          6.1                     92.0   \n",
       "2014-01-01 03:00:00                          6.2                     92.0   \n",
       "2014-01-01 04:00:00                          6.2                     92.0   \n",
       "2014-01-01 05:00:00                          6.1                     91.0   \n",
       "\n",
       "                     Temperatura_punktu_rosy_[°C]  \\\n",
       "2014-01-01 01:00:00                           0.0   \n",
       "2014-01-01 02:00:00                           0.0   \n",
       "2014-01-01 03:00:00                           0.1   \n",
       "2014-01-01 04:00:00                           0.1   \n",
       "2014-01-01 05:00:00                           0.0   \n",
       "\n",
       "                     Ciśnienie_na_pozimie_stacji_[hPa]  \\\n",
       "2014-01-01 01:00:00                             1009.5   \n",
       "2014-01-01 02:00:00                             1009.0   \n",
       "2014-01-01 03:00:00                             1008.6   \n",
       "2014-01-01 04:00:00                             1008.2   \n",
       "2014-01-01 05:00:00                             1008.2   \n",
       "\n",
       "                     Ciśnienie_na_pozimie_morza_[hPa]  \\\n",
       "2014-01-01 01:00:00                            1023.0   \n",
       "2014-01-01 02:00:00                            1022.5   \n",
       "2014-01-01 03:00:00                            1022.1   \n",
       "2014-01-01 04:00:00                            1021.7   \n",
       "2014-01-01 05:00:00                            1021.7   \n",
       "\n",
       "                     Wartość_tendencji_[wartość]  Opad_za_6_godzin_[mm]  \\\n",
       "2014-01-01 01:00:00                         -1.3                    0.0   \n",
       "2014-01-01 02:00:00                         -1.0                    0.0   \n",
       "2014-01-01 03:00:00                         -1.2                    0.0   \n",
       "2014-01-01 04:00:00                         -1.3                    0.0   \n",
       "2014-01-01 05:00:00                         -0.8                    0.0   \n",
       "\n",
       "                     Status_pomiaru_WO6G  Status_pomiaru_ROPT  \\\n",
       "2014-01-01 01:00:00                  8.0                  8.0   \n",
       "2014-01-01 02:00:00                  8.0                  8.0   \n",
       "2014-01-01 03:00:00                  8.0                  8.0   \n",
       "2014-01-01 04:00:00                  8.0                  8.0   \n",
       "2014-01-01 05:00:00                  8.0                  8.0   \n",
       "\n",
       "                     Zachmurzenie_niskie_[oktanty]  \\\n",
       "2014-01-01 01:00:00                            7.0   \n",
       "2014-01-01 02:00:00                            7.0   \n",
       "2014-01-01 03:00:00                            7.0   \n",
       "2014-01-01 04:00:00                            7.0   \n",
       "2014-01-01 05:00:00                            7.0   \n",
       "\n",
       "                     Niedosyt_wilgotności_[hPa}  Usłonecznienie  \\\n",
       "2014-01-01 01:00:00                         0.5             0.0   \n",
       "2014-01-01 02:00:00                         0.5             0.0   \n",
       "2014-01-01 03:00:00                         0.5             0.0   \n",
       "2014-01-01 04:00:00                         0.5             0.0   \n",
       "2014-01-01 05:00:00                         0.6             0.0   \n",
       "\n",
       "                     Poryw_maksymalny_za_okres_WW_[m/s]  \\\n",
       "2014-01-01 01:00:00                                 0.0   \n",
       "2014-01-01 02:00:00                                 0.0   \n",
       "2014-01-01 03:00:00                                 0.0   \n",
       "2014-01-01 04:00:00                                 0.0   \n",
       "2014-01-01 05:00:00                                 0.0   \n",
       "\n",
       "                     Temperatura_gruntu_-5_[°C]  Temperatura_gruntu_-10_[°C]  \\\n",
       "2014-01-01 01:00:00                         0.0                          0.0   \n",
       "2014-01-01 02:00:00                         0.0                          0.0   \n",
       "2014-01-01 03:00:00                         0.0                          0.0   \n",
       "2014-01-01 04:00:00                         0.0                          0.0   \n",
       "2014-01-01 05:00:00                         0.0                          0.0   \n",
       "\n",
       "                     Temperatura_gruntu_-20_[°C]  Temperatura_gruntu_-50_[°C]  \\\n",
       "2014-01-01 01:00:00                          0.0                          0.0   \n",
       "2014-01-01 02:00:00                          0.0                          0.0   \n",
       "2014-01-01 03:00:00                          0.0                          0.0   \n",
       "2014-01-01 04:00:00                          0.0                          0.0   \n",
       "2014-01-01 05:00:00                          0.0                          0.0   \n",
       "\n",
       "                     Temperatura_gruntu_-100_[°C]  Status_pomiaru_TG100  \\\n",
       "2014-01-01 01:00:00                           0.0                   8.0   \n",
       "2014-01-01 02:00:00                           0.0                   8.0   \n",
       "2014-01-01 03:00:00                           0.0                   8.0   \n",
       "2014-01-01 04:00:00                           0.0                   8.0   \n",
       "2014-01-01 05:00:00                           0.0                   8.0   \n",
       "\n",
       "                     Temperatura_minimalna_za_12_godzin_[°C]  \\\n",
       "2014-01-01 01:00:00                                      0.0   \n",
       "2014-01-01 02:00:00                                      0.0   \n",
       "2014-01-01 03:00:00                                      0.0   \n",
       "2014-01-01 04:00:00                                      0.0   \n",
       "2014-01-01 05:00:00                                      0.0   \n",
       "\n",
       "                     Status_pomiaru_TMIN  \\\n",
       "2014-01-01 01:00:00                  8.0   \n",
       "2014-01-01 02:00:00                  8.0   \n",
       "2014-01-01 03:00:00                  8.0   \n",
       "2014-01-01 04:00:00                  8.0   \n",
       "2014-01-01 05:00:00                  8.0   \n",
       "\n",
       "                     Temperatura_maksymalna_za_12_godzin_[°C]  \\\n",
       "2014-01-01 01:00:00                                       0.0   \n",
       "2014-01-01 02:00:00                                       0.0   \n",
       "2014-01-01 03:00:00                                       0.0   \n",
       "2014-01-01 04:00:00                                       0.0   \n",
       "2014-01-01 05:00:00                                       0.0   \n",
       "\n",
       "                     Status_pomiaru_TMAX  \\\n",
       "2014-01-01 01:00:00                  8.0   \n",
       "2014-01-01 02:00:00                  8.0   \n",
       "2014-01-01 03:00:00                  8.0   \n",
       "2014-01-01 04:00:00                  8.0   \n",
       "2014-01-01 05:00:00                  8.0   \n",
       "\n",
       "                     Temperatura_minimalna_przy_gruncie_za_12_godzin_[°C]  \\\n",
       "2014-01-01 01:00:00                                                0.0      \n",
       "2014-01-01 02:00:00                                                0.0      \n",
       "2014-01-01 03:00:00                                                0.0      \n",
       "2014-01-01 04:00:00                                                0.0      \n",
       "2014-01-01 05:00:00                                                0.0      \n",
       "\n",
       "                     Status_pomiaru_TGMI  Równoważnik_wodny_śniegu_[mm/cm]  \\\n",
       "2014-01-01 01:00:00                  8.0                               0.0   \n",
       "2014-01-01 02:00:00                  8.0                               0.0   \n",
       "2014-01-01 03:00:00                  8.0                               0.0   \n",
       "2014-01-01 04:00:00                  8.0                               0.0   \n",
       "2014-01-01 05:00:00                  8.0                               0.0   \n",
       "\n",
       "                     Status_pomiaru_RWSN  Wysokość_pokrywy_śnieżnej_[cm]  \\\n",
       "2014-01-01 01:00:00                  8.0                             0.0   \n",
       "2014-01-01 02:00:00                  8.0                             0.0   \n",
       "2014-01-01 03:00:00                  8.0                             0.0   \n",
       "2014-01-01 04:00:00                  8.0                             0.0   \n",
       "2014-01-01 05:00:00                  8.0                             0.0   \n",
       "\n",
       "                     Status_pomiaru_PKSN  \\\n",
       "2014-01-01 01:00:00                  8.0   \n",
       "2014-01-01 02:00:00                  8.0   \n",
       "2014-01-01 03:00:00                  8.0   \n",
       "2014-01-01 04:00:00                  8.0   \n",
       "2014-01-01 05:00:00                  8.0   \n",
       "\n",
       "                     Wysokość_świeżo_spadłego_śniegu_[cm]  \\\n",
       "2014-01-01 01:00:00                                   0.0   \n",
       "2014-01-01 02:00:00                                   0.0   \n",
       "2014-01-01 03:00:00                                   0.0   \n",
       "2014-01-01 04:00:00                                   0.0   \n",
       "2014-01-01 05:00:00                                   0.0   \n",
       "\n",
       "                     Wysokość_śniegu_na_poletku_[cm]  Wysokość_próbki_[cm]  \\\n",
       "2014-01-01 01:00:00                              0.0                   0.0   \n",
       "2014-01-01 02:00:00                              0.0                   0.0   \n",
       "2014-01-01 03:00:00                              0.0                   0.0   \n",
       "2014-01-01 04:00:00                              0.0                   0.0   \n",
       "2014-01-01 05:00:00                              0.0                   0.0   \n",
       "\n",
       "                     Ciężar_próbki_[g]  Niepodległości  dzien_tygodnia  \n",
       "2014-01-01 01:00:00                0.0      100.325798               3  \n",
       "2014-01-01 02:00:00                0.0       69.412430               3  \n",
       "2014-01-01 03:00:00                0.0       40.967861               3  \n",
       "2014-01-01 04:00:00                0.0       37.308937               3  \n",
       "2014-01-01 05:00:00                0.0       38.185955               3  "
      ]
     },
     "execution_count": 2,
     "metadata": {},
     "output_type": "execute_result"
    }
   ],
   "source": [
    "df = pd.read_csv('pm25.csv',index_col = 0, header = 0)\n",
    "df = df.drop('pm25lag', axis = 1) #usunięcie zmiennej pm25 opóźnionej\n",
    "df.head()"
   ]
  },
  {
   "cell_type": "code",
   "execution_count": 3,
   "metadata": {
    "pycharm": {
     "is_executing": false,
     "name": "#%%\n"
    }
   },
   "outputs": [
    {
     "name": "stdout",
     "output_type": "stream",
     "text": [
      "<class 'pandas.core.frame.DataFrame'>\n",
      "Index: 43824 entries, 2014-01-01 01:00:00 to 2019-01-01 00:00:00\n",
      "Data columns (total 49 columns):\n",
      " #   Column                                                Non-Null Count  Dtype  \n",
      "---  ------                                                --------------  -----  \n",
      " 0   Rok                                                   43824 non-null  float64\n",
      " 1   Miesiąc                                               43824 non-null  float64\n",
      " 2   Dzień                                                 43824 non-null  float64\n",
      " 3   Godzina                                               43824 non-null  float64\n",
      " 4   Wysokość_podstawy_niższej_[m]                         43824 non-null  float64\n",
      " 5   Wysokość_podstawy_wyższej_[m]                         43824 non-null  float64\n",
      " 6   Widzialność_operatora_[m]                             43824 non-null  float64\n",
      " 7   Widzialność_automat_[m]                               43824 non-null  float64\n",
      " 8   Zachmurzenie_ogólne_[oktanty]                         43824 non-null  float64\n",
      " 9   Kierunek_wiatru_[°]                                   43824 non-null  float64\n",
      " 10  Prędkość_wiatru_[m/s]                                 43824 non-null  float64\n",
      " 11  Poryw_wiatru_[m/s]                                    43824 non-null  float64\n",
      " 12  Temperatura_powietrza_[°C]                            43824 non-null  float64\n",
      " 13  Temperatura_termometru_zwilżonego_[°C]                43824 non-null  float64\n",
      " 14  Ciśnienie_pary_wodnej_[hPa]                           43824 non-null  float64\n",
      " 15  Wilgotność_względna_[%]                               43824 non-null  float64\n",
      " 16  Temperatura_punktu_rosy_[°C]                          43824 non-null  float64\n",
      " 17  Ciśnienie_na_pozimie_stacji_[hPa]                     43824 non-null  float64\n",
      " 18  Ciśnienie_na_pozimie_morza_[hPa]                      43824 non-null  float64\n",
      " 19  Wartość_tendencji_[wartość]                           43824 non-null  float64\n",
      " 20  Opad_za_6_godzin_[mm]                                 43824 non-null  float64\n",
      " 21  Status_pomiaru_WO6G                                   43824 non-null  float64\n",
      " 22  Status_pomiaru_ROPT                                   43824 non-null  float64\n",
      " 23  Zachmurzenie_niskie_[oktanty]                         43824 non-null  float64\n",
      " 24  Niedosyt_wilgotności_[hPa}                            43824 non-null  float64\n",
      " 25  Usłonecznienie                                        43824 non-null  float64\n",
      " 26  Poryw_maksymalny_za_okres_WW_[m/s]                    43824 non-null  float64\n",
      " 27  Temperatura_gruntu_-5_[°C]                            43824 non-null  float64\n",
      " 28  Temperatura_gruntu_-10_[°C]                           43824 non-null  float64\n",
      " 29  Temperatura_gruntu_-20_[°C]                           43824 non-null  float64\n",
      " 30  Temperatura_gruntu_-50_[°C]                           43824 non-null  float64\n",
      " 31  Temperatura_gruntu_-100_[°C]                          43824 non-null  float64\n",
      " 32  Status_pomiaru_TG100                                  43824 non-null  float64\n",
      " 33  Temperatura_minimalna_za_12_godzin_[°C]               43824 non-null  float64\n",
      " 34  Status_pomiaru_TMIN                                   43824 non-null  float64\n",
      " 35  Temperatura_maksymalna_za_12_godzin_[°C]              43824 non-null  float64\n",
      " 36  Status_pomiaru_TMAX                                   43824 non-null  float64\n",
      " 37  Temperatura_minimalna_przy_gruncie_za_12_godzin_[°C]  43824 non-null  float64\n",
      " 38  Status_pomiaru_TGMI                                   43824 non-null  float64\n",
      " 39  Równoważnik_wodny_śniegu_[mm/cm]                      43824 non-null  float64\n",
      " 40  Status_pomiaru_RWSN                                   43824 non-null  float64\n",
      " 41  Wysokość_pokrywy_śnieżnej_[cm]                        43824 non-null  float64\n",
      " 42  Status_pomiaru_PKSN                                   43824 non-null  float64\n",
      " 43  Wysokość_świeżo_spadłego_śniegu_[cm]                  43824 non-null  float64\n",
      " 44  Wysokość_śniegu_na_poletku_[cm]                       43824 non-null  float64\n",
      " 45  Wysokość_próbki_[cm]                                  43824 non-null  float64\n",
      " 46  Ciężar_próbki_[g]                                     43824 non-null  float64\n",
      " 47  Niepodległości                                        43824 non-null  float64\n",
      " 48  dzien_tygodnia                                        43824 non-null  int64  \n",
      "dtypes: float64(48), int64(1)\n",
      "memory usage: 16.7+ MB\n"
     ]
    }
   ],
   "source": [
    "df.info()"
   ]
  },
  {
   "cell_type": "code",
   "execution_count": 4,
   "metadata": {
    "pycharm": {
     "is_executing": false,
     "name": "#%%\n"
    }
   },
   "outputs": [],
   "source": [
    "feats = ['Rok', 'Miesiąc', 'Dzień', 'Godzina',\n",
    "         'Zachmurzenie_ogólne_[oktanty]',\n",
    "         'Kierunek_wiatru_[°]',\n",
    "         'Prędkość_wiatru_[m/s]',\n",
    "         'Temperatura_powietrza_[°C]',\n",
    "         'Wilgotność_względna_[%]',\n",
    "         'Ciśnienie_na_pozimie_stacji_[hPa]',\n",
    "         'Ciśnienie_na_pozimie_morza_[hPa]',\n",
    "         'dzien_tygodnia']"
   ]
  },
  {
   "cell_type": "code",
   "execution_count": 5,
   "metadata": {
    "pycharm": {
     "is_executing": false,
     "name": "#%%\n"
    }
   },
   "outputs": [],
   "source": [
    "# podział zmiennych na objaśnianę i objaśniające\n",
    "y = df['Niepodległości']\n",
    "X = df[feats].values"
   ]
  },
  {
   "cell_type": "code",
   "execution_count": 6,
   "metadata": {
    "pycharm": {
     "is_executing": false,
     "name": "#%%\n"
    }
   },
   "outputs": [
    {
     "data": {
      "image/png": "[encoded data removed]",
      "text/plain": [
       "<Figure size 432x288 with 1 Axes>"
      ]
     },
     "metadata": {
      "needs_background": "light"
     },
     "output_type": "display_data"
    }
   ],
   "source": [
    "y.describe()\n",
    "\n",
    "y.plot(kind='hist')\n",
    "plt.show()"
   ]
  },
  {
   "cell_type": "markdown",
   "metadata": {
    "pycharm": {
     "name": "#%% md\n"
    }
   },
   "source": [
    "# Random forrest regressor"
   ]
  },
  {
   "cell_type": "code",
   "execution_count": 7,
   "metadata": {
    "pycharm": {
     "is_executing": false,
     "name": "#%%\n"
    }
   },
   "outputs": [],
   "source": [
    "from math import sqrt\n",
    "from sklearn.ensemble import RandomForestRegressor"
   ]
  },
  {
   "cell_type": "code",
   "execution_count": 8,
   "metadata": {
    "pycharm": {
     "is_executing": false,
     "name": "#%%\n"
    }
   },
   "outputs": [
    {
     "name": "stdout",
     "output_type": "stream",
     "text": [
      "count    30676.000000\n",
      "mean        26.131027\n",
      "std         17.512920\n",
      "min          0.832811\n",
      "25%         13.588240\n",
      "50%         21.513400\n",
      "75%         33.480589\n",
      "max        180.274778\n",
      "Name: Niepodległości, dtype: float64\n",
      "count    13148.000000\n",
      "mean        26.241617\n",
      "std         17.693262\n",
      "min          0.877018\n",
      "25%         13.588240\n",
      "50%         21.513400\n",
      "75%         33.634073\n",
      "max        187.930147\n",
      "Name: Niepodległości, dtype: float64\n"
     ]
    }
   ],
   "source": [
    "# Podział na zbiór treningowy i testowy\n",
    "\n",
    "X_train, X_test, y_train, y_test = train_test_split(X, y, test_size = 0.3, random_state = 123)\n",
    "\n",
    "print(y_train.describe())\n",
    "print(y_test.describe())"
   ]
  },
  {
   "cell_type": "code",
   "execution_count": 9,
   "metadata": {
    "pycharm": {
     "is_executing": false,
     "name": "#%%\n"
    }
   },
   "outputs": [],
   "source": [
    "# Setup k-fold validation and method for model evaluation \n",
    "from sklearn.model_selection import KFold\n",
    "from sklearn.model_selection import cross_val_score\n",
    "\n",
    "n_folds = 5\n",
    "\n",
    "def scoring_cv(model):\n",
    "    kf = KFold(n_folds, shuffle=True, random_state=42).get_n_splits(X_train)\n",
    "    rmse= np.sqrt(-cross_val_score(model, X_train, y_train, scoring=\"neg_mean_squared_error\", cv = kf))\n",
    "    r2= cross_val_score(model, X_train, y_train, scoring=\"r2\", cv = kf)\n",
    "    return rmse, r2"
   ]
  },
  {
   "cell_type": "markdown",
   "metadata": {
    "collapsed": false,
    "pycharm": {
     "name": "#%% md\n"
    }
   },
   "source": [
    "## Zmiany w stosunku do procedury z 11/02/2020\n",
    "\n",
    "\n",
    "Duże wartości reszt silnie wpływają na MSE i RMSE, czego skutkiem jest fakt, że nawet gdy model wyjaśnia większość zmienności, pojedyncze wyjątki mogą znacznie wpłynąć na wartości współczynników.\n",
    "Z tego względu zaleca się stosowanie MAE: Średni błąd absolutny (MAE) – mierzy dokładność prognozy, uśredniając wartości bezwzględne błędów, mniej wrażliwa na wpływ dużych wartości reszt.\n",
    "\n",
    "Walidacja krzyżowa służy do:\n",
    "\n",
    "• wykrywania zjawiska przetrenowania modeli\n",
    "\n",
    "• poznania obiektywnej oceny skuteczności predykcyjnej tworzonego modelu (wartość oczekiwana i wariancja)\n",
    "\n",
    "• strojeniu hiperparametrów wykorzystywanego modelu. \n",
    "\n",
    "Pojedyncza walidacja (jedna prognoza out-of-sample) prawie zawsze nie będzie wystarczającym i wartościowym miernikiem jakości modelu. Losowy nie jest synonimem słowa równy, ani reprezentatywny. W praktyce do znalezienia wartości oczekiwanej błędu potrzebujemy wielokrotnego powtórzenia prognozy out-of-sample na różnych próbach walidacyjnych.\n",
    "Stąd, zwiększamy n_folds z 5 do 10. "
   ]
  },
  {
   "cell_type": "code",
   "execution_count": 10,
   "metadata": {
    "collapsed": false,
    "pycharm": {
     "is_executing": false,
     "name": "#%%\n"
    }
   },
   "outputs": [],
   "source": [
    "# Setup k-fold validation and method for model evaluation \n",
    "#from sklearn.model_selection import KFold\n",
    "#from sklearn.model_selection import cross_val_score\n",
    "\n",
    "n_folds = 10\n",
    "\n",
    "def scoring_cv(model):\n",
    "    kf = KFold(n_folds, shuffle=True, random_state=42).get_n_splits(X_train)\n",
    "    rmse= np.sqrt(-cross_val_score(model, X_train, y_train, scoring=\"neg_mean_squared_error\", cv = kf))\n",
    "    r2= cross_val_score(model, X_train, y_train, scoring=\"r2\", cv = kf)\n",
    "    mae = -cross_val_score(model, X_train, y_train, scoring=\"neg_mean_absolute_error\", cv = kf)\n",
    "    return rmse, r2, mae"
   ]
  },
  {
   "cell_type": "markdown",
   "metadata": {
    "collapsed": false,
    "pycharm": {
     "name": "#%% md\n"
    }
   },
   "source": [
    "## Train a default random forest model\n",
    "\n",
    "In the Random Forest model, the original training data is randomly sampled-with-replacement generating small subsets of data\n",
    "These subsets are also known as bootstrap samples. These bootstrap samples are then fed as training data to many DTs of large depths. Each of these DTs is trained separately on these bootstrap samples. This aggregation of DTs is called the Random Forest ensemble. The concluding result of the ensemble model is determined by counting a majority vote from all the DTs. This concept is known as Bagging or Bootstrap Aggregation. Since each DT takes a different set of training data as input, the deviations in the original training dataset do not impact the final result obtained from the aggregation of DTs. Therefore, bagging as a concept reduces variance without changing the bias of the complete ensemble.\n",
    "\n",
    "https://scikit-learn.org/stable/modules/generated/sklearn.ensemble.RandomForestRegressor.html\n",
    "\n",
    "Default:\n",
    "\n",
    "n_estimators=100, min_samples_leaf=1, max_features=X_train.shape[1], max_samples=X_train.shape[0]"
   ]
  },
  {
   "cell_type": "code",
   "execution_count": 11,
   "metadata": {
    "pycharm": {
     "is_executing": false,
     "name": "#%% \n"
    }
   },
   "outputs": [
    {
     "name": "stdout",
     "output_type": "stream",
     "text": [
      "(30676, 12)\n"
     ]
    }
   ],
   "source": [
    "print(X_train.shape)\n",
    "\n",
    "rm_reg = RandomForestRegressor(n_estimators = 100, \n",
    "                             random_state = 0)                                             "
   ]
  },
  {
   "cell_type": "code",
   "execution_count": 12,
   "metadata": {
    "pycharm": {
     "is_executing": false,
     "name": "#%%\n"
    }
   },
   "outputs": [
    {
     "name": "stdout",
     "output_type": "stream",
     "text": [
      "rm_reg rmse: 7.8401 (0.3260), r2: 79.9%, mae: 5.0543 \n",
      "\n"
     ]
    }
   ],
   "source": [
    "# Fit and validate the default model with a 10-fold CV\n",
    "\n",
    "score = scoring_cv(rm_reg)\n",
    "print(\"rm_reg rmse: {:.4f} ({:.4f}), r2: {:.1f}%, mae: {:.4f} \\n\" .format(score[0].mean(), score[0].std(), 100*score[1].mean(), score[2].mean()))\n",
    "                  "
   ]
  },
  {
   "cell_type": "markdown",
   "metadata": {
    "pycharm": {
     "name": "#%% md\n"
    }
   },
   "source": [
    "Aby wybrać odpowiednią złożoność estymatora możemy spojrzeć na wyniki na zbiorze walidacyjnym. \n",
    "Podjęcie takiego działania oznacza jednak, że wykorzystujemy zbiór walidacyjny na potrzeby trenowania estymatora. \n",
    "Jest to swego rodzaju przeciek informacyjny. W większości przypadków skutki takiego przecieku będą niewielkie \n",
    "i nie popełnimy dużego błędu (tworząc nieoptymalny estymator).\n",
    "Warto jednak o tym pamiętać i w stosownych sytuacjach stosować procedurę: train, validate, test. \n",
    "Idea jest dokładnie taka sama jak w walidacji krzyżowej, z tym że część zbioru odkładamy na bok i \n",
    "nie wykorzystujemy go do samego końca naszych działań treningowych.\n",
    "\n",
    "## Test the default model on test data"
   ]
  },
  {
   "cell_type": "code",
   "execution_count": 13,
   "metadata": {
    "pycharm": {
     "is_executing": false,
     "name": "#%% \n"
    }
   },
   "outputs": [
    {
     "name": "stdout",
     "output_type": "stream",
     "text": [
      "RMSE: 7.5634\n",
      "MAE: 4.9177\n"
     ]
    }
   ],
   "source": [
    "rm_reg.fit(X_train, y_train)\n",
    "y_test_pred = rm_reg.predict(X_test)\n",
    "\n",
    "from sklearn import metrics\n",
    "print('RMSE:', round(np.sqrt(metrics.mean_squared_error(y_test, y_test_pred)),4))  \n",
    "print('MAE:', round(metrics.mean_absolute_error(y_test, y_test_pred),4)) "
   ]
  },
  {
   "cell_type": "markdown",
   "metadata": {},
   "source": [
    "## Tune parameters, use 10-fold CV\n",
    "\n",
    "https://scikit-learn.org/stable/modules/generated/sklearn.ensemble.RandomForestRegressor.html\n",
    "\n",
    "https://scikit-learn.org/stable/modules/generated/sklearn.model_selection.GridSearchCV.html"
   ]
  },
  {
   "cell_type": "code",
   "execution_count": 14,
   "metadata": {
    "pycharm": {
     "is_executing": false,
     "name": "#%%\n"
    }
   },
   "outputs": [],
   "source": [
    "# Apply Grid Search to find optimal parameters\n",
    "\n",
    "from sklearn.model_selection import GridSearchCV\n",
    "\n",
    "parameters = {'max_features': [8, 10, 12], \n",
    "              'min_samples_leaf': range(1,30,5), \n",
    "              'n_estimators': [80, 100, 120]}\n",
    "\n",
    "grid_search = GridSearchCV(estimator= rm_reg, \n",
    "                           param_grid = parameters, \n",
    "                           scoring = 'neg_root_mean_squared_error', #RMSE\n",
    "                            cv = 10, \n",
    "                            n_jobs = -1, \n",
    "                            return_train_score=True)"
   ]
  },
  {
   "cell_type": "code",
   "execution_count": 15,
   "metadata": {
    "pycharm": {
     "is_executing": false,
     "name": "#%%\n"
    }
   },
   "outputs": [],
   "source": [
    "# Fit random forest to train data, apply grid search\n",
    "\n",
    "rm_reg_gs = grid_search.fit(X_train, y_train)"
   ]
  },
  {
   "cell_type": "code",
   "execution_count": 16,
   "metadata": {
    "pycharm": {
     "is_executing": false,
     "name": "#%%\n"
    }
   },
   "outputs": [
    {
     "name": "stdout",
     "output_type": "stream",
     "text": [
      "                                               params  mean_train_score\n",
      "0   {'max_features': 8, 'min_samples_leaf': 1, 'n_...         -2.905089\n",
      "1   {'max_features': 8, 'min_samples_leaf': 1, 'n_...         -2.878758\n",
      "2   {'max_features': 8, 'min_samples_leaf': 1, 'n_...         -2.860367\n",
      "3   {'max_features': 8, 'min_samples_leaf': 6, 'n_...         -6.469239\n",
      "4   {'max_features': 8, 'min_samples_leaf': 6, 'n_...         -6.456113\n",
      "5   {'max_features': 8, 'min_samples_leaf': 6, 'n_...         -6.439750\n",
      "6   {'max_features': 8, 'min_samples_leaf': 11, 'n...         -7.942661\n",
      "7   {'max_features': 8, 'min_samples_leaf': 11, 'n...         -7.930999\n",
      "8   {'max_features': 8, 'min_samples_leaf': 11, 'n...         -7.919705\n",
      "9   {'max_features': 8, 'min_samples_leaf': 16, 'n...         -8.771206\n",
      "10  {'max_features': 8, 'min_samples_leaf': 16, 'n...         -8.761938\n",
      "11  {'max_features': 8, 'min_samples_leaf': 16, 'n...         -8.749618\n",
      "12  {'max_features': 8, 'min_samples_leaf': 21, 'n...         -9.306219\n",
      "13  {'max_features': 8, 'min_samples_leaf': 21, 'n...         -9.297104\n",
      "14  {'max_features': 8, 'min_samples_leaf': 21, 'n...         -9.284312\n",
      "15  {'max_features': 8, 'min_samples_leaf': 26, 'n...         -9.695924\n",
      "16  {'max_features': 8, 'min_samples_leaf': 26, 'n...         -9.687934\n",
      "17  {'max_features': 8, 'min_samples_leaf': 26, 'n...         -9.673974\n",
      "18  {'max_features': 10, 'min_samples_leaf': 1, 'n...         -2.941941\n",
      "19  {'max_features': 10, 'min_samples_leaf': 1, 'n...         -2.909360\n",
      "20  {'max_features': 10, 'min_samples_leaf': 1, 'n...         -2.894135\n",
      "21  {'max_features': 10, 'min_samples_leaf': 6, 'n...         -6.406881\n",
      "22  {'max_features': 10, 'min_samples_leaf': 6, 'n...         -6.388282\n",
      "23  {'max_features': 10, 'min_samples_leaf': 6, 'n...         -6.376869\n",
      "24  {'max_features': 10, 'min_samples_leaf': 11, '...         -7.891269\n",
      "25  {'max_features': 10, 'min_samples_leaf': 11, '...         -7.877758\n",
      "26  {'max_features': 10, 'min_samples_leaf': 11, '...         -7.869210\n",
      "27  {'max_features': 10, 'min_samples_leaf': 16, '...         -8.726364\n",
      "28  {'max_features': 10, 'min_samples_leaf': 16, '...         -8.711949\n",
      "29  {'max_features': 10, 'min_samples_leaf': 16, '...         -8.705209\n",
      "30  {'max_features': 10, 'min_samples_leaf': 21, '...         -9.268817\n",
      "31  {'max_features': 10, 'min_samples_leaf': 21, '...         -9.257036\n",
      "32  {'max_features': 10, 'min_samples_leaf': 21, '...         -9.249586\n",
      "33  {'max_features': 10, 'min_samples_leaf': 26, '...         -9.659874\n",
      "34  {'max_features': 10, 'min_samples_leaf': 26, '...         -9.648991\n",
      "35  {'max_features': 10, 'min_samples_leaf': 26, '...         -9.641793\n",
      "36  {'max_features': 12, 'min_samples_leaf': 1, 'n...         -2.971307\n",
      "37  {'max_features': 12, 'min_samples_leaf': 1, 'n...         -2.946140\n",
      "38  {'max_features': 12, 'min_samples_leaf': 1, 'n...         -2.933619\n",
      "39  {'max_features': 12, 'min_samples_leaf': 6, 'n...         -6.372602\n",
      "40  {'max_features': 12, 'min_samples_leaf': 6, 'n...         -6.363441\n",
      "41  {'max_features': 12, 'min_samples_leaf': 6, 'n...         -6.360303\n",
      "42  {'max_features': 12, 'min_samples_leaf': 11, '...         -7.875752\n",
      "43  {'max_features': 12, 'min_samples_leaf': 11, '...         -7.869844\n",
      "44  {'max_features': 12, 'min_samples_leaf': 11, '...         -7.867939\n",
      "45  {'max_features': 12, 'min_samples_leaf': 16, '...         -8.718711\n",
      "46  {'max_features': 12, 'min_samples_leaf': 16, '...         -8.714543\n",
      "47  {'max_features': 12, 'min_samples_leaf': 16, '...         -8.713378\n",
      "48  {'max_features': 12, 'min_samples_leaf': 21, '...         -9.272543\n",
      "49  {'max_features': 12, 'min_samples_leaf': 21, '...         -9.270337\n",
      "50  {'max_features': 12, 'min_samples_leaf': 21, '...         -9.269119\n",
      "51  {'max_features': 12, 'min_samples_leaf': 26, '...         -9.666324\n",
      "52  {'max_features': 12, 'min_samples_leaf': 26, '...         -9.664572\n",
      "53  {'max_features': 12, 'min_samples_leaf': 26, '...         -9.664009\n"
     ]
    }
   ],
   "source": [
    "# Return train score history for all combinations of parameters\n",
    "\n",
    "cv_results = pd.DataFrame(rm_reg_gs.cv_results_)\n",
    "print(cv_results[['params', 'mean_train_score']])"
   ]
  },
  {
   "cell_type": "code",
   "execution_count": 22,
   "metadata": {
    "pycharm": {
     "is_executing": false,
     "name": "#%%\n"
    }
   },
   "outputs": [
    {
     "data": {
      "text/html": [
       "<div>\n",
       "<style scoped>\n",
       "    .dataframe tbody tr th:only-of-type {\n",
       "        vertical-align: middle;\n",
       "    }\n",
       "\n",
       "    .dataframe tbody tr th {\n",
       "        vertical-align: top;\n",
       "    }\n",
       "\n",
       "    .dataframe thead th {\n",
       "        text-align: right;\n",
       "    }\n",
       "</style>\n",
       "<table border=\"1\" class=\"dataframe\">\n",
       "  <thead>\n",
       "    <tr style=\"text-align: right;\">\n",
       "      <th></th>\n",
       "      <th>mean_test_score</th>\n",
       "      <th>mean_train_score</th>\n",
       "    </tr>\n",
       "  </thead>\n",
       "  <tbody>\n",
       "    <tr>\n",
       "      <th>count</th>\n",
       "      <td>54.000000</td>\n",
       "      <td>54.000000</td>\n",
       "    </tr>\n",
       "    <tr>\n",
       "      <th>mean</th>\n",
       "      <td>-9.455956</td>\n",
       "      <td>-7.480939</td>\n",
       "    </tr>\n",
       "    <tr>\n",
       "      <th>std</th>\n",
       "      <td>0.952055</td>\n",
       "      <td>2.321455</td>\n",
       "    </tr>\n",
       "    <tr>\n",
       "      <th>min</th>\n",
       "      <td>-10.523664</td>\n",
       "      <td>-9.695924</td>\n",
       "    </tr>\n",
       "    <tr>\n",
       "      <th>25%</th>\n",
       "      <td>-10.245729</td>\n",
       "      <td>-9.270032</td>\n",
       "    </tr>\n",
       "    <tr>\n",
       "      <th>50%</th>\n",
       "      <td>-9.724201</td>\n",
       "      <td>-8.323935</td>\n",
       "    </tr>\n",
       "    <tr>\n",
       "      <th>75%</th>\n",
       "      <td>-8.793560</td>\n",
       "      <td>-6.392932</td>\n",
       "    </tr>\n",
       "    <tr>\n",
       "      <th>max</th>\n",
       "      <td>-7.619673</td>\n",
       "      <td>-2.860367</td>\n",
       "    </tr>\n",
       "  </tbody>\n",
       "</table>\n",
       "</div>"
      ],
      "text/plain": [
       "       mean_test_score  mean_train_score\n",
       "count        54.000000         54.000000\n",
       "mean         -9.455956         -7.480939\n",
       "std           0.952055          2.321455\n",
       "min         -10.523664         -9.695924\n",
       "25%         -10.245729         -9.270032\n",
       "50%          -9.724201         -8.323935\n",
       "75%          -8.793560         -6.392932\n",
       "max          -7.619673         -2.860367"
      ]
     },
     "execution_count": 22,
     "metadata": {},
     "output_type": "execute_result"
    }
   ],
   "source": [
    "# Distribution of RMSE for training and test datasets\n",
    "cv_results[['mean_test_score', 'mean_train_score']].describe()"
   ]
  },
  {
   "cell_type": "code",
   "execution_count": 23,
   "metadata": {
    "pycharm": {
     "is_executing": false,
     "name": "#%%\n"
    }
   },
   "outputs": [
    {
     "name": "stdout",
     "output_type": "stream",
     "text": [
      "{'max_features': 8, 'min_samples_leaf': 1, 'n_estimators': 120}\n"
     ]
    }
   ],
   "source": [
    "# Return parameter setting that gave the best results on the hold out data\n",
    "best_parameters = rm_reg_gs.best_params_\n",
    "print(best_parameters)\n",
    "\n",
    "#{'max_features': 8, 'min_samples_leaf': 1, 'n_estimators': 120}"
   ]
  },
  {
   "cell_type": "code",
   "execution_count": 24,
   "metadata": {
    "pycharm": {
     "is_executing": false,
     "name": "#%%\n"
    }
   },
   "outputs": [],
   "source": [
    "# Define best random forest model (more tunning may be needed!)\n",
    "\n",
    "rm_reg_best = RandomForestRegressor(n_estimators = 120,\n",
    "                                    min_samples_leaf=1, \n",
    "                                    max_features=8, \n",
    "                                    random_state = 0, \n",
    "                                    oob_score=False)"
   ]
  },
  {
   "cell_type": "code",
   "execution_count": 25,
   "metadata": {
    "pycharm": {
     "is_executing": false,
     "name": "#%%\n"
    }
   },
   "outputs": [
    {
     "name": "stdout",
     "output_type": "stream",
     "text": [
      "rm_reg_best rmse: 7.6197 (0.3344), r2: 81.0%, mae: 4.9369 \n",
      "\n"
     ]
    }
   ],
   "source": [
    "# Fit and evaluate (validation dataset)\n",
    "\n",
    "score_best = scoring_cv(rm_reg_best)\n",
    "print(\"rm_reg_best rmse: {:.4f} ({:.4f}), r2: {:.1f}%, mae: {:.4f} \\n\" .format(score_best[0].mean(), score_best[0].std(), 100*score_best[1].mean(), score_best[2].mean()))\n",
    " \n",
    "# Default model results (rm_reg) rmse: 7.8401 (0.3260), r2: 79.9%, mae: 5.0543"
   ]
  },
  {
   "cell_type": "code",
   "execution_count": 26,
   "metadata": {
    "pycharm": {
     "is_executing": false,
     "name": "#%%\n"
    }
   },
   "outputs": [
    {
     "name": "stdout",
     "output_type": "stream",
     "text": [
      "RMSE: 7.3352\n",
      "MAE: 4.7798\n"
     ]
    }
   ],
   "source": [
    "# Test the model on test data\n",
    "rm_reg_best.fit(X_train, y_train)\n",
    "y_test_best_pred = rm_reg_best.predict(X_test)\n",
    "\n",
    "print('RMSE:', round(np.sqrt(metrics.mean_squared_error(y_test, y_test_best_pred)),4))  \n",
    "print('MAE:', round(metrics.mean_absolute_error(y_test, y_test_best_pred),4)) \n",
    "\n",
    "# RMSE: 7.5634\n",
    "# MAE: 4.9177"
   ]
  }
 ],
 "metadata": {
  "kernelspec": {
   "display_name": "Python 3",
   "language": "python",
   "name": "python3"
  },
  "language_info": {
   "codemirror_mode": {
    "name": "ipython",
    "version": 3
   },
   "file_extension": ".py",
   "mimetype": "text/x-python",
   "name": "python",
   "nbconvert_exporter": "python",
   "pygments_lexer": "ipython3",
   "version": "3.7.6"
  },
  "pycharm": {
   "stem_cell": {
    "cell_type": "raw",
    "metadata": {
     "collapsed": false
    },
    "source": []
   }
  }
 },
 "nbformat": 4,
 "nbformat_minor": 2
}
