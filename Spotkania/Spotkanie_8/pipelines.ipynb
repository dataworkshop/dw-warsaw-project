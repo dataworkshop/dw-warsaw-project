{
 "cells": [
  {
   "cell_type": "markdown",
   "metadata": {},
   "source": [
    "# DataWorkshop Warsaw SMOG Project\n",
    "---"
   ]
  },
  {
   "cell_type": "markdown",
   "metadata": {},
   "source": [
    "### 1. Zmiana problemu regresji liniowej na klasyfikację\n",
    "### 2. Przykład użycia Pipeline do automatyzacji testów modeli"
   ]
  },
  {
   "cell_type": "code",
   "execution_count": 3,
   "metadata": {},
   "outputs": [],
   "source": [
    "# Importowanie blibliotek\n",
    "import numpy as np\n",
    "import pandas as pd\n",
    "\n",
    "# Pipeline\n",
    "from sklearn.pipeline import Pipeline\n",
    "\n",
    "# Scaler\n",
    "from sklearn.preprocessing import StandardScaler\n",
    "\n",
    "# Models\n",
    "from sklearn.linear_model import LogisticRegression\n",
    "from sklearn.tree import DecisionTreeClassifier\n",
    "from sklearn.ensemble import BaggingClassifier\n",
    "from sklearn.ensemble import RandomForestClassifier\n",
    "\n",
    "# GridSearchCV etc.\n",
    "from sklearn.model_selection import GridSearchCV, train_test_split, cross_val_score\n",
    "\n",
    "# Score\n",
    "from sklearn.metrics import accuracy_score"
   ]
  },
  {
   "cell_type": "code",
   "execution_count": 4,
   "metadata": {},
   "outputs": [],
   "source": [
    "df = pd.read_csv('pm25.csv',index_col = 0, header = 0)\n",
    "df = df.drop('pm25lag', axis = 1) # usunięcie zmiennej pm25 opóźnionej\n",
    "\n",
    "feats = ['Rok', 'Miesiąc', 'Dzień', 'Godzina',\n",
    "         'Zachmurzenie_ogólne_[oktanty]',\n",
    "         'Kierunek_wiatru_[°]',\n",
    "         'Prędkość_wiatru_[m/s]',\n",
    "         'Temperatura_powietrza_[°C]',\n",
    "         'Wilgotność_względna_[%]',\n",
    "         'Ciśnienie_na_pozimie_stacji_[hPa]',\n",
    "         'Ciśnienie_na_pozimie_morza_[hPa]',\n",
    "         'dzien_tygodnia']"
   ]
  },
  {
   "cell_type": "code",
   "execution_count": 5,
   "metadata": {},
   "outputs": [
    {
     "data": {
      "text/plain": [
       "<matplotlib.axes._subplots.AxesSubplot at 0x7fdecfec5a20>"
      ]
     },
     "execution_count": 5,
     "metadata": {},
     "output_type": "execute_result"
    }
   ],
   "source": [
    "df['Niepodległości'].hist(bins=100)"
   ]
  },
  {
   "cell_type": "code",
   "execution_count": 6,
   "metadata": {},
   "outputs": [
    {
     "data": {
      "text/plain": [
       "0.0    25785\n",
       "1.0    18039\n",
       "Name: Niepodległości, dtype: int64"
      ]
     },
     "execution_count": 6,
     "metadata": {},
     "output_type": "execute_result"
    }
   ],
   "source": [
    "# Zmiana problemu regresji liniowej na klasyfikację\n",
    "\n",
    "# Transformacja kolumny 'Niepodległości' na wartości binarne\n",
    "# Według norm WHO z 2017 roku dla średniej dobowej:\n",
    "# \"nie ma smogu\" : 0 (przedział < 25 µg)\n",
    "# \"jest smog\" : 1 (przedział >= 25 µg) \n",
    "\n",
    "df.loc[df['Niepodległości'] < 25, 'Niepodległości'] = 0\n",
    "df.loc[df['Niepodległości'] >= 25, 'Niepodległości'] = 1\n",
    "\n",
    "df['Niepodległości'].value_counts()"
   ]
  },
  {
   "cell_type": "code",
   "execution_count": 5,
   "metadata": {},
   "outputs": [],
   "source": [
    "y = df['Niepodległości']\n",
    "X = df[feats].values\n",
    "\n",
    "X_train, X_test, y_train, y_test = train_test_split(X, y, test_size = 0.3, random_state = 123)"
   ]
  },
  {
   "cell_type": "code",
   "execution_count": 9,
   "metadata": {},
   "outputs": [],
   "source": [
    "# Przykład użycia Pipeline do automatyzacji testów modeli\n",
    "\n",
    "# Definiowanie listy pipelineów: każdy pipe to jeden model\n",
    "# W każdym modelu (pipe) definiowanie parametrów do GridSearchCV\n",
    "\n",
    "modele = [\n",
    "    (Pipeline([(\"scaler\", StandardScaler()), (\"regresja\", LogisticRegression(solver=\"liblinear\"))]),\n",
    "    {\n",
    "    \"regresja__penalty\": [\"l1\", \"l2\"],\n",
    "    \"regresja__C\": 10.0**np.arange(-2, 2, 1)}),\n",
    "    \n",
    "    (Pipeline([(\"drzewo\", DecisionTreeClassifier())]),\n",
    "    {\"drzewo__criterion\": [\"gini\", \"entropy\"],\n",
    "    \"drzewo__max_depth\": [2, 5, 10, 15, None]}),\n",
    "   \n",
    "    (Pipeline([(\"bagging\", BaggingClassifier())]),\n",
    "     {\"bagging__base_estimator\": [LogisticRegression(C=0.1, solver=\"liblinear\"), DecisionTreeClassifier()],\n",
    "     \"bagging__n_estimators\": [1,10],\n",
    "     \"bagging__max_features\": [0.2, 0.8]}\n",
    "    ),\n",
    "    \n",
    "    (Pipeline([(\"randomForest\", RandomForestClassifier())]),\n",
    "     {\"randomForest__n_estimators\": [1,10,100]}\n",
    "    )\n",
    "    \n",
    "    ]"
   ]
  },
  {
   "cell_type": "code",
   "execution_count": 10,
   "metadata": {},
   "outputs": [
    {
     "name": "stdout",
     "output_type": "stream",
     "text": [
      "regresja\n",
      "Fitting 5 folds for each of 8 candidates, totalling 40 fits\n"
     ]
    },
    {
     "name": "stderr",
     "output_type": "stream",
     "text": [
      "[Parallel(n_jobs=-1)]: Using backend LokyBackend with 8 concurrent workers.\n",
      "[Parallel(n_jobs=-1)]: Done  40 out of  40 | elapsed:  1.6min finished\n",
      "[Parallel(n_jobs=-1)]: Using backend LokyBackend with 8 concurrent workers.\n"
     ]
    },
    {
     "name": "stdout",
     "output_type": "stream",
     "text": [
      "drzewo\n",
      "Fitting 5 folds for each of 10 candidates, totalling 50 fits\n"
     ]
    },
    {
     "name": "stderr",
     "output_type": "stream",
     "text": [
      "[Parallel(n_jobs=-1)]: Done  50 out of  50 | elapsed:    2.3s finished\n"
     ]
    },
    {
     "name": "stdout",
     "output_type": "stream",
     "text": [
      "bagging\n",
      "Fitting 5 folds for each of 8 candidates, totalling 40 fits\n"
     ]
    },
    {
     "name": "stderr",
     "output_type": "stream",
     "text": [
      "[Parallel(n_jobs=-1)]: Using backend LokyBackend with 8 concurrent workers.\n",
      "[Parallel(n_jobs=-1)]: Done  25 out of  40 | elapsed:    1.8s remaining:    1.1s\n",
      "[Parallel(n_jobs=-1)]: Done  40 out of  40 | elapsed:    5.5s finished\n"
     ]
    },
    {
     "name": "stdout",
     "output_type": "stream",
     "text": [
      "randomForest\n",
      "Fitting 5 folds for each of 3 candidates, totalling 15 fits\n"
     ]
    },
    {
     "name": "stderr",
     "output_type": "stream",
     "text": [
      "[Parallel(n_jobs=-1)]: Using backend LokyBackend with 8 concurrent workers.\n",
      "[Parallel(n_jobs=-1)]: Done  15 out of  15 | elapsed:    7.4s finished\n"
     ]
    }
   ],
   "source": [
    "# Dla każdej pary pipeline-parametry:\n",
    "# 1. GridSearchCV\n",
    "# 2. Zapamiętaj najlepszy model\n",
    "najlepsze = []\n",
    "for model, parametry in modele:\n",
    "    print(model.steps[-1][0])\n",
    "    gs = GridSearchCV(model, parametry, cv=5, verbose=1, n_jobs=-1)\n",
    "    gs.fit(X_train, y_train)\n",
    "    najlepsze.append((gs.best_estimator_, gs.best_params_))"
   ]
  },
  {
   "cell_type": "code",
   "execution_count": 11,
   "metadata": {},
   "outputs": [
    {
     "name": "stdout",
     "output_type": "stream",
     "text": [
      "regresja\n",
      "{'regresja__C': 1.0, 'regresja__penalty': 'l1'}\n",
      "0.7550958320657134\n",
      "drzewo\n",
      "{'drzewo__criterion': 'entropy', 'drzewo__max_depth': None}\n",
      "0.8522208700943109\n",
      "bagging\n",
      "{'bagging__base_estimator': DecisionTreeClassifier(ccp_alpha=0.0, class_weight=None, criterion='gini',\n",
      "                       max_depth=None, max_features=None, max_leaf_nodes=None,\n",
      "                       min_impurity_decrease=0.0, min_impurity_split=None,\n",
      "                       min_samples_leaf=1, min_samples_split=2,\n",
      "                       min_weight_fraction_leaf=0.0, presort='deprecated',\n",
      "                       random_state=None, splitter='best'), 'bagging__max_features': 0.8, 'bagging__n_estimators': 10}\n",
      "0.8860663218740493\n",
      "randomForest\n",
      "{'randomForest__n_estimators': 100}\n",
      "0.9045482202616367\n"
     ]
    }
   ],
   "source": [
    "# Dla każdego najlepszego modelu:\n",
    "# 1. Uruchom na teście\n",
    "# 2. Wyświetlenie wyników\n",
    "for model, parametry in najlepsze:\n",
    "    print(model.steps[-1][0])\n",
    "    print(parametry)\n",
    "    print(accuracy_score(model.predict(X_test),y_test))"
   ]
  }
 ],
 "metadata": {
  "kernelspec": {
   "display_name": "Python 3",
   "language": "python",
   "name": "python3"
  },
  "language_info": {
   "codemirror_mode": {
    "name": "ipython",
    "version": 3
   },
   "file_extension": ".py",
   "mimetype": "text/x-python",
   "name": "python",
   "nbconvert_exporter": "python",
   "pygments_lexer": "ipython3",
   "version": "3.7.3"
  }
 },
 "nbformat": 4,
 "nbformat_minor": 2
}
