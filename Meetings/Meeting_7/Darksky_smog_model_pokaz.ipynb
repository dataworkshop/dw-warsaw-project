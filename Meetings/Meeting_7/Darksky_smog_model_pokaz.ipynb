{
 "cells": [
  {
   "cell_type": "code",
   "execution_count": 1,
   "metadata": {},
   "outputs": [],
   "source": [
    "import pandas as pd\n",
    "import numpy as np\n",
    "import warnings\n",
    "warnings.filterwarnings('ignore')"
   ]
  },
  {
   "cell_type": "markdown",
   "metadata": {},
   "source": [
    "# import data"
   ]
  },
  {
   "cell_type": "code",
   "execution_count": 2,
   "metadata": {},
   "outputs": [
    {
     "data": {
      "text/html": [
       "<div>\n",
       "<style scoped>\n",
       "    .dataframe tbody tr th:only-of-type {\n",
       "        vertical-align: middle;\n",
       "    }\n",
       "\n",
       "    .dataframe tbody tr th {\n",
       "        vertical-align: top;\n",
       "    }\n",
       "\n",
       "    .dataframe thead th {\n",
       "        text-align: right;\n",
       "    }\n",
       "</style>\n",
       "<table border=\"1\" class=\"dataframe\">\n",
       "  <thead>\n",
       "    <tr style=\"text-align: right;\">\n",
       "      <th></th>\n",
       "      <th>date</th>\n",
       "      <th>pm25_nie</th>\n",
       "      <th>pm25_kon</th>\n",
       "      <th>pm25_wok</th>\n",
       "      <th>apparentTemperature</th>\n",
       "      <th>cloudCover</th>\n",
       "      <th>dewPoint</th>\n",
       "      <th>humidity</th>\n",
       "      <th>icon</th>\n",
       "      <th>ozone</th>\n",
       "      <th>...</th>\n",
       "      <th>windBearing</th>\n",
       "      <th>windGust</th>\n",
       "      <th>windSpeed</th>\n",
       "      <th>year</th>\n",
       "      <th>month</th>\n",
       "      <th>day</th>\n",
       "      <th>hour</th>\n",
       "      <th>day_of_week</th>\n",
       "      <th>no_of_week</th>\n",
       "      <th>winter_break</th>\n",
       "    </tr>\n",
       "  </thead>\n",
       "  <tbody>\n",
       "    <tr>\n",
       "      <th>0</th>\n",
       "      <td>2015-01-01 00:00:00</td>\n",
       "      <td>51.5034</td>\n",
       "      <td>78.085</td>\n",
       "      <td>51.320000</td>\n",
       "      <td>32.93</td>\n",
       "      <td>1.0</td>\n",
       "      <td>29.56</td>\n",
       "      <td>0.87</td>\n",
       "      <td>NaN</td>\n",
       "      <td>NaN</td>\n",
       "      <td>...</td>\n",
       "      <td>260.0</td>\n",
       "      <td>6.93</td>\n",
       "      <td>6.93</td>\n",
       "      <td>2015</td>\n",
       "      <td>1</td>\n",
       "      <td>1</td>\n",
       "      <td>0</td>\n",
       "      <td>4</td>\n",
       "      <td>1</td>\n",
       "      <td>0</td>\n",
       "    </tr>\n",
       "    <tr>\n",
       "      <th>1</th>\n",
       "      <td>2015-01-01 01:00:00</td>\n",
       "      <td>71.8204</td>\n",
       "      <td>78.085</td>\n",
       "      <td>68.982316</td>\n",
       "      <td>33.90</td>\n",
       "      <td>1.0</td>\n",
       "      <td>31.11</td>\n",
       "      <td>0.89</td>\n",
       "      <td>NaN</td>\n",
       "      <td>NaN</td>\n",
       "      <td>...</td>\n",
       "      <td>260.0</td>\n",
       "      <td>6.93</td>\n",
       "      <td>6.93</td>\n",
       "      <td>2015</td>\n",
       "      <td>1</td>\n",
       "      <td>1</td>\n",
       "      <td>1</td>\n",
       "      <td>4</td>\n",
       "      <td>1</td>\n",
       "      <td>0</td>\n",
       "    </tr>\n",
       "    <tr>\n",
       "      <th>2</th>\n",
       "      <td>2015-01-01 02:00:00</td>\n",
       "      <td>42.6996</td>\n",
       "      <td>64.460</td>\n",
       "      <td>48.707108</td>\n",
       "      <td>27.73</td>\n",
       "      <td>1.0</td>\n",
       "      <td>31.59</td>\n",
       "      <td>0.91</td>\n",
       "      <td>cloudy</td>\n",
       "      <td>NaN</td>\n",
       "      <td>...</td>\n",
       "      <td>260.0</td>\n",
       "      <td>6.93</td>\n",
       "      <td>6.93</td>\n",
       "      <td>2015</td>\n",
       "      <td>1</td>\n",
       "      <td>1</td>\n",
       "      <td>2</td>\n",
       "      <td>4</td>\n",
       "      <td>1</td>\n",
       "      <td>0</td>\n",
       "    </tr>\n",
       "    <tr>\n",
       "      <th>3</th>\n",
       "      <td>2015-01-01 03:00:00</td>\n",
       "      <td>38.2824</td>\n",
       "      <td>36.210</td>\n",
       "      <td>37.986883</td>\n",
       "      <td>27.73</td>\n",
       "      <td>1.0</td>\n",
       "      <td>32.76</td>\n",
       "      <td>0.96</td>\n",
       "      <td>fog</td>\n",
       "      <td>NaN</td>\n",
       "      <td>...</td>\n",
       "      <td>251.0</td>\n",
       "      <td>6.93</td>\n",
       "      <td>6.93</td>\n",
       "      <td>2015</td>\n",
       "      <td>1</td>\n",
       "      <td>1</td>\n",
       "      <td>3</td>\n",
       "      <td>4</td>\n",
       "      <td>1</td>\n",
       "      <td>0</td>\n",
       "    </tr>\n",
       "    <tr>\n",
       "      <th>4</th>\n",
       "      <td>2015-01-01 04:00:00</td>\n",
       "      <td>35.4194</td>\n",
       "      <td>29.585</td>\n",
       "      <td>33.675489</td>\n",
       "      <td>26.41</td>\n",
       "      <td>1.0</td>\n",
       "      <td>32.89</td>\n",
       "      <td>0.97</td>\n",
       "      <td>fog</td>\n",
       "      <td>NaN</td>\n",
       "      <td>...</td>\n",
       "      <td>251.0</td>\n",
       "      <td>8.96</td>\n",
       "      <td>8.96</td>\n",
       "      <td>2015</td>\n",
       "      <td>1</td>\n",
       "      <td>1</td>\n",
       "      <td>4</td>\n",
       "      <td>4</td>\n",
       "      <td>1</td>\n",
       "      <td>0</td>\n",
       "    </tr>\n",
       "  </tbody>\n",
       "</table>\n",
       "<p>5 rows × 30 columns</p>\n",
       "</div>"
      ],
      "text/plain": [
       "                  date  pm25_nie  pm25_kon   pm25_wok  apparentTemperature  \\\n",
       "0  2015-01-01 00:00:00   51.5034    78.085  51.320000                32.93   \n",
       "1  2015-01-01 01:00:00   71.8204    78.085  68.982316                33.90   \n",
       "2  2015-01-01 02:00:00   42.6996    64.460  48.707108                27.73   \n",
       "3  2015-01-01 03:00:00   38.2824    36.210  37.986883                27.73   \n",
       "4  2015-01-01 04:00:00   35.4194    29.585  33.675489                26.41   \n",
       "\n",
       "   cloudCover  dewPoint  humidity    icon  ozone  ...  windBearing  windGust  \\\n",
       "0         1.0     29.56      0.87     NaN    NaN  ...        260.0      6.93   \n",
       "1         1.0     31.11      0.89     NaN    NaN  ...        260.0      6.93   \n",
       "2         1.0     31.59      0.91  cloudy    NaN  ...        260.0      6.93   \n",
       "3         1.0     32.76      0.96     fog    NaN  ...        251.0      6.93   \n",
       "4         1.0     32.89      0.97     fog    NaN  ...        251.0      8.96   \n",
       "\n",
       "   windSpeed  year  month day  hour  day_of_week  no_of_week  winter_break  \n",
       "0       6.93  2015      1   1     0            4           1             0  \n",
       "1       6.93  2015      1   1     1            4           1             0  \n",
       "2       6.93  2015      1   1     2            4           1             0  \n",
       "3       6.93  2015      1   1     3            4           1             0  \n",
       "4       8.96  2015      1   1     4            4           1             0  \n",
       "\n",
       "[5 rows x 30 columns]"
      ]
     },
     "execution_count": 2,
     "metadata": {},
     "output_type": "execute_result"
    }
   ],
   "source": [
    "df_all = pd.read_csv('data/data_pm25_plus_darksky.csv',index_col = 0, header = 0)\n",
    "df_all.head()"
   ]
  },
  {
   "cell_type": "code",
   "execution_count": 3,
   "metadata": {},
   "outputs": [
    {
     "data": {
      "text/plain": [
       "Index(['date', 'pm25_nie', 'pm25_kon', 'pm25_wok', 'apparentTemperature',\n",
       "       'cloudCover', 'dewPoint', 'humidity', 'icon', 'ozone',\n",
       "       'precipAccumulation', 'precipIntensity', 'precipProbability',\n",
       "       'precipType', 'pressure', 'summary', 'temperature', 'time', 'uvIndex',\n",
       "       'visibility', 'windBearing', 'windGust', 'windSpeed', 'year', 'month',\n",
       "       'day', 'hour', 'day_of_week', 'no_of_week', 'winter_break'],\n",
       "      dtype='object')"
      ]
     },
     "execution_count": 3,
     "metadata": {},
     "output_type": "execute_result"
    }
   ],
   "source": [
    "df_all.columns"
   ]
  },
  {
   "cell_type": "markdown",
   "metadata": {},
   "source": [
    "# PM2.5 distribution"
   ]
  },
  {
   "cell_type": "code",
   "execution_count": 7,
   "metadata": {},
   "outputs": [
    {
     "data": {
      "image/png": "[encoded data removed]",
      "text/plain": [
       "<Figure size 432x288 with 1 Axes>"
      ]
     },
     "metadata": {
      "needs_background": "light"
     },
     "output_type": "display_data"
    }
   ],
   "source": [
    "df_all['pm25_nie'].hist(bins=100);"
   ]
  },
  {
   "cell_type": "code",
   "execution_count": 5,
   "metadata": {},
   "outputs": [
    {
     "data": {
      "image/png": "[encoded data removed]",
      "text/plain": [
       "<Figure size 432x288 with 1 Axes>"
      ]
     },
     "metadata": {
      "needs_background": "light"
     },
     "output_type": "display_data"
    }
   ],
   "source": [
    "np.log(df_all['pm25_nie']).hist(bins = 100);"
   ]
  },
  {
   "cell_type": "markdown",
   "metadata": {},
   "source": [
    "# models"
   ]
  },
  {
   "cell_type": "code",
   "execution_count": 10,
   "metadata": {},
   "outputs": [],
   "source": [
    "import xgboost as xgb"
   ]
  },
  {
   "cell_type": "code",
   "execution_count": 11,
   "metadata": {},
   "outputs": [],
   "source": [
    "feats = ['apparentTemperature',\n",
    "        'cloudCover', 'dewPoint', 'humidity', \n",
    "        'precipAccumulation', 'precipIntensity', 'precipProbability',\n",
    "        'pressure', 'temperature',  'uvIndex',\n",
    "        'visibility', 'windBearing', 'windGust', 'windSpeed',\n",
    "        'year', 'month', 'day','hour', \n",
    "        'day_of_week', 'no_of_week'\n",
    "        ]"
   ]
  },
  {
   "cell_type": "code",
   "execution_count": 12,
   "metadata": {},
   "outputs": [],
   "source": [
    "pollution = 'pm25_nie'\n",
    "\n",
    "y = np.log(df_all[pollution])\n",
    "X = df_all[feats].values"
   ]
  },
  {
   "cell_type": "code",
   "execution_count": 14,
   "metadata": {},
   "outputs": [],
   "source": [
    "#XGBoost Regression\n",
    "model_xgb = xgb.XGBRegressor(objective = 'reg:squarederror', random_state = 2020)"
   ]
  },
  {
   "cell_type": "code",
   "execution_count": 15,
   "metadata": {},
   "outputs": [
    {
     "data": {
      "text/plain": [
       "XGBRegressor(base_score=0.5, booster=None, colsample_bylevel=1,\n",
       "             colsample_bynode=1, colsample_bytree=1, gamma=0, gpu_id=-1,\n",
       "             importance_type='gain', interaction_constraints=None,\n",
       "             learning_rate=0.300000012, max_delta_step=0, max_depth=6,\n",
       "             min_child_weight=1, missing=nan, monotone_constraints=None,\n",
       "             n_estimators=100, n_jobs=0, num_parallel_tree=1,\n",
       "             objective='reg:squarederror', random_state=2020, reg_alpha=0,\n",
       "             reg_lambda=1, scale_pos_weight=1, subsample=1, tree_method=None,\n",
       "             validate_parameters=False, verbosity=None)"
      ]
     },
     "execution_count": 15,
     "metadata": {},
     "output_type": "execute_result"
    }
   ],
   "source": [
    "model_xgb.fit(X, y)"
   ]
  },
  {
   "cell_type": "markdown",
   "metadata": {},
   "source": [
    "## saving model"
   ]
  },
  {
   "cell_type": "code",
   "execution_count": 16,
   "metadata": {},
   "outputs": [],
   "source": [
    "import pickle"
   ]
  },
  {
   "cell_type": "code",
   "execution_count": 18,
   "metadata": {},
   "outputs": [],
   "source": [
    "with open('model/pm25_model_xgb.pkl', 'wb') as file:\n",
    "  pickle.dump(model_xgb, file)"
   ]
  },
  {
   "cell_type": "code",
   "execution_count": null,
   "metadata": {},
   "outputs": [],
   "source": []
  }
 ],
 "metadata": {
  "kernelspec": {
   "display_name": "Python 3",
   "language": "python",
   "name": "python3"
  },
  "language_info": {
   "codemirror_mode": {
    "name": "ipython",
    "version": 3
   },
   "file_extension": ".py",
   "mimetype": "text/x-python",
   "name": "python",
   "nbconvert_exporter": "python",
   "pygments_lexer": "ipython3",
   "version": "3.7.1"
  }
 },
 "nbformat": 4,
 "nbformat_minor": 2
}
