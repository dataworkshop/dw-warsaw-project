{
 "cells": [
  {
   "cell_type": "markdown",
   "metadata": {},
   "source": [
    "# Importy"
   ]
  },
  {
   "cell_type": "code",
   "execution_count": 1,
   "metadata": {},
   "outputs": [],
   "source": [
    "import pandas as pd\n",
    "import numpy as np\n",
    "from matplotlib import pyplot as plt\n",
    "\n",
    "%matplotlib inline"
   ]
  },
  {
   "cell_type": "markdown",
   "metadata": {},
   "source": [
    "# Pobranie i selekcja danych"
   ]
  },
  {
   "cell_type": "code",
   "execution_count": 2,
   "metadata": {
    "scrolled": true
   },
   "outputs": [
    {
     "data": {
      "text/html": [
       "<div>\n",
       "<style scoped>\n",
       "    .dataframe tbody tr th:only-of-type {\n",
       "        vertical-align: middle;\n",
       "    }\n",
       "\n",
       "    .dataframe tbody tr th {\n",
       "        vertical-align: top;\n",
       "    }\n",
       "\n",
       "    .dataframe thead th {\n",
       "        text-align: right;\n",
       "    }\n",
       "</style>\n",
       "<table border=\"1\" class=\"dataframe\">\n",
       "  <thead>\n",
       "    <tr style=\"text-align: right;\">\n",
       "      <th></th>\n",
       "      <th>DsWrocWisA</th>\n",
       "      <th>KpAirpWiktorowo</th>\n",
       "      <th>KpBydgPlPozn</th>\n",
       "      <th>KpBydgWarszawska</th>\n",
       "      <th>KpTorunDziewulsk</th>\n",
       "      <th>LdLodzWIOSACzernik</th>\n",
       "      <th>LdZgierzWIOSAMielcza</th>\n",
       "      <th>LuZgoraWIOS_AUT</th>\n",
       "      <th>MpKrakowWIOSAKra6117</th>\n",
       "      <th>MpKrakowWIOSBuja6119</th>\n",
       "      <th>...</th>\n",
       "      <th>SkMalogCemen3</th>\n",
       "      <th>SkPolanRuszcz</th>\n",
       "      <th>SlGliwiGliw_mewy</th>\n",
       "      <th>SlKatowKato_kossu</th>\n",
       "      <th>SlZlotyJano_lesni</th>\n",
       "      <th>WmOlsztyWIOS_Puszkin</th>\n",
       "      <th>WpWKP001</th>\n",
       "      <th>WpWKPKalisz007/10</th>\n",
       "      <th>ZpSzczecin001</th>\n",
       "      <th>ZpSzczecin002</th>\n",
       "    </tr>\n",
       "    <tr>\n",
       "      <th>Kod stacji</th>\n",
       "      <th></th>\n",
       "      <th></th>\n",
       "      <th></th>\n",
       "      <th></th>\n",
       "      <th></th>\n",
       "      <th></th>\n",
       "      <th></th>\n",
       "      <th></th>\n",
       "      <th></th>\n",
       "      <th></th>\n",
       "      <th></th>\n",
       "      <th></th>\n",
       "      <th></th>\n",
       "      <th></th>\n",
       "      <th></th>\n",
       "      <th></th>\n",
       "      <th></th>\n",
       "      <th></th>\n",
       "      <th></th>\n",
       "      <th></th>\n",
       "      <th></th>\n",
       "    </tr>\n",
       "  </thead>\n",
       "  <tbody>\n",
       "    <tr>\n",
       "      <th>Wskaźnik</th>\n",
       "      <td>PM2.5</td>\n",
       "      <td>PM2.5</td>\n",
       "      <td>PM2.5</td>\n",
       "      <td>PM2.5</td>\n",
       "      <td>PM2.5</td>\n",
       "      <td>PM2.5</td>\n",
       "      <td>PM2.5</td>\n",
       "      <td>PM2.5</td>\n",
       "      <td>PM2.5</td>\n",
       "      <td>PM2.5</td>\n",
       "      <td>...</td>\n",
       "      <td>PM2.5</td>\n",
       "      <td>PM2.5</td>\n",
       "      <td>PM2.5</td>\n",
       "      <td>PM2.5</td>\n",
       "      <td>PM2.5</td>\n",
       "      <td>PM2.5</td>\n",
       "      <td>PM2.5</td>\n",
       "      <td>PM2.5</td>\n",
       "      <td>PM2.5</td>\n",
       "      <td>PM2.5</td>\n",
       "    </tr>\n",
       "    <tr>\n",
       "      <th>Czas uśredniania</th>\n",
       "      <td>1g</td>\n",
       "      <td>1g</td>\n",
       "      <td>1g</td>\n",
       "      <td>1g</td>\n",
       "      <td>1g</td>\n",
       "      <td>1g</td>\n",
       "      <td>1g</td>\n",
       "      <td>1g</td>\n",
       "      <td>1g</td>\n",
       "      <td>1g</td>\n",
       "      <td>...</td>\n",
       "      <td>1g</td>\n",
       "      <td>1g</td>\n",
       "      <td>1g</td>\n",
       "      <td>1g</td>\n",
       "      <td>1g</td>\n",
       "      <td>1g</td>\n",
       "      <td>1g</td>\n",
       "      <td>1g</td>\n",
       "      <td>1g</td>\n",
       "      <td>1g</td>\n",
       "    </tr>\n",
       "    <tr>\n",
       "      <th>2014-01-01 01:00:00</th>\n",
       "      <td>152</td>\n",
       "      <td>104.56</td>\n",
       "      <td>116.214</td>\n",
       "      <td>140.857</td>\n",
       "      <td>52.4172</td>\n",
       "      <td>81.0293</td>\n",
       "      <td>119.696</td>\n",
       "      <td>NaN</td>\n",
       "      <td>104</td>\n",
       "      <td>78</td>\n",
       "      <td>...</td>\n",
       "      <td>34.12</td>\n",
       "      <td>56.54</td>\n",
       "      <td>188</td>\n",
       "      <td>104</td>\n",
       "      <td>32</td>\n",
       "      <td>84.1216</td>\n",
       "      <td>56.1</td>\n",
       "      <td>NaN</td>\n",
       "      <td>105.489</td>\n",
       "      <td>109</td>\n",
       "    </tr>\n",
       "    <tr>\n",
       "      <th>2014-01-01 02:00:00</th>\n",
       "      <td>137</td>\n",
       "      <td>94.3</td>\n",
       "      <td>NaN</td>\n",
       "      <td>121.63</td>\n",
       "      <td>NaN</td>\n",
       "      <td>210.365</td>\n",
       "      <td>70.3375</td>\n",
       "      <td>NaN</td>\n",
       "      <td>104</td>\n",
       "      <td>65</td>\n",
       "      <td>...</td>\n",
       "      <td>34.61</td>\n",
       "      <td>35.93</td>\n",
       "      <td>130</td>\n",
       "      <td>107</td>\n",
       "      <td>39</td>\n",
       "      <td>75.4444</td>\n",
       "      <td>55.2</td>\n",
       "      <td>82.5</td>\n",
       "      <td>149.797</td>\n",
       "      <td>118</td>\n",
       "    </tr>\n",
       "    <tr>\n",
       "      <th>2014-01-01 03:00:00</th>\n",
       "      <td>129</td>\n",
       "      <td>102.48</td>\n",
       "      <td>NaN</td>\n",
       "      <td>59.189</td>\n",
       "      <td>46.5652</td>\n",
       "      <td>66.4258</td>\n",
       "      <td>40.9157</td>\n",
       "      <td>NaN</td>\n",
       "      <td>91</td>\n",
       "      <td>63</td>\n",
       "      <td>...</td>\n",
       "      <td>33.58</td>\n",
       "      <td>34.36</td>\n",
       "      <td>138</td>\n",
       "      <td>114</td>\n",
       "      <td>43</td>\n",
       "      <td>34.4275</td>\n",
       "      <td>49.9</td>\n",
       "      <td>83</td>\n",
       "      <td>86.9602</td>\n",
       "      <td>120</td>\n",
       "    </tr>\n",
       "  </tbody>\n",
       "</table>\n",
       "<p>5 rows × 35 columns</p>\n",
       "</div>"
      ],
      "text/plain": [
       "                    DsWrocWisA KpAirpWiktorowo KpBydgPlPozn KpBydgWarszawska  \\\n",
       "Kod stacji                                                                     \n",
       "Wskaźnik                 PM2.5           PM2.5        PM2.5            PM2.5   \n",
       "Czas uśredniania            1g              1g           1g               1g   \n",
       "2014-01-01 01:00:00        152          104.56      116.214          140.857   \n",
       "2014-01-01 02:00:00        137            94.3          NaN           121.63   \n",
       "2014-01-01 03:00:00        129          102.48          NaN           59.189   \n",
       "\n",
       "                    KpTorunDziewulsk LdLodzWIOSACzernik LdZgierzWIOSAMielcza  \\\n",
       "Kod stacji                                                                     \n",
       "Wskaźnik                       PM2.5              PM2.5                PM2.5   \n",
       "Czas uśredniania                  1g                 1g                   1g   \n",
       "2014-01-01 01:00:00          52.4172            81.0293              119.696   \n",
       "2014-01-01 02:00:00              NaN            210.365              70.3375   \n",
       "2014-01-01 03:00:00          46.5652            66.4258              40.9157   \n",
       "\n",
       "                    LuZgoraWIOS_AUT MpKrakowWIOSAKra6117 MpKrakowWIOSBuja6119  \\\n",
       "Kod stacji                                                                      \n",
       "Wskaźnik                      PM2.5                PM2.5                PM2.5   \n",
       "Czas uśredniania                 1g                   1g                   1g   \n",
       "2014-01-01 01:00:00             NaN                  104                   78   \n",
       "2014-01-01 02:00:00             NaN                  104                   65   \n",
       "2014-01-01 03:00:00             NaN                   91                   63   \n",
       "\n",
       "                     ... SkMalogCemen3 SkPolanRuszcz SlGliwiGliw_mewy  \\\n",
       "Kod stacji           ...                                                \n",
       "Wskaźnik             ...         PM2.5         PM2.5            PM2.5   \n",
       "Czas uśredniania     ...            1g            1g               1g   \n",
       "2014-01-01 01:00:00  ...         34.12         56.54              188   \n",
       "2014-01-01 02:00:00  ...         34.61         35.93              130   \n",
       "2014-01-01 03:00:00  ...         33.58         34.36              138   \n",
       "\n",
       "                    SlKatowKato_kossu SlZlotyJano_lesni WmOlsztyWIOS_Puszkin  \\\n",
       "Kod stacji                                                                     \n",
       "Wskaźnik                        PM2.5             PM2.5                PM2.5   \n",
       "Czas uśredniania                   1g                1g                   1g   \n",
       "2014-01-01 01:00:00               104                32              84.1216   \n",
       "2014-01-01 02:00:00               107                39              75.4444   \n",
       "2014-01-01 03:00:00               114                43              34.4275   \n",
       "\n",
       "                    WpWKP001 WpWKPKalisz007/10 ZpSzczecin001 ZpSzczecin002  \n",
       "Kod stacji                                                                  \n",
       "Wskaźnik               PM2.5             PM2.5         PM2.5         PM2.5  \n",
       "Czas uśredniania          1g                1g            1g            1g  \n",
       "2014-01-01 01:00:00     56.1               NaN       105.489           109  \n",
       "2014-01-01 02:00:00     55.2              82.5       149.797           118  \n",
       "2014-01-01 03:00:00     49.9                83       86.9602           120  \n",
       "\n",
       "[5 rows x 35 columns]"
      ]
     },
     "execution_count": 2,
     "metadata": {},
     "output_type": "execute_result"
    }
   ],
   "source": [
    "dataset = pd.read_excel('2014_PM2.5_1g.xlsx', index_col=0)\n",
    "dataset.head()"
   ]
  },
  {
   "cell_type": "code",
   "execution_count": 3,
   "metadata": {},
   "outputs": [],
   "source": [
    "def select_columns_by_name(df, name):\n",
    "    idxs = pd.Series(df.columns).str.match(name)\n",
    "    idxs = idxs[idxs == True].index.sort_values()\n",
    "    return df.iloc[:, idxs]\n",
    "\n",
    "waw = select_columns_by_name(dataset, 'MzWar')"
   ]
  },
  {
   "cell_type": "code",
   "execution_count": 4,
   "metadata": {},
   "outputs": [
    {
     "data": {
      "text/html": [
       "<div>\n",
       "<style scoped>\n",
       "    .dataframe tbody tr th:only-of-type {\n",
       "        vertical-align: middle;\n",
       "    }\n",
       "\n",
       "    .dataframe tbody tr th {\n",
       "        vertical-align: top;\n",
       "    }\n",
       "\n",
       "    .dataframe thead th {\n",
       "        text-align: right;\n",
       "    }\n",
       "</style>\n",
       "<table border=\"1\" class=\"dataframe\">\n",
       "  <thead>\n",
       "    <tr style=\"text-align: right;\">\n",
       "      <th></th>\n",
       "      <th>MzWarNiepodKom</th>\n",
       "      <th>MzWarszUrsynow</th>\n",
       "    </tr>\n",
       "    <tr>\n",
       "      <th>Kod stacji</th>\n",
       "      <th></th>\n",
       "      <th></th>\n",
       "    </tr>\n",
       "  </thead>\n",
       "  <tbody>\n",
       "    <tr>\n",
       "      <th>Wskaźnik</th>\n",
       "      <td>PM2.5</td>\n",
       "      <td>PM2.5</td>\n",
       "    </tr>\n",
       "    <tr>\n",
       "      <th>Czas uśredniania</th>\n",
       "      <td>1g</td>\n",
       "      <td>1g</td>\n",
       "    </tr>\n",
       "    <tr>\n",
       "      <th>2014-01-01 01:00:00</th>\n",
       "      <td>100.326</td>\n",
       "      <td>63.49</td>\n",
       "    </tr>\n",
       "    <tr>\n",
       "      <th>2014-01-01 02:00:00</th>\n",
       "      <td>69.4124</td>\n",
       "      <td>36.28</td>\n",
       "    </tr>\n",
       "    <tr>\n",
       "      <th>2014-01-01 03:00:00</th>\n",
       "      <td>40.9679</td>\n",
       "      <td>30.77</td>\n",
       "    </tr>\n",
       "  </tbody>\n",
       "</table>\n",
       "</div>"
      ],
      "text/plain": [
       "                    MzWarNiepodKom MzWarszUrsynow\n",
       "Kod stacji                                       \n",
       "Wskaźnik                     PM2.5          PM2.5\n",
       "Czas uśredniania                1g             1g\n",
       "2014-01-01 01:00:00        100.326          63.49\n",
       "2014-01-01 02:00:00        69.4124          36.28\n",
       "2014-01-01 03:00:00        40.9679          30.77"
      ]
     },
     "execution_count": 4,
     "metadata": {},
     "output_type": "execute_result"
    }
   ],
   "source": [
    "waw.head()"
   ]
  },
  {
   "cell_type": "code",
   "execution_count": 5,
   "metadata": {},
   "outputs": [],
   "source": [
    "waw = waw.drop(\"Wskaźnik\", axis=0)\n",
    "waw = waw.drop(\"Czas uśredniania\", axis=0)\n"
   ]
  },
  {
   "cell_type": "code",
   "execution_count": 6,
   "metadata": {},
   "outputs": [],
   "source": [
    "for col in waw.select_dtypes(include=[object]).columns:\n",
    "    waw[col] = waw[col].replace(',', '.', regex=True).astype(float)"
   ]
  },
  {
   "cell_type": "code",
   "execution_count": 7,
   "metadata": {},
   "outputs": [
    {
     "data": {
      "text/html": [
       "<div>\n",
       "<style scoped>\n",
       "    .dataframe tbody tr th:only-of-type {\n",
       "        vertical-align: middle;\n",
       "    }\n",
       "\n",
       "    .dataframe tbody tr th {\n",
       "        vertical-align: top;\n",
       "    }\n",
       "\n",
       "    .dataframe thead th {\n",
       "        text-align: right;\n",
       "    }\n",
       "</style>\n",
       "<table border=\"1\" class=\"dataframe\">\n",
       "  <thead>\n",
       "    <tr style=\"text-align: right;\">\n",
       "      <th></th>\n",
       "      <th>MzWarNiepodKom</th>\n",
       "      <th>MzWarszUrsynow</th>\n",
       "    </tr>\n",
       "    <tr>\n",
       "      <th>Kod stacji</th>\n",
       "      <th></th>\n",
       "      <th></th>\n",
       "    </tr>\n",
       "  </thead>\n",
       "  <tbody>\n",
       "    <tr>\n",
       "      <th>2014-01-01 01:00:00</th>\n",
       "      <td>100.325798</td>\n",
       "      <td>63.49</td>\n",
       "    </tr>\n",
       "    <tr>\n",
       "      <th>2014-01-01 02:00:00</th>\n",
       "      <td>69.412430</td>\n",
       "      <td>36.28</td>\n",
       "    </tr>\n",
       "    <tr>\n",
       "      <th>2014-01-01 03:00:00</th>\n",
       "      <td>40.967861</td>\n",
       "      <td>30.77</td>\n",
       "    </tr>\n",
       "    <tr>\n",
       "      <th>2014-01-01 04:00:00</th>\n",
       "      <td>37.308937</td>\n",
       "      <td>31.69</td>\n",
       "    </tr>\n",
       "    <tr>\n",
       "      <th>2014-01-01 05:00:00</th>\n",
       "      <td>38.185955</td>\n",
       "      <td>36.86</td>\n",
       "    </tr>\n",
       "  </tbody>\n",
       "</table>\n",
       "</div>"
      ],
      "text/plain": [
       "                     MzWarNiepodKom  MzWarszUrsynow\n",
       "Kod stacji                                         \n",
       "2014-01-01 01:00:00      100.325798           63.49\n",
       "2014-01-01 02:00:00       69.412430           36.28\n",
       "2014-01-01 03:00:00       40.967861           30.77\n",
       "2014-01-01 04:00:00       37.308937           31.69\n",
       "2014-01-01 05:00:00       38.185955           36.86"
      ]
     },
     "execution_count": 7,
     "metadata": {},
     "output_type": "execute_result"
    }
   ],
   "source": [
    "waw.head()"
   ]
  },
  {
   "cell_type": "markdown",
   "metadata": {},
   "source": [
    "# Czy są puste wartości?"
   ]
  },
  {
   "cell_type": "code",
   "execution_count": 8,
   "metadata": {},
   "outputs": [
    {
     "data": {
      "text/plain": [
       "MzWarNiepodKom    616\n",
       "MzWarszUrsynow    179\n",
       "dtype: int64"
      ]
     },
     "execution_count": 8,
     "metadata": {},
     "output_type": "execute_result"
    }
   ],
   "source": [
    "waw.isnull().sum() # Są..."
   ]
  },
  {
   "cell_type": "markdown",
   "metadata": {},
   "source": [
    "# To może najprostsza metoda i strategia z pandas?"
   ]
  },
  {
   "cell_type": "code",
   "execution_count": 9,
   "metadata": {},
   "outputs": [],
   "source": [
    "waw_interpol = waw.interpolate(method='linear', axis=1, limit_direction='both')"
   ]
  },
  {
   "cell_type": "markdown",
   "metadata": {},
   "source": [
    "# Działa? Czy dalej są puste wartości?"
   ]
  },
  {
   "cell_type": "code",
   "execution_count": 10,
   "metadata": {},
   "outputs": [
    {
     "data": {
      "text/plain": [
       "MzWarNiepodKom    26\n",
       "MzWarszUrsynow    26\n",
       "dtype: int64"
      ]
     },
     "execution_count": 10,
     "metadata": {},
     "output_type": "execute_result"
    }
   ],
   "source": [
    "waw_interpol.isnull().sum()  # Są..."
   ]
  },
  {
   "cell_type": "markdown",
   "metadata": {},
   "source": [
    "# Co się stało?"
   ]
  },
  {
   "cell_type": "code",
   "execution_count": 11,
   "metadata": {},
   "outputs": [
    {
     "data": {
      "text/html": [
       "<div>\n",
       "<style scoped>\n",
       "    .dataframe tbody tr th:only-of-type {\n",
       "        vertical-align: middle;\n",
       "    }\n",
       "\n",
       "    .dataframe tbody tr th {\n",
       "        vertical-align: top;\n",
       "    }\n",
       "\n",
       "    .dataframe thead th {\n",
       "        text-align: right;\n",
       "    }\n",
       "</style>\n",
       "<table border=\"1\" class=\"dataframe\">\n",
       "  <thead>\n",
       "    <tr style=\"text-align: right;\">\n",
       "      <th></th>\n",
       "      <th>MzWarNiepodKom</th>\n",
       "      <th>MzWarszUrsynow</th>\n",
       "    </tr>\n",
       "    <tr>\n",
       "      <th>Kod stacji</th>\n",
       "      <th></th>\n",
       "      <th></th>\n",
       "    </tr>\n",
       "  </thead>\n",
       "  <tbody>\n",
       "    <tr>\n",
       "      <th>2014-08-14 08:00:00</th>\n",
       "      <td>NaN</td>\n",
       "      <td>NaN</td>\n",
       "    </tr>\n",
       "    <tr>\n",
       "      <th>2014-08-14 13:00:00</th>\n",
       "      <td>NaN</td>\n",
       "      <td>NaN</td>\n",
       "    </tr>\n",
       "    <tr>\n",
       "      <th>2014-08-18 11:00:00</th>\n",
       "      <td>NaN</td>\n",
       "      <td>NaN</td>\n",
       "    </tr>\n",
       "    <tr>\n",
       "      <th>2014-08-18 12:00:00</th>\n",
       "      <td>NaN</td>\n",
       "      <td>NaN</td>\n",
       "    </tr>\n",
       "    <tr>\n",
       "      <th>2014-08-18 13:00:00</th>\n",
       "      <td>NaN</td>\n",
       "      <td>NaN</td>\n",
       "    </tr>\n",
       "    <tr>\n",
       "      <th>2014-08-18 14:00:00</th>\n",
       "      <td>NaN</td>\n",
       "      <td>NaN</td>\n",
       "    </tr>\n",
       "    <tr>\n",
       "      <th>2014-08-18 15:00:00</th>\n",
       "      <td>NaN</td>\n",
       "      <td>NaN</td>\n",
       "    </tr>\n",
       "    <tr>\n",
       "      <th>2014-08-18 16:00:00</th>\n",
       "      <td>NaN</td>\n",
       "      <td>NaN</td>\n",
       "    </tr>\n",
       "    <tr>\n",
       "      <th>2014-08-18 17:00:00</th>\n",
       "      <td>NaN</td>\n",
       "      <td>NaN</td>\n",
       "    </tr>\n",
       "    <tr>\n",
       "      <th>2014-08-18 18:00:00</th>\n",
       "      <td>NaN</td>\n",
       "      <td>NaN</td>\n",
       "    </tr>\n",
       "  </tbody>\n",
       "</table>\n",
       "</div>"
      ],
      "text/plain": [
       "                     MzWarNiepodKom  MzWarszUrsynow\n",
       "Kod stacji                                         \n",
       "2014-08-14 08:00:00             NaN             NaN\n",
       "2014-08-14 13:00:00             NaN             NaN\n",
       "2014-08-18 11:00:00             NaN             NaN\n",
       "2014-08-18 12:00:00             NaN             NaN\n",
       "2014-08-18 13:00:00             NaN             NaN\n",
       "2014-08-18 14:00:00             NaN             NaN\n",
       "2014-08-18 15:00:00             NaN             NaN\n",
       "2014-08-18 16:00:00             NaN             NaN\n",
       "2014-08-18 17:00:00             NaN             NaN\n",
       "2014-08-18 18:00:00             NaN             NaN"
      ]
     },
     "execution_count": 11,
     "metadata": {},
     "output_type": "execute_result"
    }
   ],
   "source": [
    "waw_interpol[waw_interpol.isnull().any(axis=1)].head(10)"
   ]
  },
  {
   "cell_type": "markdown",
   "metadata": {},
   "source": [
    "#### To podejście zawodzi, gdy są duże \"luki\" (tj. sąsiadujące ze sobą puste komórki) w zbiorze danych!"
   ]
  },
  {
   "cell_type": "markdown",
   "metadata": {},
   "source": [
    "# Wypełnienie średnią z kolumny / medianą"
   ]
  },
  {
   "cell_type": "code",
   "execution_count": 12,
   "metadata": {},
   "outputs": [],
   "source": [
    "from sklearn.impute import SimpleImputer\n",
    "\n",
    "imp_mean = SimpleImputer( strategy='mean') # jeśli chcemy medianę, to 'median'\n",
    "imp_mean.fit(waw)\n",
    "imputed = imp_mean.transform(waw)"
   ]
  },
  {
   "cell_type": "code",
   "execution_count": 13,
   "metadata": {},
   "outputs": [
    {
     "data": {
      "text/plain": [
       "array([0, 0])"
      ]
     },
     "execution_count": 13,
     "metadata": {},
     "output_type": "execute_result"
    }
   ],
   "source": [
    "sum(np.isnan(imputed)) # jak widać, działa!"
   ]
  },
  {
   "cell_type": "markdown",
   "metadata": {},
   "source": [
    "#### Jest to proste, szybkie i dobrze działa na małych zbiorach danych - a taki właśnie tu mamy. Uwaga, nie wolno stosować do zbiorów, gdzie mamy zakodowane dane kategoryczne, bo 'dummy variables', oczywiście, to wszystko wyłożą. Dla danych kategorycznych analogicznym podejściem jest strategia 'most_frequent', która interpoluje najczęściej występującymi wartościami."
   ]
  },
  {
   "cell_type": "code",
   "execution_count": 17,
   "metadata": {},
   "outputs": [],
   "source": [
    "df_imputed = pd.DataFrame(imputed, columns=['MzWarNiepodKom', 'MzWarszUrsynow'], index=waw_interpol.index)"
   ]
  },
  {
   "cell_type": "code",
   "execution_count": 18,
   "metadata": {},
   "outputs": [],
   "source": [
    "df_imputed.to_csv('filled.csv')"
   ]
  }
 ],
 "metadata": {
  "kernelspec": {
   "display_name": "Python 3",
   "language": "python",
   "name": "python3"
  },
  "language_info": {
   "codemirror_mode": {
    "name": "ipython",
    "version": 3
   },
   "file_extension": ".py",
   "mimetype": "text/x-python",
   "name": "python",
   "nbconvert_exporter": "python",
   "pygments_lexer": "ipython3",
   "version": "3.7.2"
  },
  "varInspector": {
   "cols": {
    "lenName": 16,
    "lenType": 16,
    "lenVar": 40
   },
   "kernels_config": {
    "python": {
     "delete_cmd_postfix": "",
     "delete_cmd_prefix": "del ",
     "library": "var_list.py",
     "varRefreshCmd": "print(var_dic_list())"
    },
    "r": {
     "delete_cmd_postfix": ") ",
     "delete_cmd_prefix": "rm(",
     "library": "var_list.r",
     "varRefreshCmd": "cat(var_dic_list()) "
    }
   },
   "types_to_exclude": [
    "module",
    "function",
    "builtin_function_or_method",
    "instance",
    "_Feature"
   ],
   "window_display": false
  }
 },
 "nbformat": 4,
 "nbformat_minor": 2
}
