{
 "cells": [
  {
   "cell_type": "markdown",
   "metadata": {},
   "source": [
    "# settings"
   ]
  },
  {
   "cell_type": "code",
   "execution_count": 5,
   "metadata": {},
   "outputs": [],
   "source": [
    "import pandas as pd\n",
    "import numpy as np\n",
    "import warnings"
   ]
  },
  {
   "cell_type": "code",
   "execution_count": 6,
   "metadata": {},
   "outputs": [],
   "source": [
    "from datetime import datetime, timedelta"
   ]
  },
  {
   "cell_type": "code",
   "execution_count": 28,
   "metadata": {},
   "outputs": [],
   "source": [
    "import matplotlib.pyplot as plt"
   ]
  },
  {
   "cell_type": "code",
   "execution_count": 7,
   "metadata": {},
   "outputs": [],
   "source": [
    "import requests\n",
    "import json"
   ]
  },
  {
   "cell_type": "code",
   "execution_count": 3,
   "metadata": {},
   "outputs": [],
   "source": [
    "import pickle"
   ]
  },
  {
   "cell_type": "code",
   "execution_count": 8,
   "metadata": {},
   "outputs": [],
   "source": [
    "key = '68bd382ddb99350655bff0bbf00171ec'"
   ]
  },
  {
   "cell_type": "code",
   "execution_count": 9,
   "metadata": {},
   "outputs": [],
   "source": [
    "#timestamp day before yesterday\n",
    "times = int(datetime.timestamp(datetime.now()- timedelta(days = 2)))"
   ]
  },
  {
   "cell_type": "markdown",
   "metadata": {},
   "source": [
    "# model import"
   ]
  },
  {
   "cell_type": "code",
   "execution_count": 4,
   "metadata": {},
   "outputs": [],
   "source": [
    "#model_xgb = pickle.load(open('model/pm25_model_xgb.pkl', 'rb'))"
   ]
  },
  {
   "cell_type": "code",
   "execution_count": 30,
   "metadata": {},
   "outputs": [],
   "source": [
    "with open(f'model/pm25_model_xgb.pkl', 'rb') as f:\n",
    "    model_xgb = pickle.load(f)"
   ]
  },
  {
   "cell_type": "markdown",
   "metadata": {},
   "source": [
    "# data for forcast and chart"
   ]
  },
  {
   "cell_type": "markdown",
   "metadata": {},
   "source": [
    "### data from darksky"
   ]
  },
  {
   "cell_type": "code",
   "execution_count": 10,
   "metadata": {},
   "outputs": [],
   "source": [
    "dark_hour = []"
   ]
  },
  {
   "cell_type": "code",
   "execution_count": 11,
   "metadata": {},
   "outputs": [],
   "source": [
    "for i in range(5):\n",
    "    darksky = json.loads(requests.get('https://api.darksky.net/forecast/{}/52.2193,21.0047,{}'.format(key, times)).text)\n",
    "    dark_hour.extend(darksky['hourly']['data'])\n",
    "    times += 24*60*60"
   ]
  },
  {
   "cell_type": "code",
   "execution_count": 12,
   "metadata": {},
   "outputs": [
    {
     "data": {
      "text/html": [
       "<div>\n",
       "<style scoped>\n",
       "    .dataframe tbody tr th:only-of-type {\n",
       "        vertical-align: middle;\n",
       "    }\n",
       "\n",
       "    .dataframe tbody tr th {\n",
       "        vertical-align: top;\n",
       "    }\n",
       "\n",
       "    .dataframe thead th {\n",
       "        text-align: right;\n",
       "    }\n",
       "</style>\n",
       "<table border=\"1\" class=\"dataframe\">\n",
       "  <thead>\n",
       "    <tr style=\"text-align: right;\">\n",
       "      <th></th>\n",
       "      <th>apparentTemperature</th>\n",
       "      <th>cloudCover</th>\n",
       "      <th>dewPoint</th>\n",
       "      <th>humidity</th>\n",
       "      <th>icon</th>\n",
       "      <th>ozone</th>\n",
       "      <th>precipIntensity</th>\n",
       "      <th>precipProbability</th>\n",
       "      <th>precipType</th>\n",
       "      <th>pressure</th>\n",
       "      <th>summary</th>\n",
       "      <th>temperature</th>\n",
       "      <th>time</th>\n",
       "      <th>uvIndex</th>\n",
       "      <th>visibility</th>\n",
       "      <th>windBearing</th>\n",
       "      <th>windGust</th>\n",
       "      <th>windSpeed</th>\n",
       "    </tr>\n",
       "  </thead>\n",
       "  <tbody>\n",
       "    <tr>\n",
       "      <th>0</th>\n",
       "      <td>31.72</td>\n",
       "      <td>0.08</td>\n",
       "      <td>28.11</td>\n",
       "      <td>0.66</td>\n",
       "      <td>clear-night</td>\n",
       "      <td>337.8</td>\n",
       "      <td>0.0000</td>\n",
       "      <td>0.00</td>\n",
       "      <td>NaN</td>\n",
       "      <td>1005.6</td>\n",
       "      <td>Clear</td>\n",
       "      <td>38.32</td>\n",
       "      <td>1583449200</td>\n",
       "      <td>0</td>\n",
       "      <td>10.0</td>\n",
       "      <td>144</td>\n",
       "      <td>24.13</td>\n",
       "      <td>9.65</td>\n",
       "    </tr>\n",
       "    <tr>\n",
       "      <th>1</th>\n",
       "      <td>30.13</td>\n",
       "      <td>0.10</td>\n",
       "      <td>27.92</td>\n",
       "      <td>0.69</td>\n",
       "      <td>clear-night</td>\n",
       "      <td>334.2</td>\n",
       "      <td>0.0002</td>\n",
       "      <td>0.01</td>\n",
       "      <td>rain</td>\n",
       "      <td>1005.2</td>\n",
       "      <td>Clear</td>\n",
       "      <td>37.10</td>\n",
       "      <td>1583452800</td>\n",
       "      <td>0</td>\n",
       "      <td>10.0</td>\n",
       "      <td>140</td>\n",
       "      <td>24.94</td>\n",
       "      <td>9.82</td>\n",
       "    </tr>\n",
       "    <tr>\n",
       "      <th>2</th>\n",
       "      <td>29.91</td>\n",
       "      <td>0.09</td>\n",
       "      <td>28.20</td>\n",
       "      <td>0.71</td>\n",
       "      <td>clear-night</td>\n",
       "      <td>331.5</td>\n",
       "      <td>0.0000</td>\n",
       "      <td>0.00</td>\n",
       "      <td>NaN</td>\n",
       "      <td>1004.5</td>\n",
       "      <td>Clear</td>\n",
       "      <td>36.88</td>\n",
       "      <td>1583456400</td>\n",
       "      <td>0</td>\n",
       "      <td>10.0</td>\n",
       "      <td>134</td>\n",
       "      <td>24.89</td>\n",
       "      <td>9.72</td>\n",
       "    </tr>\n",
       "    <tr>\n",
       "      <th>3</th>\n",
       "      <td>29.26</td>\n",
       "      <td>0.10</td>\n",
       "      <td>28.01</td>\n",
       "      <td>0.71</td>\n",
       "      <td>clear-night</td>\n",
       "      <td>330.8</td>\n",
       "      <td>0.0000</td>\n",
       "      <td>0.00</td>\n",
       "      <td>NaN</td>\n",
       "      <td>1003.7</td>\n",
       "      <td>Clear</td>\n",
       "      <td>36.55</td>\n",
       "      <td>1583460000</td>\n",
       "      <td>0</td>\n",
       "      <td>10.0</td>\n",
       "      <td>129</td>\n",
       "      <td>24.47</td>\n",
       "      <td>10.22</td>\n",
       "    </tr>\n",
       "    <tr>\n",
       "      <th>4</th>\n",
       "      <td>28.42</td>\n",
       "      <td>0.14</td>\n",
       "      <td>27.91</td>\n",
       "      <td>0.72</td>\n",
       "      <td>clear-night</td>\n",
       "      <td>330.8</td>\n",
       "      <td>0.0000</td>\n",
       "      <td>0.00</td>\n",
       "      <td>NaN</td>\n",
       "      <td>1002.7</td>\n",
       "      <td>Clear</td>\n",
       "      <td>36.08</td>\n",
       "      <td>1583463600</td>\n",
       "      <td>0</td>\n",
       "      <td>10.0</td>\n",
       "      <td>127</td>\n",
       "      <td>24.44</td>\n",
       "      <td>10.80</td>\n",
       "    </tr>\n",
       "  </tbody>\n",
       "</table>\n",
       "</div>"
      ],
      "text/plain": [
       "   apparentTemperature  cloudCover  dewPoint  humidity         icon  ozone  \\\n",
       "0                31.72        0.08     28.11      0.66  clear-night  337.8   \n",
       "1                30.13        0.10     27.92      0.69  clear-night  334.2   \n",
       "2                29.91        0.09     28.20      0.71  clear-night  331.5   \n",
       "3                29.26        0.10     28.01      0.71  clear-night  330.8   \n",
       "4                28.42        0.14     27.91      0.72  clear-night  330.8   \n",
       "\n",
       "   precipIntensity  precipProbability precipType  pressure summary  \\\n",
       "0           0.0000               0.00        NaN    1005.6   Clear   \n",
       "1           0.0002               0.01       rain    1005.2   Clear   \n",
       "2           0.0000               0.00        NaN    1004.5   Clear   \n",
       "3           0.0000               0.00        NaN    1003.7   Clear   \n",
       "4           0.0000               0.00        NaN    1002.7   Clear   \n",
       "\n",
       "   temperature        time  uvIndex  visibility  windBearing  windGust  \\\n",
       "0        38.32  1583449200        0        10.0          144     24.13   \n",
       "1        37.10  1583452800        0        10.0          140     24.94   \n",
       "2        36.88  1583456400        0        10.0          134     24.89   \n",
       "3        36.55  1583460000        0        10.0          129     24.47   \n",
       "4        36.08  1583463600        0        10.0          127     24.44   \n",
       "\n",
       "   windSpeed  \n",
       "0       9.65  \n",
       "1       9.82  \n",
       "2       9.72  \n",
       "3      10.22  \n",
       "4      10.80  "
      ]
     },
     "execution_count": 12,
     "metadata": {},
     "output_type": "execute_result"
    }
   ],
   "source": [
    "table_hour = pd.DataFrame(dark_hour) \n",
    "table_hour.head()"
   ]
  },
  {
   "cell_type": "markdown",
   "metadata": {},
   "source": [
    "### checking if there are any missing variables"
   ]
  },
  {
   "cell_type": "code",
   "execution_count": 13,
   "metadata": {},
   "outputs": [
    {
     "data": {
      "text/plain": [
       "Index(['apparentTemperature', 'cloudCover', 'dewPoint', 'humidity', 'icon',\n",
       "       'ozone', 'precipIntensity', 'precipProbability', 'precipType',\n",
       "       'pressure', 'summary', 'temperature', 'time', 'uvIndex', 'visibility',\n",
       "       'windBearing', 'windGust', 'windSpeed'],\n",
       "      dtype='object')"
      ]
     },
     "execution_count": 13,
     "metadata": {},
     "output_type": "execute_result"
    }
   ],
   "source": [
    "table_hour.columns"
   ]
  },
  {
   "cell_type": "code",
   "execution_count": 14,
   "metadata": {},
   "outputs": [],
   "source": [
    "available_var = list(set(table_hour.columns) - set(['icon','ozone', 'summary', 'time', 'precipType']))\n",
    "missing_var = list(set(['apparentTemperature', 'cloudCover', 'dewPoint', 'humidity', \n",
    "         'precipAccumulation', 'precipIntensity', 'precipProbability',\n",
    "         'pressure', 'temperature',  'uvIndex',\n",
    "         'visibility', 'windBearing', 'windGust', 'windSpeed']) - set(available_var))"
   ]
  },
  {
   "cell_type": "code",
   "execution_count": 15,
   "metadata": {},
   "outputs": [],
   "source": [
    "if (len(missing_var)>0):\n",
    "    for var in missing_var:\n",
    "        table_hour[var] = 0"
   ]
  },
  {
   "cell_type": "markdown",
   "metadata": {},
   "source": [
    "### adding time variables"
   ]
  },
  {
   "cell_type": "code",
   "execution_count": 16,
   "metadata": {},
   "outputs": [],
   "source": [
    "table_hour['date'] = table_hour['time'].apply(lambda x: datetime.fromtimestamp(x))\n",
    "table_hour['year'] = table_hour['date'].apply(lambda x: x.year)\n",
    "table_hour['month'] = table_hour['date'].apply(lambda x: x.month)\n",
    "table_hour['day'] = table_hour['date'].apply(lambda x: x.day)\n",
    "table_hour['hour'] = table_hour['date'].apply(lambda x: x.hour)\n",
    "table_hour['day_of_week'] = table_hour['date'].apply(lambda x: x.isocalendar()[2])\n",
    "table_hour['no_of_week'] = table_hour['date'].apply(lambda x: x.isocalendar()[1])"
   ]
  },
  {
   "cell_type": "code",
   "execution_count": 17,
   "metadata": {},
   "outputs": [
    {
     "data": {
      "text/plain": [
       "Index(['apparentTemperature', 'cloudCover', 'dewPoint', 'humidity', 'icon',\n",
       "       'ozone', 'precipIntensity', 'precipProbability', 'precipType',\n",
       "       'pressure', 'summary', 'temperature', 'time', 'uvIndex', 'visibility',\n",
       "       'windBearing', 'windGust', 'windSpeed', 'precipAccumulation', 'date',\n",
       "       'year', 'month', 'day', 'hour', 'day_of_week', 'no_of_week'],\n",
       "      dtype='object')"
      ]
     },
     "execution_count": 17,
     "metadata": {},
     "output_type": "execute_result"
    }
   ],
   "source": [
    "table_hour.columns"
   ]
  },
  {
   "cell_type": "code",
   "execution_count": 18,
   "metadata": {},
   "outputs": [
    {
     "data": {
      "text/html": [
       "<div>\n",
       "<style scoped>\n",
       "    .dataframe tbody tr th:only-of-type {\n",
       "        vertical-align: middle;\n",
       "    }\n",
       "\n",
       "    .dataframe tbody tr th {\n",
       "        vertical-align: top;\n",
       "    }\n",
       "\n",
       "    .dataframe thead th {\n",
       "        text-align: right;\n",
       "    }\n",
       "</style>\n",
       "<table border=\"1\" class=\"dataframe\">\n",
       "  <thead>\n",
       "    <tr style=\"text-align: right;\">\n",
       "      <th></th>\n",
       "      <th>apparentTemperature</th>\n",
       "      <th>cloudCover</th>\n",
       "      <th>dewPoint</th>\n",
       "      <th>humidity</th>\n",
       "      <th>icon</th>\n",
       "      <th>ozone</th>\n",
       "      <th>precipIntensity</th>\n",
       "      <th>precipProbability</th>\n",
       "      <th>precipType</th>\n",
       "      <th>pressure</th>\n",
       "      <th>...</th>\n",
       "      <th>windGust</th>\n",
       "      <th>windSpeed</th>\n",
       "      <th>precipAccumulation</th>\n",
       "      <th>date</th>\n",
       "      <th>year</th>\n",
       "      <th>month</th>\n",
       "      <th>day</th>\n",
       "      <th>hour</th>\n",
       "      <th>day_of_week</th>\n",
       "      <th>no_of_week</th>\n",
       "    </tr>\n",
       "  </thead>\n",
       "  <tbody>\n",
       "    <tr>\n",
       "      <th>0</th>\n",
       "      <td>31.72</td>\n",
       "      <td>0.08</td>\n",
       "      <td>28.11</td>\n",
       "      <td>0.66</td>\n",
       "      <td>clear-night</td>\n",
       "      <td>337.8</td>\n",
       "      <td>0.0000</td>\n",
       "      <td>0.00</td>\n",
       "      <td>NaN</td>\n",
       "      <td>1005.6</td>\n",
       "      <td>...</td>\n",
       "      <td>24.13</td>\n",
       "      <td>9.65</td>\n",
       "      <td>0</td>\n",
       "      <td>2020-03-06 00:00:00</td>\n",
       "      <td>2020</td>\n",
       "      <td>3</td>\n",
       "      <td>6</td>\n",
       "      <td>0</td>\n",
       "      <td>5</td>\n",
       "      <td>10</td>\n",
       "    </tr>\n",
       "    <tr>\n",
       "      <th>1</th>\n",
       "      <td>30.13</td>\n",
       "      <td>0.10</td>\n",
       "      <td>27.92</td>\n",
       "      <td>0.69</td>\n",
       "      <td>clear-night</td>\n",
       "      <td>334.2</td>\n",
       "      <td>0.0002</td>\n",
       "      <td>0.01</td>\n",
       "      <td>rain</td>\n",
       "      <td>1005.2</td>\n",
       "      <td>...</td>\n",
       "      <td>24.94</td>\n",
       "      <td>9.82</td>\n",
       "      <td>0</td>\n",
       "      <td>2020-03-06 01:00:00</td>\n",
       "      <td>2020</td>\n",
       "      <td>3</td>\n",
       "      <td>6</td>\n",
       "      <td>1</td>\n",
       "      <td>5</td>\n",
       "      <td>10</td>\n",
       "    </tr>\n",
       "    <tr>\n",
       "      <th>2</th>\n",
       "      <td>29.91</td>\n",
       "      <td>0.09</td>\n",
       "      <td>28.20</td>\n",
       "      <td>0.71</td>\n",
       "      <td>clear-night</td>\n",
       "      <td>331.5</td>\n",
       "      <td>0.0000</td>\n",
       "      <td>0.00</td>\n",
       "      <td>NaN</td>\n",
       "      <td>1004.5</td>\n",
       "      <td>...</td>\n",
       "      <td>24.89</td>\n",
       "      <td>9.72</td>\n",
       "      <td>0</td>\n",
       "      <td>2020-03-06 02:00:00</td>\n",
       "      <td>2020</td>\n",
       "      <td>3</td>\n",
       "      <td>6</td>\n",
       "      <td>2</td>\n",
       "      <td>5</td>\n",
       "      <td>10</td>\n",
       "    </tr>\n",
       "    <tr>\n",
       "      <th>3</th>\n",
       "      <td>29.26</td>\n",
       "      <td>0.10</td>\n",
       "      <td>28.01</td>\n",
       "      <td>0.71</td>\n",
       "      <td>clear-night</td>\n",
       "      <td>330.8</td>\n",
       "      <td>0.0000</td>\n",
       "      <td>0.00</td>\n",
       "      <td>NaN</td>\n",
       "      <td>1003.7</td>\n",
       "      <td>...</td>\n",
       "      <td>24.47</td>\n",
       "      <td>10.22</td>\n",
       "      <td>0</td>\n",
       "      <td>2020-03-06 03:00:00</td>\n",
       "      <td>2020</td>\n",
       "      <td>3</td>\n",
       "      <td>6</td>\n",
       "      <td>3</td>\n",
       "      <td>5</td>\n",
       "      <td>10</td>\n",
       "    </tr>\n",
       "    <tr>\n",
       "      <th>4</th>\n",
       "      <td>28.42</td>\n",
       "      <td>0.14</td>\n",
       "      <td>27.91</td>\n",
       "      <td>0.72</td>\n",
       "      <td>clear-night</td>\n",
       "      <td>330.8</td>\n",
       "      <td>0.0000</td>\n",
       "      <td>0.00</td>\n",
       "      <td>NaN</td>\n",
       "      <td>1002.7</td>\n",
       "      <td>...</td>\n",
       "      <td>24.44</td>\n",
       "      <td>10.80</td>\n",
       "      <td>0</td>\n",
       "      <td>2020-03-06 04:00:00</td>\n",
       "      <td>2020</td>\n",
       "      <td>3</td>\n",
       "      <td>6</td>\n",
       "      <td>4</td>\n",
       "      <td>5</td>\n",
       "      <td>10</td>\n",
       "    </tr>\n",
       "  </tbody>\n",
       "</table>\n",
       "<p>5 rows × 26 columns</p>\n",
       "</div>"
      ],
      "text/plain": [
       "   apparentTemperature  cloudCover  dewPoint  humidity         icon  ozone  \\\n",
       "0                31.72        0.08     28.11      0.66  clear-night  337.8   \n",
       "1                30.13        0.10     27.92      0.69  clear-night  334.2   \n",
       "2                29.91        0.09     28.20      0.71  clear-night  331.5   \n",
       "3                29.26        0.10     28.01      0.71  clear-night  330.8   \n",
       "4                28.42        0.14     27.91      0.72  clear-night  330.8   \n",
       "\n",
       "   precipIntensity  precipProbability precipType  pressure  ... windGust  \\\n",
       "0           0.0000               0.00        NaN    1005.6  ...    24.13   \n",
       "1           0.0002               0.01       rain    1005.2  ...    24.94   \n",
       "2           0.0000               0.00        NaN    1004.5  ...    24.89   \n",
       "3           0.0000               0.00        NaN    1003.7  ...    24.47   \n",
       "4           0.0000               0.00        NaN    1002.7  ...    24.44   \n",
       "\n",
       "   windSpeed  precipAccumulation                date  year  month  day  hour  \\\n",
       "0       9.65                   0 2020-03-06 00:00:00  2020      3    6     0   \n",
       "1       9.82                   0 2020-03-06 01:00:00  2020      3    6     1   \n",
       "2       9.72                   0 2020-03-06 02:00:00  2020      3    6     2   \n",
       "3      10.22                   0 2020-03-06 03:00:00  2020      3    6     3   \n",
       "4      10.80                   0 2020-03-06 04:00:00  2020      3    6     4   \n",
       "\n",
       "   day_of_week no_of_week  \n",
       "0            5         10  \n",
       "1            5         10  \n",
       "2            5         10  \n",
       "3            5         10  \n",
       "4            5         10  \n",
       "\n",
       "[5 rows x 26 columns]"
      ]
     },
     "execution_count": 18,
     "metadata": {},
     "output_type": "execute_result"
    }
   ],
   "source": [
    "table_hour.head()"
   ]
  },
  {
   "cell_type": "markdown",
   "metadata": {},
   "source": [
    "### handling missing data"
   ]
  },
  {
   "cell_type": "code",
   "execution_count": 19,
   "metadata": {},
   "outputs": [],
   "source": [
    "# interpolate\n",
    "cols=[ 'apparentTemperature', 'cloudCover', 'dewPoint',\n",
    "       'humidity',  'precipType', 'pressure', 'temperature',\n",
    "       'time', 'uvIndex', 'visibility', 'windBearing',\n",
    "       'windSpeed']\n",
    "\n",
    "for col in cols:\n",
    "    table_hour[col] = table_hour[col].interpolate(limit_direction='both')"
   ]
  },
  {
   "cell_type": "code",
   "execution_count": 20,
   "metadata": {},
   "outputs": [],
   "source": [
    "# fill with 0\n",
    "cols=['precipAccumulation','precipIntensity','precipProbability']\n",
    "\n",
    "for col in cols:\n",
    "    table_hour[col] = table_hour[col].fillna(0)"
   ]
  },
  {
   "cell_type": "code",
   "execution_count": 21,
   "metadata": {},
   "outputs": [],
   "source": [
    "# value from another column\n",
    "table_hour['windGust'] = table_hour['windGust'].fillna(table_hour['windSpeed'])"
   ]
  },
  {
   "cell_type": "markdown",
   "metadata": {},
   "source": [
    "### prediction"
   ]
  },
  {
   "cell_type": "code",
   "execution_count": 22,
   "metadata": {},
   "outputs": [],
   "source": [
    "feats = ['apparentTemperature', 'cloudCover', 'dewPoint', 'humidity', \n",
    "         'precipAccumulation', 'precipIntensity', 'precipProbability',\n",
    "         'pressure', 'temperature',  'uvIndex',\n",
    "         'visibility', 'windBearing', 'windGust', 'windSpeed',\n",
    "         'year', 'month', 'day',  'hour', 'day_of_week', 'no_of_week']"
   ]
  },
  {
   "cell_type": "code",
   "execution_count": 23,
   "metadata": {},
   "outputs": [],
   "source": [
    "prediction_xgb = np.exp(model_xgb.predict(table_hour[feats].values))"
   ]
  },
  {
   "cell_type": "code",
   "execution_count": 24,
   "metadata": {},
   "outputs": [],
   "source": [
    "table_hour['pred_xgb'] = prediction_xgb"
   ]
  },
  {
   "cell_type": "code",
   "execution_count": 33,
   "metadata": {},
   "outputs": [
    {
     "data": {
      "text/html": [
       "<div>\n",
       "<style scoped>\n",
       "    .dataframe tbody tr th:only-of-type {\n",
       "        vertical-align: middle;\n",
       "    }\n",
       "\n",
       "    .dataframe tbody tr th {\n",
       "        vertical-align: top;\n",
       "    }\n",
       "\n",
       "    .dataframe thead th {\n",
       "        text-align: right;\n",
       "    }\n",
       "</style>\n",
       "<table border=\"1\" class=\"dataframe\">\n",
       "  <thead>\n",
       "    <tr style=\"text-align: right;\">\n",
       "      <th></th>\n",
       "      <th>date</th>\n",
       "      <th>value</th>\n",
       "    </tr>\n",
       "  </thead>\n",
       "  <tbody>\n",
       "    <tr>\n",
       "      <th>0</th>\n",
       "      <td>2020-03-06 00:00:00</td>\n",
       "      <td>4078</td>\n",
       "    </tr>\n",
       "    <tr>\n",
       "      <th>1</th>\n",
       "      <td>2020-03-06 01:00:00</td>\n",
       "      <td>3947</td>\n",
       "    </tr>\n",
       "    <tr>\n",
       "      <th>2</th>\n",
       "      <td>2020-03-06 02:00:00</td>\n",
       "      <td>3698</td>\n",
       "    </tr>\n",
       "    <tr>\n",
       "      <th>3</th>\n",
       "      <td>2020-03-06 03:00:00</td>\n",
       "      <td>3883</td>\n",
       "    </tr>\n",
       "    <tr>\n",
       "      <th>4</th>\n",
       "      <td>2020-03-06 04:00:00</td>\n",
       "      <td>3594</td>\n",
       "    </tr>\n",
       "  </tbody>\n",
       "</table>\n",
       "</div>"
      ],
      "text/plain": [
       "                 date  value\n",
       "0 2020-03-06 00:00:00   4078\n",
       "1 2020-03-06 01:00:00   3947\n",
       "2 2020-03-06 02:00:00   3698\n",
       "3 2020-03-06 03:00:00   3883\n",
       "4 2020-03-06 04:00:00   3594"
      ]
     },
     "execution_count": 33,
     "metadata": {},
     "output_type": "execute_result"
    }
   ],
   "source": [
    "chart_data1 = pd.DataFrame(data={\n",
    "            'date' : table_hour['date'],\n",
    "            'value' : (prediction_xgb * 100).astype(int),\n",
    "        })\n",
    "chart_data1.head()"
   ]
  },
  {
   "cell_type": "code",
   "execution_count": 34,
   "metadata": {},
   "outputs": [
    {
     "data": {
      "text/plain": [
       "[{'date': Timestamp('2020-03-06 00:00:00'), 'value': 4078},\n",
       " {'date': Timestamp('2020-03-06 01:00:00'), 'value': 3947},\n",
       " {'date': Timestamp('2020-03-06 02:00:00'), 'value': 3698},\n",
       " {'date': Timestamp('2020-03-06 03:00:00'), 'value': 3883},\n",
       " {'date': Timestamp('2020-03-06 04:00:00'), 'value': 3594},\n",
       " {'date': Timestamp('2020-03-06 05:00:00'), 'value': 3400},\n",
       " {'date': Timestamp('2020-03-06 06:00:00'), 'value': 3460},\n",
       " {'date': Timestamp('2020-03-06 07:00:00'), 'value': 3084},\n",
       " {'date': Timestamp('2020-03-06 08:00:00'), 'value': 3032},\n",
       " {'date': Timestamp('2020-03-06 09:00:00'), 'value': 2717},\n",
       " {'date': Timestamp('2020-03-06 10:00:00'), 'value': 2717},\n",
       " {'date': Timestamp('2020-03-06 11:00:00'), 'value': 2794},\n",
       " {'date': Timestamp('2020-03-06 12:00:00'), 'value': 2319},\n",
       " {'date': Timestamp('2020-03-06 13:00:00'), 'value': 2071},\n",
       " {'date': Timestamp('2020-03-06 14:00:00'), 'value': 2196},\n",
       " {'date': Timestamp('2020-03-06 15:00:00'), 'value': 2203},\n",
       " {'date': Timestamp('2020-03-06 16:00:00'), 'value': 2465},\n",
       " {'date': Timestamp('2020-03-06 17:00:00'), 'value': 2377},\n",
       " {'date': Timestamp('2020-03-06 18:00:00'), 'value': 2455},\n",
       " {'date': Timestamp('2020-03-06 19:00:00'), 'value': 2774},\n",
       " {'date': Timestamp('2020-03-06 20:00:00'), 'value': 2835},\n",
       " {'date': Timestamp('2020-03-06 21:00:00'), 'value': 2898},\n",
       " {'date': Timestamp('2020-03-06 22:00:00'), 'value': 3080},\n",
       " {'date': Timestamp('2020-03-06 23:00:00'), 'value': 3086},\n",
       " {'date': Timestamp('2020-03-07 00:00:00'), 'value': 3862},\n",
       " {'date': Timestamp('2020-03-07 01:00:00'), 'value': 3494},\n",
       " {'date': Timestamp('2020-03-07 02:00:00'), 'value': 3494},\n",
       " {'date': Timestamp('2020-03-07 03:00:00'), 'value': 3555},\n",
       " {'date': Timestamp('2020-03-07 04:00:00'), 'value': 3261},\n",
       " {'date': Timestamp('2020-03-07 05:00:00'), 'value': 3231},\n",
       " {'date': Timestamp('2020-03-07 06:00:00'), 'value': 2924},\n",
       " {'date': Timestamp('2020-03-07 07:00:00'), 'value': 2852},\n",
       " {'date': Timestamp('2020-03-07 08:00:00'), 'value': 2786},\n",
       " {'date': Timestamp('2020-03-07 09:00:00'), 'value': 2906},\n",
       " {'date': Timestamp('2020-03-07 10:00:00'), 'value': 2717},\n",
       " {'date': Timestamp('2020-03-07 11:00:00'), 'value': 2590},\n",
       " {'date': Timestamp('2020-03-07 12:00:00'), 'value': 2472},\n",
       " {'date': Timestamp('2020-03-07 13:00:00'), 'value': 2607},\n",
       " {'date': Timestamp('2020-03-07 14:00:00'), 'value': 2386},\n",
       " {'date': Timestamp('2020-03-07 15:00:00'), 'value': 2542},\n",
       " {'date': Timestamp('2020-03-07 16:00:00'), 'value': 2147},\n",
       " {'date': Timestamp('2020-03-07 17:00:00'), 'value': 2577},\n",
       " {'date': Timestamp('2020-03-07 18:00:00'), 'value': 2700},\n",
       " {'date': Timestamp('2020-03-07 19:00:00'), 'value': 2829},\n",
       " {'date': Timestamp('2020-03-07 20:00:00'), 'value': 3220},\n",
       " {'date': Timestamp('2020-03-07 21:00:00'), 'value': 3237},\n",
       " {'date': Timestamp('2020-03-07 22:00:00'), 'value': 3290},\n",
       " {'date': Timestamp('2020-03-07 23:00:00'), 'value': 3291},\n",
       " {'date': Timestamp('2020-03-08 00:00:00'), 'value': 3248},\n",
       " {'date': Timestamp('2020-03-08 01:00:00'), 'value': 3298},\n",
       " {'date': Timestamp('2020-03-08 02:00:00'), 'value': 3707},\n",
       " {'date': Timestamp('2020-03-08 03:00:00'), 'value': 2971},\n",
       " {'date': Timestamp('2020-03-08 04:00:00'), 'value': 2769},\n",
       " {'date': Timestamp('2020-03-08 05:00:00'), 'value': 2587},\n",
       " {'date': Timestamp('2020-03-08 06:00:00'), 'value': 2647},\n",
       " {'date': Timestamp('2020-03-08 07:00:00'), 'value': 2509},\n",
       " {'date': Timestamp('2020-03-08 08:00:00'), 'value': 2380},\n",
       " {'date': Timestamp('2020-03-08 09:00:00'), 'value': 2608},\n",
       " {'date': Timestamp('2020-03-08 10:00:00'), 'value': 2351},\n",
       " {'date': Timestamp('2020-03-08 11:00:00'), 'value': 2154},\n",
       " {'date': Timestamp('2020-03-08 12:00:00'), 'value': 2746},\n",
       " {'date': Timestamp('2020-03-08 13:00:00'), 'value': 2452},\n",
       " {'date': Timestamp('2020-03-08 14:00:00'), 'value': 2765},\n",
       " {'date': Timestamp('2020-03-08 15:00:00'), 'value': 2492},\n",
       " {'date': Timestamp('2020-03-08 16:00:00'), 'value': 2853},\n",
       " {'date': Timestamp('2020-03-08 17:00:00'), 'value': 2832},\n",
       " {'date': Timestamp('2020-03-08 18:00:00'), 'value': 3402},\n",
       " {'date': Timestamp('2020-03-08 19:00:00'), 'value': 4217},\n",
       " {'date': Timestamp('2020-03-08 20:00:00'), 'value': 4513},\n",
       " {'date': Timestamp('2020-03-08 21:00:00'), 'value': 4651},\n",
       " {'date': Timestamp('2020-03-08 22:00:00'), 'value': 4550},\n",
       " {'date': Timestamp('2020-03-08 23:00:00'), 'value': 4743},\n",
       " {'date': Timestamp('2020-03-09 00:00:00'), 'value': 4896},\n",
       " {'date': Timestamp('2020-03-09 01:00:00'), 'value': 4440},\n",
       " {'date': Timestamp('2020-03-09 02:00:00'), 'value': 4136},\n",
       " {'date': Timestamp('2020-03-09 03:00:00'), 'value': 4158},\n",
       " {'date': Timestamp('2020-03-09 04:00:00'), 'value': 4585},\n",
       " {'date': Timestamp('2020-03-09 05:00:00'), 'value': 4659},\n",
       " {'date': Timestamp('2020-03-09 06:00:00'), 'value': 4920},\n",
       " {'date': Timestamp('2020-03-09 07:00:00'), 'value': 4233},\n",
       " {'date': Timestamp('2020-03-09 08:00:00'), 'value': 3980},\n",
       " {'date': Timestamp('2020-03-09 09:00:00'), 'value': 3297},\n",
       " {'date': Timestamp('2020-03-09 10:00:00'), 'value': 2913},\n",
       " {'date': Timestamp('2020-03-09 11:00:00'), 'value': 2882},\n",
       " {'date': Timestamp('2020-03-09 12:00:00'), 'value': 3010},\n",
       " {'date': Timestamp('2020-03-09 13:00:00'), 'value': 3226},\n",
       " {'date': Timestamp('2020-03-09 14:00:00'), 'value': 3252},\n",
       " {'date': Timestamp('2020-03-09 15:00:00'), 'value': 3433},\n",
       " {'date': Timestamp('2020-03-09 16:00:00'), 'value': 3903},\n",
       " {'date': Timestamp('2020-03-09 17:00:00'), 'value': 3795},\n",
       " {'date': Timestamp('2020-03-09 18:00:00'), 'value': 3323},\n",
       " {'date': Timestamp('2020-03-09 19:00:00'), 'value': 3400},\n",
       " {'date': Timestamp('2020-03-09 20:00:00'), 'value': 3365},\n",
       " {'date': Timestamp('2020-03-09 21:00:00'), 'value': 4029},\n",
       " {'date': Timestamp('2020-03-09 22:00:00'), 'value': 3848},\n",
       " {'date': Timestamp('2020-03-09 23:00:00'), 'value': 4214},\n",
       " {'date': Timestamp('2020-03-10 00:00:00'), 'value': 5701},\n",
       " {'date': Timestamp('2020-03-10 01:00:00'), 'value': 5653},\n",
       " {'date': Timestamp('2020-03-10 02:00:00'), 'value': 4778},\n",
       " {'date': Timestamp('2020-03-10 03:00:00'), 'value': 4308},\n",
       " {'date': Timestamp('2020-03-10 04:00:00'), 'value': 4019},\n",
       " {'date': Timestamp('2020-03-10 05:00:00'), 'value': 3534},\n",
       " {'date': Timestamp('2020-03-10 06:00:00'), 'value': 3581},\n",
       " {'date': Timestamp('2020-03-10 07:00:00'), 'value': 3912},\n",
       " {'date': Timestamp('2020-03-10 08:00:00'), 'value': 3692},\n",
       " {'date': Timestamp('2020-03-10 09:00:00'), 'value': 3604},\n",
       " {'date': Timestamp('2020-03-10 10:00:00'), 'value': 3687},\n",
       " {'date': Timestamp('2020-03-10 11:00:00'), 'value': 3174},\n",
       " {'date': Timestamp('2020-03-10 12:00:00'), 'value': 2935},\n",
       " {'date': Timestamp('2020-03-10 13:00:00'), 'value': 3042},\n",
       " {'date': Timestamp('2020-03-10 14:00:00'), 'value': 2940},\n",
       " {'date': Timestamp('2020-03-10 15:00:00'), 'value': 2953},\n",
       " {'date': Timestamp('2020-03-10 16:00:00'), 'value': 3454},\n",
       " {'date': Timestamp('2020-03-10 17:00:00'), 'value': 3414},\n",
       " {'date': Timestamp('2020-03-10 18:00:00'), 'value': 3149},\n",
       " {'date': Timestamp('2020-03-10 19:00:00'), 'value': 2681},\n",
       " {'date': Timestamp('2020-03-10 20:00:00'), 'value': 2837},\n",
       " {'date': Timestamp('2020-03-10 21:00:00'), 'value': 2980},\n",
       " {'date': Timestamp('2020-03-10 22:00:00'), 'value': 2908},\n",
       " {'date': Timestamp('2020-03-10 23:00:00'), 'value': 2373}]"
      ]
     },
     "execution_count": 34,
     "metadata": {},
     "output_type": "execute_result"
    }
   ],
   "source": [
    "chart_data1.to_dict('records')"
   ]
  },
  {
   "cell_type": "markdown",
   "metadata": {},
   "source": [
    "### GIOŚ data for PM2.5"
   ]
  },
  {
   "cell_type": "code",
   "execution_count": 25,
   "metadata": {},
   "outputs": [],
   "source": [
    "gios_nie = json.loads(requests.get('http://api.gios.gov.pl/pjp-api/rest/data/getData/3585').text)"
   ]
  },
  {
   "cell_type": "code",
   "execution_count": 26,
   "metadata": {},
   "outputs": [
    {
     "data": {
      "text/html": [
       "<div>\n",
       "<style scoped>\n",
       "    .dataframe tbody tr th:only-of-type {\n",
       "        vertical-align: middle;\n",
       "    }\n",
       "\n",
       "    .dataframe tbody tr th {\n",
       "        vertical-align: top;\n",
       "    }\n",
       "\n",
       "    .dataframe thead th {\n",
       "        text-align: right;\n",
       "    }\n",
       "</style>\n",
       "<table border=\"1\" class=\"dataframe\">\n",
       "  <thead>\n",
       "    <tr style=\"text-align: right;\">\n",
       "      <th></th>\n",
       "      <th>date</th>\n",
       "      <th>value</th>\n",
       "    </tr>\n",
       "  </thead>\n",
       "  <tbody>\n",
       "    <tr>\n",
       "      <th>0</th>\n",
       "      <td>2020-03-08 17:00:00</td>\n",
       "      <td>25.71</td>\n",
       "    </tr>\n",
       "    <tr>\n",
       "      <th>1</th>\n",
       "      <td>2020-03-08 16:00:00</td>\n",
       "      <td>23.18</td>\n",
       "    </tr>\n",
       "    <tr>\n",
       "      <th>2</th>\n",
       "      <td>2020-03-08 15:00:00</td>\n",
       "      <td>22.05</td>\n",
       "    </tr>\n",
       "    <tr>\n",
       "      <th>3</th>\n",
       "      <td>2020-03-08 14:00:00</td>\n",
       "      <td>23.79</td>\n",
       "    </tr>\n",
       "    <tr>\n",
       "      <th>4</th>\n",
       "      <td>2020-03-08 13:00:00</td>\n",
       "      <td>23.46</td>\n",
       "    </tr>\n",
       "  </tbody>\n",
       "</table>\n",
       "</div>"
      ],
      "text/plain": [
       "                 date  value\n",
       "0 2020-03-08 17:00:00  25.71\n",
       "1 2020-03-08 16:00:00  23.18\n",
       "2 2020-03-08 15:00:00  22.05\n",
       "3 2020-03-08 14:00:00  23.79\n",
       "4 2020-03-08 13:00:00  23.46"
      ]
     },
     "execution_count": 26,
     "metadata": {},
     "output_type": "execute_result"
    }
   ],
   "source": [
    "gios_nie = pd.DataFrame(gios_now_nie['values']) \n",
    "gios_nie['value'] = gios_now_nie['value'].interpolate(limit_direction='both')\n",
    "gios_nie['date'] = gios_now_nie['date'].apply(lambda x: datetime.strptime(x, '%Y-%m-%d %H:%M:%S'))\n",
    "gios_nie.head()"
   ]
  },
  {
   "cell_type": "markdown",
   "metadata": {},
   "source": [
    "# chart"
   ]
  },
  {
   "cell_type": "code",
   "execution_count": 29,
   "metadata": {},
   "outputs": [
    {
     "data": {
      "image/png": "[encoded data removed]",
      "text/plain": [
       "<Figure size 1440x720 with 1 Axes>"
      ]
     },
     "metadata": {
      "needs_background": "light"
     },
     "output_type": "display_data"
    }
   ],
   "source": [
    "plt.figure(figsize=(20,10))\n",
    "plt.plot(table_hour['date'], table_hour['pred_xgb'], color='red') #forcast\n",
    "plt.plot(gios_nie['date'], gios_nie['value'], color='blue', linewidth = 4) #actual\n",
    "\n",
    "plt.title('PM25_Niepodległości')\n",
    "plt.show()"
   ]
  },
  {
   "cell_type": "code",
   "execution_count": null,
   "metadata": {},
   "outputs": [],
   "source": []
  }
 ],
 "metadata": {
  "kernelspec": {
   "display_name": "Python 3",
   "language": "python",
   "name": "python3"
  },
  "language_info": {
   "codemirror_mode": {
    "name": "ipython",
    "version": 3
   },
   "file_extension": ".py",
   "mimetype": "text/x-python",
   "name": "python",
   "nbconvert_exporter": "python",
   "pygments_lexer": "ipython3",
   "version": "3.7.1"
  }
 },
 "nbformat": 4,
 "nbformat_minor": 2
}
